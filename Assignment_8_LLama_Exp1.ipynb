{
  "cells": [
    {
      "cell_type": "markdown",
      "metadata": {
        "id": "view-in-github",
        "colab_type": "text"
      },
      "source": [
        "<a href=\"https://colab.research.google.com/github/vondervish/Emotion_Detection_Roberta/blob/main/Assignment_8_LLama_Exp1.ipynb\" target=\"_parent\"><img src=\"https://colab.research.google.com/assets/colab-badge.svg\" alt=\"Open In Colab\"/></a>"
      ]
    },
    {
      "cell_type": "markdown",
      "metadata": {
        "id": "fvgVck7bvNKU"
      },
      "source": [
        "# <font color = 'indianred'>**Multilabel Classification of Emotion Dataset using Llama-Base model** </font>"
      ]
    },
    {
      "cell_type": "code",
      "execution_count": null,
      "metadata": {
        "colab": {
          "base_uri": "https://localhost:8080/"
        },
        "id": "E0OsfhcBsN54",
        "outputId": "b0c82d4a-47f0-4dcc-f3cc-5034c026fef0"
      },
      "outputs": [
        {
          "output_type": "stream",
          "name": "stdout",
          "text": [
            "2.5.1+cu121\n"
          ]
        }
      ],
      "source": [
        "import torch\n",
        "print(torch.__version__)"
      ]
    },
    {
      "cell_type": "code",
      "execution_count": null,
      "metadata": {
        "colab": {
          "base_uri": "https://localhost:8080/"
        },
        "id": "XDjyvQQmvgOZ",
        "outputId": "15861677-0ebd-4047-e808-ea514ef73363"
      },
      "outputs": [
        {
          "output_type": "stream",
          "name": "stdout",
          "text": [
            "Python 3.10.12\n"
          ]
        }
      ],
      "source": [
        "!python --version"
      ]
    },
    {
      "cell_type": "markdown",
      "metadata": {
        "id": "Dxg6Lk_svnfg"
      },
      "source": [
        "# <font color = 'indianred'> **1. Setting up the Environment** </font>"
      ]
    },
    {
      "cell_type": "code",
      "execution_count": null,
      "metadata": {
        "colab": {
          "base_uri": "https://localhost:8080/"
        },
        "id": "y9dmn6dBvkl2",
        "outputId": "a584ff3e-02ec-4043-c526-e4f499d05325"
      },
      "outputs": [
        {
          "output_type": "stream",
          "name": "stdout",
          "text": [
            "Mounted at /content/drive\n",
            "\u001b[2K     \u001b[90m━━━━━━━━━━━━━━━━━━━━━━━━━━━━━━━━━━━━━━━━\u001b[0m \u001b[32m43.5/43.5 kB\u001b[0m \u001b[31m3.0 MB/s\u001b[0m eta \u001b[36m0:00:00\u001b[0m\n",
            "\u001b[2K   \u001b[90m━━━━━━━━━━━━━━━━━━━━━━━━━━━━━━━━━━━━━━━━\u001b[0m \u001b[32m84.0/84.0 kB\u001b[0m \u001b[31m8.1 MB/s\u001b[0m eta \u001b[36m0:00:00\u001b[0m\n",
            "\u001b[2K   \u001b[90m━━━━━━━━━━━━━━━━━━━━━━━━━━━━━━━━━━━━━━━━\u001b[0m \u001b[32m20.0/20.0 MB\u001b[0m \u001b[31m1.7 MB/s\u001b[0m eta \u001b[36m0:00:00\u001b[0m\n",
            "\u001b[2K   \u001b[90m━━━━━━━━━━━━━━━━━━━━━━━━━━━━━━━━━━━━━━━━\u001b[0m \u001b[32m480.6/480.6 kB\u001b[0m \u001b[31m34.7 MB/s\u001b[0m eta \u001b[36m0:00:00\u001b[0m\n",
            "\u001b[2K   \u001b[90m━━━━━━━━━━━━━━━━━━━━━━━━━━━━━━━━━━━━━━━━\u001b[0m \u001b[32m336.3/336.3 kB\u001b[0m \u001b[31m25.2 MB/s\u001b[0m eta \u001b[36m0:00:00\u001b[0m\n",
            "\u001b[2K   \u001b[90m━━━━━━━━━━━━━━━━━━━━━━━━━━━━━━━━━━━━━━━━\u001b[0m \u001b[32m374.8/374.8 kB\u001b[0m \u001b[31m29.8 MB/s\u001b[0m eta \u001b[36m0:00:00\u001b[0m\n",
            "\u001b[2K   \u001b[90m━━━━━━━━━━━━━━━━━━━━━━━━━━━━━━━━━━━━━━━━\u001b[0m \u001b[32m69.1/69.1 MB\u001b[0m \u001b[31m33.7 MB/s\u001b[0m eta \u001b[36m0:00:00\u001b[0m\n",
            "\u001b[2K   \u001b[90m━━━━━━━━━━━━━━━━━━━━━━━━━━━━━━━━━━━━━━━━\u001b[0m \u001b[32m365.7/365.7 kB\u001b[0m \u001b[31m26.5 MB/s\u001b[0m eta \u001b[36m0:00:00\u001b[0m\n",
            "\u001b[2K   \u001b[90m━━━━━━━━━━━━━━━━━━━━━━━━━━━━━━━━━━━━━━━━\u001b[0m \u001b[32m179.3/179.3 kB\u001b[0m \u001b[31m15.4 MB/s\u001b[0m eta \u001b[36m0:00:00\u001b[0m\n",
            "\u001b[2K   \u001b[90m━━━━━━━━━━━━━━━━━━━━━━━━━━━━━━━━━━━━━━━━\u001b[0m \u001b[32m116.3/116.3 kB\u001b[0m \u001b[31m10.3 MB/s\u001b[0m eta \u001b[36m0:00:00\u001b[0m\n",
            "\u001b[2K   \u001b[90m━━━━━━━━━━━━━━━━━━━━━━━━━━━━━━━━━━━━━━━━\u001b[0m \u001b[32m134.8/134.8 kB\u001b[0m \u001b[31m11.7 MB/s\u001b[0m eta \u001b[36m0:00:00\u001b[0m\n",
            "\u001b[2K   \u001b[90m━━━━━━━━━━━━━━━━━━━━━━━━━━━━━━━━━━━━━━━━\u001b[0m \u001b[32m194.1/194.1 kB\u001b[0m \u001b[31m16.5 MB/s\u001b[0m eta \u001b[36m0:00:00\u001b[0m\n",
            "\u001b[?25h\u001b[31mERROR: pip's dependency resolver does not currently take into account all the packages that are installed. This behaviour is the source of the following dependency conflicts.\n",
            "gcsfs 2024.10.0 requires fsspec==2024.10.0, but you have fsspec 2024.9.0 which is incompatible.\u001b[0m\u001b[31m\n",
            "\u001b[0m"
          ]
        }
      ],
      "source": [
        "if 'google.colab' in str(get_ipython()):\n",
        "    from google.colab import drive\n",
        "    drive.mount('/content/drive')\n",
        "\n",
        "    !pip install transformers evaluate wandb datasets accelerate peft bitsandbytes trl fsspec -U  -qq\n",
        "\n",
        "    basepath = '/content/drive/MyDrive/Data'\n",
        "\n",
        "else:\n",
        "    basepath = '/C:/Users/Vishu/Downloads/Fall_2024/App_NLP'"
      ]
    },
    {
      "cell_type": "markdown",
      "metadata": {
        "id": "1XTAtkcPvqsd"
      },
      "source": [
        "<font color = 'indianred'> *Load Libraries* </font>"
      ]
    },
    {
      "cell_type": "code",
      "execution_count": null,
      "metadata": {
        "id": "kdtSFpAivxeU"
      },
      "outputs": [],
      "source": [
        "# standard pythgion libraries\n",
        "from pathlib import Path\n",
        "import re\n",
        "import gc\n",
        "import time\n",
        "from typing import Dict, List, Union, Optional\n",
        "from tqdm import tqdm\n",
        "import itertools\n",
        "import json\n",
        "import joblib\n",
        "import ast\n",
        "from datetime import datetime\n",
        "from difflib import get_close_matches\n",
        "\n",
        "# Data Science librraies\n",
        "import numpy as np\n",
        "import pandas as pd\n",
        "import matplotlib.pyplot as plt\n",
        "import seaborn as sns\n",
        "from sklearn.metrics import confusion_matrix\n",
        "from sklearn.preprocessing import MultiLabelBinarizer\n",
        "from sklearn.model_selection import train_test_split\n",
        "from sklearn.metrics import multilabel_confusion_matrix, precision_score, recall_score, f1_score\n",
        "\n",
        "# Pytorch\n",
        "import torch\n",
        "import torch.nn as nn\n",
        "\n",
        "# Huggingface Librraies\n",
        "import evaluate\n",
        "from datasets import load_dataset, DatasetDict, Dataset, ClassLabel\n",
        "from trl import SFTConfig, SFTTrainer, DataCollatorForCompletionOnlyLM\n",
        "from transformers import (\n",
        "    TrainingArguments,\n",
        "    Trainer,\n",
        "    set_seed,\n",
        "    AutoTokenizer,\n",
        "    AutoModelForCausalLM,\n",
        "    DataCollatorForLanguageModeling,\n",
        "    AutoConfig,\n",
        "    pipeline,\n",
        "    BitsAndBytesConfig,\n",
        ")\n",
        "from peft import (\n",
        "    TaskType,\n",
        "    LoraConfig,\n",
        "    prepare_model_for_kbit_training,\n",
        "    get_peft_model,\n",
        "    AutoPeftModelForCausalLM,\n",
        "    PeftConfig\n",
        ")\n",
        "\n",
        "from huggingface_hub import login\n",
        "\n",
        "# Logging and secrets\n",
        "import wandb\n",
        "from google.colab import userdata"
      ]
    },
    {
      "cell_type": "code",
      "execution_count": null,
      "metadata": {
        "id": "osjThOHIv6Xm"
      },
      "outputs": [],
      "source": [
        "set_seed(42)"
      ]
    },
    {
      "cell_type": "code",
      "execution_count": null,
      "metadata": {
        "id": "Y393ixNGv9i9"
      },
      "outputs": [],
      "source": [
        "wandb_api_key = userdata.get('WANDB_API_KEY')\n",
        "hf_token = userdata.get('HF_TOKEN')"
      ]
    },
    {
      "cell_type": "code",
      "execution_count": null,
      "metadata": {
        "colab": {
          "base_uri": "https://localhost:8080/"
        },
        "id": "Ocjl1gYwv_pm",
        "outputId": "f44d3e9e-9061-4a47-f548-c1b139c173d4"
      },
      "outputs": [
        {
          "output_type": "stream",
          "name": "stdout",
          "text": [
            "Successfully logged in to Hugging Face!\n"
          ]
        }
      ],
      "source": [
        "if hf_token:\n",
        "    # Log in to Hugging Face\n",
        "    login(token=hf_token)\n",
        "    print(\"Successfully logged in to Hugging Face!\")\n",
        "else:\n",
        "    print(\"Hugging Face token not found in notebook secrets.\")"
      ]
    },
    {
      "cell_type": "code",
      "execution_count": null,
      "metadata": {
        "id": "wPwv0iNEwBQi",
        "colab": {
          "base_uri": "https://localhost:8080/"
        },
        "outputId": "1297badd-4e60-46c8-ff01-09fd0ca2ba1f"
      },
      "outputs": [
        {
          "output_type": "stream",
          "name": "stderr",
          "text": [
            "\u001b[34m\u001b[1mwandb\u001b[0m: Using wandb-core as the SDK backend.  Please refer to https://wandb.me/wandb-core for more information.\n",
            "\u001b[34m\u001b[1mwandb\u001b[0m: Currently logged in as: \u001b[33mvondervish\u001b[0m (\u001b[33mvondervish-university-of-texas-at-dallas\u001b[0m). Use \u001b[1m`wandb login --relogin`\u001b[0m to force relogin\n",
            "\u001b[34m\u001b[1mwandb\u001b[0m: \u001b[33mWARNING\u001b[0m If you're specifying your api key in code, ensure this code is not shared publicly.\n",
            "\u001b[34m\u001b[1mwandb\u001b[0m: \u001b[33mWARNING\u001b[0m Consider setting the WANDB_API_KEY environment variable, or running `wandb login` from the command line.\n",
            "\u001b[34m\u001b[1mwandb\u001b[0m: Appending key for api.wandb.ai to your netrc file: /root/.netrc\n"
          ]
        },
        {
          "output_type": "stream",
          "name": "stdout",
          "text": [
            "Successfully logged in to WANDB!\n"
          ]
        }
      ],
      "source": [
        "if wandb_api_key:\n",
        "  wandb.login(key=wandb_api_key)\n",
        "  print(\"Successfully logged in to WANDB!\")\n",
        "else:\n",
        "    print(\"WANDB key not found in notebook secrets.\")"
      ]
    },
    {
      "cell_type": "code",
      "execution_count": null,
      "metadata": {
        "id": "3fzqc0bBwHEo"
      },
      "outputs": [],
      "source": [
        "base_folder = Path(basepath)\n",
        "data_folder = base_folder/'emotion-detection-bert-fall-2024'\n",
        "model_folder = base_folder/'Models/Emotion_detection_Llama_languagehead_fall_2024'"
      ]
    },
    {
      "cell_type": "code",
      "execution_count": null,
      "metadata": {
        "id": "WdLxkWFSCIY5"
      },
      "outputs": [],
      "source": [
        "model_folder.mkdir(exist_ok=True, parents = True)"
      ]
    },
    {
      "cell_type": "code",
      "execution_count": null,
      "metadata": {
        "colab": {
          "base_uri": "https://localhost:8080/"
        },
        "id": "a-zCuEvGCSTy",
        "outputId": "dd380b12-41c6-4255-c2f1-e52d917c7c16"
      },
      "outputs": [
        {
          "output_type": "execute_result",
          "data": {
            "text/plain": [
              "PosixPath('/content/drive/MyDrive/Data/Models/Emotion_detection_Llama_languagehead_fall_2024')"
            ]
          },
          "metadata": {},
          "execution_count": 11
        }
      ],
      "source": [
        "model_folder"
      ]
    },
    {
      "cell_type": "markdown",
      "metadata": {
        "id": "qXam-91KCJTw"
      },
      "source": [
        "# <font color = 'indianred'> **2. Load Data set**"
      ]
    },
    {
      "cell_type": "code",
      "execution_count": null,
      "metadata": {
        "id": "GAYgwZOmCV8G"
      },
      "outputs": [],
      "source": [
        "train_dataset = data_folder/'train.csv'\n",
        "test_dataset = data_folder/'test.csv'"
      ]
    },
    {
      "cell_type": "code",
      "execution_count": null,
      "metadata": {
        "id": "37yKlXxNCacG",
        "colab": {
          "base_uri": "https://localhost:8080/",
          "height": 81,
          "referenced_widgets": [
            "b6581cc74da747e685cde5d2e8a3180b",
            "affeb5aa3ebd41508c8a540eecdcee13",
            "3121ad5f68274dc0beaa5daf659cceb5",
            "fd1faa08f19640a6bf3df072f93115b1",
            "0599310b6d3c4d9b89ca6b9fe15fd7f6",
            "2d8e85b26d6f4e98b744d0f4649c2ee7",
            "e383de567fc8408ba5f7717e94960335",
            "65de015a2a1441f083fdaab1f662c202",
            "d526ba6f388b4adaa3f402d221db40cf",
            "622434391f8b492097d9a698aa35fb24",
            "89d1df0991914f3bae736fa2256f4446",
            "e0b06b87c33c402e97bf0573450ef0be",
            "9f535012f046406a9be6d5dc70368430",
            "bdf5d4ada6664cc9914aa5bbe78436a2",
            "460685d33f7b48cdb55112e6a2b752c7",
            "f5062bdbbc6b4806b4c8b77c1f4196e5",
            "415758db41d649aca066a9a98c862f67",
            "d4b57d76a9d24700a55de3a98ce72c68",
            "9031dfbaff9143799692501cb2ab6566",
            "b4bc74835a8c41a2ad4d50f5e0d5b06f",
            "b08bfe96eccc4d93905cc041a3b1230b",
            "698bff356a554186aba8fc7e14950b84"
          ]
        },
        "outputId": "0597f438-4e28-4b85-a6c7-d1743b75cf12"
      },
      "outputs": [
        {
          "output_type": "display_data",
          "data": {
            "text/plain": [
              "Generating train split: 0 examples [00:00, ? examples/s]"
            ],
            "application/vnd.jupyter.widget-view+json": {
              "version_major": 2,
              "version_minor": 0,
              "model_id": "b6581cc74da747e685cde5d2e8a3180b"
            }
          },
          "metadata": {}
        },
        {
          "output_type": "display_data",
          "data": {
            "text/plain": [
              "Generating test split: 0 examples [00:00, ? examples/s]"
            ],
            "application/vnd.jupyter.widget-view+json": {
              "version_major": 2,
              "version_minor": 0,
              "model_id": "e0b06b87c33c402e97bf0573450ef0be"
            }
          },
          "metadata": {}
        }
      ],
      "source": [
        "from datasets import load_dataset\n",
        "\n",
        "# Load the train and test datasets from CSV files\n",
        "train_dataset = load_dataset('csv', data_files={'train': str(data_folder / 'train.csv')})['train']\n",
        "test_dataset = load_dataset('csv', data_files={'test': str(data_folder / 'test.csv')})['test']"
      ]
    },
    {
      "cell_type": "code",
      "execution_count": null,
      "metadata": {
        "colab": {
          "base_uri": "https://localhost:8080/"
        },
        "id": "BIPWbRj_CcrT",
        "outputId": "acee9c7f-d373-4b99-e08e-8655b537c458"
      },
      "outputs": [
        {
          "output_type": "execute_result",
          "data": {
            "text/plain": [
              "Dataset({\n",
              "    features: ['ID', 'Tweet', 'anger', 'anticipation', 'disgust', 'fear', 'joy', 'love', 'optimism', 'pessimism', 'sadness', 'surprise', 'trust'],\n",
              "    num_rows: 7724\n",
              "})"
            ]
          },
          "metadata": {},
          "execution_count": 14
        }
      ],
      "source": [
        "train_dataset"
      ]
    },
    {
      "cell_type": "code",
      "execution_count": null,
      "metadata": {
        "id": "PNa03MmKCg4G"
      },
      "outputs": [],
      "source": [
        "class_names = ['anger', 'anticipation', 'disgust', 'fear', 'joy', 'love', 'optimism', 'pessimism', 'sadness', 'surprise', 'trust']"
      ]
    },
    {
      "cell_type": "markdown",
      "metadata": {
        "id": "lEBcnKJ-CnlO"
      },
      "source": [
        "# <font color = 'indianred'> **3. Accessing and Manuplating Splits**</font>"
      ]
    },
    {
      "cell_type": "code",
      "execution_count": null,
      "metadata": {
        "id": "E0nklY2sChiR"
      },
      "outputs": [],
      "source": [
        "# Split train_dataset into a new train and validation set\n",
        "train_val_split = train_dataset.train_test_split(test_size=0.2, seed=42)\n",
        "\n",
        "# Assign the splits to new variables\n",
        "train_dataset = train_val_split['train']\n",
        "valid_dataset = train_val_split['test']"
      ]
    },
    {
      "cell_type": "code",
      "execution_count": null,
      "metadata": {
        "id": "eMGHEhEuC8Yf",
        "colab": {
          "base_uri": "https://localhost:8080/"
        },
        "outputId": "9eeb65fb-f384-48af-de92-22f3624a5f0e"
      },
      "outputs": [
        {
          "output_type": "stream",
          "name": "stdout",
          "text": [
            "<class 'datasets.arrow_dataset.Dataset'>\n",
            "<class 'datasets.arrow_dataset.Dataset'>\n",
            "<class 'datasets.arrow_dataset.Dataset'>\n"
          ]
        }
      ],
      "source": [
        "print(type(train_dataset))  # Expected to be `datasets.Dataset`\n",
        "print(type(valid_dataset))  # Expected to be `datasets.Dataset`\n",
        "print(type(test_dataset))   # Expected to be `datasets.Dataset`"
      ]
    },
    {
      "cell_type": "code",
      "execution_count": null,
      "metadata": {
        "id": "Af9LWerHC-Wi"
      },
      "outputs": [],
      "source": [
        "train_val_dataset= DatasetDict(\n",
        "    {\"train\": train_dataset, \"valid\": valid_dataset})"
      ]
    },
    {
      "cell_type": "code",
      "execution_count": null,
      "metadata": {
        "id": "1XA6l2mcDG5I",
        "colab": {
          "base_uri": "https://localhost:8080/"
        },
        "outputId": "075c63bd-ffa3-4e9c-f350-6d98f9bc53c7"
      },
      "outputs": [
        {
          "output_type": "execute_result",
          "data": {
            "text/plain": [
              "DatasetDict({\n",
              "    train: Dataset({\n",
              "        features: ['ID', 'Tweet', 'anger', 'anticipation', 'disgust', 'fear', 'joy', 'love', 'optimism', 'pessimism', 'sadness', 'surprise', 'trust'],\n",
              "        num_rows: 6179\n",
              "    })\n",
              "    valid: Dataset({\n",
              "        features: ['ID', 'Tweet', 'anger', 'anticipation', 'disgust', 'fear', 'joy', 'love', 'optimism', 'pessimism', 'sadness', 'surprise', 'trust'],\n",
              "        num_rows: 1545\n",
              "    })\n",
              "})"
            ]
          },
          "metadata": {},
          "execution_count": 19
        }
      ],
      "source": [
        "train_val_dataset"
      ]
    },
    {
      "cell_type": "code",
      "execution_count": null,
      "metadata": {
        "id": "-pDjj-orPPKZ",
        "colab": {
          "base_uri": "https://localhost:8080/",
          "height": 119,
          "referenced_widgets": [
            "6445850c493b48ac884a1ae4087de60b",
            "ef1c1eb18f5f4eeaaf66cf55862dbd62",
            "d5d04de1c1c342b39b8be04c4da3dc16",
            "1ae75755cf0d48db8725df892f6914c3",
            "e1e59bfd3f1043eb9db49cc800abbe41",
            "64a5bb682866474d8822eead85514515",
            "5fded78c8eb344d0a5cb381c51809bc2",
            "9edfdc9ee1304fafa422f6441121f0b3",
            "5c7324a8965746e4904ea0754ce993ac",
            "f3122115965f42abb973ca08b03aafb4",
            "75760c841a014a47a68a64cfb99e4145",
            "44406c9d90dd41e6950af21025d01803",
            "20bc750aa55e465393fcd7820276f022",
            "90cdc423ba5b43ec9fc4037039aa50a2",
            "7a93c96bf60a43ec95b9a8d24e8cde04",
            "6d5e937ee65b4a5fbac98f12a14c45bb",
            "341a0bd3b63141b2b2e90eff36c11e27",
            "5ded7385f90d452f94c9dd06aa39eafa",
            "9c2f1f771224440580a3c7246754ce19",
            "7d67a1ed6413454b87d93ae79c45108a",
            "d8a88ca5edb24d47a037867a6c124d6b",
            "5c3a03a4757f4b489c1f209ccafd3798"
          ]
        },
        "outputId": "f6f006d2-c4d9-422a-a7ad-981f87d98153"
      },
      "outputs": [
        {
          "output_type": "display_data",
          "data": {
            "text/plain": [
              "Map:   0%|          | 0/6179 [00:00<?, ? examples/s]"
            ],
            "application/vnd.jupyter.widget-view+json": {
              "version_major": 2,
              "version_minor": 0,
              "model_id": "6445850c493b48ac884a1ae4087de60b"
            }
          },
          "metadata": {}
        },
        {
          "output_type": "display_data",
          "data": {
            "text/plain": [
              "Map:   0%|          | 0/1545 [00:00<?, ? examples/s]"
            ],
            "application/vnd.jupyter.widget-view+json": {
              "version_major": 2,
              "version_minor": 0,
              "model_id": "44406c9d90dd41e6950af21025d01803"
            }
          },
          "metadata": {}
        },
        {
          "output_type": "stream",
          "name": "stdout",
          "text": [
            "{'Tweet': 'Does anyone know, are both Sims in a dual sim phone both locked to the same network! #worry', 'text': 'Does anyone know, are both Sims in a dual sim phone both locked to the same network! #worry', 'label': ['fear', 'pessimism', 'sadness']}\n"
          ]
        }
      ],
      "source": [
        "# Function to reformat a single dataset\n",
        "def reformat_dataset(dataset):\n",
        "    # Map each row to extract the label and keep only relevant columns\n",
        "    def format_row(row):\n",
        "        # Collect emotions where the value is 1\n",
        "        labels = [emotion for emotion in class_names if row[emotion] == 1]\n",
        "        return {\"text\": row[\"Tweet\"], \"label\": labels}\n",
        "\n",
        "    # Apply the transformation\n",
        "    return dataset.map(format_row, remove_columns=[\"ID\"] + class_names)\n",
        "\n",
        "# Reformat both train and validation datasets separately\n",
        "train_val_dataset = DatasetDict({\n",
        "    \"train\": reformat_dataset(train_val_dataset[\"train\"]),\n",
        "    \"valid\": reformat_dataset(train_val_dataset[\"valid\"])\n",
        "})\n",
        "\n",
        "# Display a sample from the train dataset\n",
        "print(train_val_dataset[\"train\"][0])"
      ]
    },
    {
      "cell_type": "code",
      "execution_count": null,
      "metadata": {
        "id": "4Byqw9NUKr7i"
      },
      "outputs": [],
      "source": [
        "# Define columns to keep\n",
        "selected_columns = ['text', 'label']\n",
        "\n",
        "# Remove other columns in train and valid sets within train_val_dataset\n",
        "train_val_dataset['train'] = train_val_dataset['train'].remove_columns(\n",
        "    [col for col in train_val_dataset['train'].column_names if col not in selected_columns])\n",
        "\n",
        "train_val_dataset['valid'] = train_val_dataset['valid'].remove_columns(\n",
        "    [col for col in train_val_dataset['valid'].column_names if col not in selected_columns])\n",
        "\n",
        "# Remove other columns in test_dataset\n",
        "test_dataset = test_dataset.remove_columns(\n",
        "    [col for col in test_dataset.column_names if col not in selected_columns])"
      ]
    },
    {
      "cell_type": "code",
      "execution_count": null,
      "metadata": {
        "id": "Fo0u_uwyKuFx",
        "colab": {
          "base_uri": "https://localhost:8080/"
        },
        "outputId": "f4c29cd6-1cf0-482a-b8d8-2697d17ebd0f"
      },
      "outputs": [
        {
          "output_type": "execute_result",
          "data": {
            "text/plain": [
              "['anger', 'anticipation', 'joy']"
            ]
          },
          "metadata": {},
          "execution_count": 22
        }
      ],
      "source": [
        "train_val_dataset['train']['label'][1]"
      ]
    },
    {
      "cell_type": "markdown",
      "metadata": {
        "id": "3CDxTCwxKzT6"
      },
      "source": [
        "# <font color = 'indianred'>**4. Load pre-trained Tokenizer**</font>"
      ]
    },
    {
      "cell_type": "code",
      "execution_count": null,
      "metadata": {
        "id": "BCqMX3-UK1DX"
      },
      "outputs": [],
      "source": [
        "def free_gpu_memory():\n",
        "    \"\"\"\n",
        "    Frees up GPU memory after CUDA out-of-memory error in Colab.\n",
        "\n",
        "    This function performs the following steps:\n",
        "    1. Deletes all PyTorch objects to clear references.\n",
        "    2. Calls garbage collection to remove unreferenced objects from memory.\n",
        "    3. Uses torch.cuda.empty_cache() to release cached GPU memory.\n",
        "    4. Waits for a moment to ensure memory is fully released.\n",
        "    \"\"\"\n",
        "    try:\n",
        "        # Delete all torch tensors to free up memory\n",
        "        for obj in list(locals().values()):\n",
        "            if torch.is_tensor(obj):\n",
        "                del obj\n",
        "\n",
        "        # Collect garbage to release any remaining unused memory\n",
        "        gc.collect()\n",
        "\n",
        "        # Empty the CUDA cache to release GPU memory\n",
        "        torch.cuda.empty_cache()\n",
        "\n",
        "        # Adding a small delay to allow memory to be fully released\n",
        "        time.sleep(2)\n",
        "\n",
        "        print(\"GPU memory has been freed.\")\n",
        "    except Exception as e:\n",
        "        print(f\"Error while freeing GPU memory: {e}\")"
      ]
    },
    {
      "cell_type": "code",
      "execution_count": null,
      "metadata": {
        "id": "nhFBML7zK5ws",
        "colab": {
          "base_uri": "https://localhost:8080/"
        },
        "outputId": "db06df46-7861-4e2f-dde2-81ec3e351f3b"
      },
      "outputs": [
        {
          "output_type": "stream",
          "name": "stdout",
          "text": [
            "GPU memory has been freed.\n"
          ]
        }
      ],
      "source": [
        "free_gpu_memory()"
      ]
    },
    {
      "cell_type": "code",
      "execution_count": null,
      "metadata": {
        "id": "Rba4tR05K7sp",
        "colab": {
          "base_uri": "https://localhost:8080/",
          "height": 113,
          "referenced_widgets": [
            "6e88d2e962644cd083639d8785a8fb73",
            "aa45d6c0d7564053aa70a12bd74452b8",
            "eb1475e0e2e94b01b780de1594939573",
            "70a70be1e03b406280e135fc91fc21fc",
            "a9fcb62ee6fa458693c36d6ab12a1b7b",
            "b47828d12bf249358d68e15854c353aa",
            "9f73b0fe243b4190be261efa1bec4f1f",
            "f6c7a8971c5343ec965add4a2eae45e0",
            "480770b069e844779a1d445cac13b8cb",
            "02c10649bc524981af41549f61e5afd9",
            "4bee2a95753c423e8f6c453b74dfe54e",
            "736dffb2cddc48caa22b7dde4d8849dd",
            "7be835b10abc49ceb188e39ab6edab23",
            "781aa5c8c4224d53aec0a6e2ebb39054",
            "e1b12e5aeeec4ae1af17c2e286393beb",
            "dae875310b0d4437b516719b79832faa",
            "043d89b436474bb1b13d95e8c88d0e2c",
            "632eaa4d58d340f9b0f26abb95a5ef35",
            "8c6022f6b18e4b86a0e3b728d73d437c",
            "a1edaf05ab134981b6ad9a181a3c7afb",
            "bebef677b50f482dbb53d9c1124392d5",
            "96eb33b7ba144b97af37ea5f0a72a494",
            "479dc7dc14524f5fbef956e1e5b5947c",
            "5581df836ae74bd79ca5d8226172b137",
            "5f16dc5f7f8948c29f90715c6bf48fdd",
            "484521cebb4c47c8b79f8f9879a3efe6",
            "28e22d750f5448dfa5e5d83d44c5b305",
            "5541bda776a44409842dbbf73b120c56",
            "ba4a72772fa44b46acc242cc952521ac",
            "bcb8a05990fe469b94ac665891fc891d",
            "7ff781fbda294a8698fa2ea6a4bea78c",
            "56954ee079404bc6a34de0cf3bf2c0f4",
            "297c0b0db0f644ddaf949bcf6f123d40"
          ]
        },
        "outputId": "e45167ae-5aeb-40f8-edd9-d3d6975f1bb4"
      },
      "outputs": [
        {
          "output_type": "display_data",
          "data": {
            "text/plain": [
              "tokenizer_config.json:   0%|          | 0.00/50.5k [00:00<?, ?B/s]"
            ],
            "application/vnd.jupyter.widget-view+json": {
              "version_major": 2,
              "version_minor": 0,
              "model_id": "6e88d2e962644cd083639d8785a8fb73"
            }
          },
          "metadata": {}
        },
        {
          "output_type": "display_data",
          "data": {
            "text/plain": [
              "tokenizer.json:   0%|          | 0.00/9.09M [00:00<?, ?B/s]"
            ],
            "application/vnd.jupyter.widget-view+json": {
              "version_major": 2,
              "version_minor": 0,
              "model_id": "736dffb2cddc48caa22b7dde4d8849dd"
            }
          },
          "metadata": {}
        },
        {
          "output_type": "display_data",
          "data": {
            "text/plain": [
              "special_tokens_map.json:   0%|          | 0.00/301 [00:00<?, ?B/s]"
            ],
            "application/vnd.jupyter.widget-view+json": {
              "version_major": 2,
              "version_minor": 0,
              "model_id": "479dc7dc14524f5fbef956e1e5b5947c"
            }
          },
          "metadata": {}
        }
      ],
      "source": [
        "checkpoint = \"meta-llama/Llama-3.2-1B\"\n",
        "tokenizer = AutoTokenizer.from_pretrained(checkpoint)"
      ]
    },
    {
      "cell_type": "code",
      "execution_count": null,
      "metadata": {
        "id": "B4Uy_vzyK8pl",
        "colab": {
          "base_uri": "https://localhost:8080/",
          "height": 35
        },
        "outputId": "d5e6e413-06dd-435c-c6d9-209627a0ed0f"
      },
      "outputs": [
        {
          "output_type": "execute_result",
          "data": {
            "text/plain": [
              "'<|end_of_text|>'"
            ],
            "application/vnd.google.colaboratory.intrinsic+json": {
              "type": "string"
            }
          },
          "metadata": {},
          "execution_count": 26
        }
      ],
      "source": [
        "tokenizer.eos_token"
      ]
    },
    {
      "cell_type": "code",
      "execution_count": null,
      "metadata": {
        "id": "X-GYUhAqMbZ9"
      },
      "outputs": [],
      "source": [
        "tokenizer.pad_token"
      ]
    },
    {
      "cell_type": "code",
      "execution_count": null,
      "metadata": {
        "id": "Qz1rWB1PMkoD"
      },
      "outputs": [],
      "source": [
        "tokenizer.pad_token = \"<|finetune_right_pad_id|>\""
      ]
    },
    {
      "cell_type": "code",
      "execution_count": null,
      "metadata": {
        "id": "R82hlHOKMqMS",
        "colab": {
          "base_uri": "https://localhost:8080/"
        },
        "outputId": "5e000e0a-eba1-46da-9796-78f4e94269ea"
      },
      "outputs": [
        {
          "output_type": "execute_result",
          "data": {
            "text/plain": [
              "{'bos_token': '<|begin_of_text|>',\n",
              " 'eos_token': '<|end_of_text|>',\n",
              " 'pad_token': '<|finetune_right_pad_id|>'}"
            ]
          },
          "metadata": {},
          "execution_count": 29
        }
      ],
      "source": [
        "tokenizer.special_tokens_map"
      ]
    },
    {
      "cell_type": "code",
      "execution_count": null,
      "metadata": {
        "id": "lyGlPrWxU7-N"
      },
      "outputs": [],
      "source": [
        "tokenizer.chat_template"
      ]
    },
    {
      "cell_type": "markdown",
      "metadata": {
        "id": "2fcghULLMvWL"
      },
      "source": [
        "#<font color = 'indianred'> **5. Create Prompts**"
      ]
    },
    {
      "cell_type": "code",
      "execution_count": null,
      "metadata": {
        "id": "b1nMGFVDMwct"
      },
      "outputs": [],
      "source": [
        "def formatting_prompts_func(examples, input_field, output_field, prompt_template, output_delimiter, tokenizer, include_eos_token=True):\n",
        "    \"\"\"Format a single example or batch of examples\"\"\"\n",
        "    # Debug the input type\n",
        "    # print(\"Input type:\", type(examples))\n",
        "    # print(\"Input content:\", examples)\n",
        "\n",
        "    # Convert to dict if it's a LazyRow\n",
        "    if hasattr(examples, 'keys'):\n",
        "        examples = dict(examples)\n",
        "\n",
        "    # Handle single example case (for dataset.map)\n",
        "    if isinstance(examples, dict):\n",
        "        if not isinstance(examples[input_field], (list, tuple)):\n",
        "            input_text = examples[input_field].strip()\n",
        "            output_text = examples[output_field]\n",
        "            output_delimiter = output_delimiter.strip()\n",
        "\n",
        "            prompt = prompt_template.format(input_text, output_delimiter, output_text)\n",
        "\n",
        "            if include_eos_token:\n",
        "                prompt = prompt + tokenizer.eos_token\n",
        "\n",
        "            return prompt.strip()\n",
        "        else:\n",
        "            # Handle batch case\n",
        "            output_prompts = []\n",
        "            for i in range(len(examples[input_field])):\n",
        "                input_text = examples[input_field][i].strip()\n",
        "                output_text = examples[output_field][i]\n",
        "                output_delimiter = output_delimiter.strip()\n",
        "\n",
        "                prompt = prompt_template.format(input_text, output_delimiter, output_text)\n",
        "\n",
        "                if include_eos_token:\n",
        "                    prompt = prompt + tokenizer.eos_token\n",
        "                prompt = prompt.strip()\n",
        "                output_prompts.append(prompt)\n",
        "\n",
        "            return output_prompts\n",
        "\n",
        "    print(\"Unexpected input format!\")\n",
        "    print(\"Type:\", type(examples))\n",
        "    print(\"Content:\", examples)\n",
        "    raise ValueError(f\"Expected a dictionary with examples, got {type(examples)}\")"
      ]
    },
    {
      "cell_type": "code",
      "execution_count": null,
      "metadata": {
        "id": "AhSqW0eyM3po"
      },
      "outputs": [],
      "source": [
        "prompt_template = 'Classify the TEXT by selecting all applicable labels from the following list: \\\n",
        "[\"android\", \"asp.net\", \"c#\", \"c++\", \"iphone\", \"java\", \"javascript\", \"jquery\", \"php\", \"python\"].\\\n",
        " ### TEXT: {} {} {}'"
      ]
    },
    {
      "cell_type": "code",
      "execution_count": null,
      "metadata": {
        "id": "UOz26PljOCAe"
      },
      "outputs": [],
      "source": [
        "output_delimiter = \"### LABEL:\"\n",
        "input_field = 'text'\n",
        "output_field = 'label'"
      ]
    },
    {
      "cell_type": "code",
      "execution_count": null,
      "metadata": {
        "id": "Xk3cm68_lQcI",
        "colab": {
          "base_uri": "https://localhost:8080/",
          "height": 35
        },
        "outputId": "74327442-d16a-43cd-f87c-89b54cacb1b7"
      },
      "outputs": [
        {
          "output_type": "execute_result",
          "data": {
            "text/plain": [
              "'### LABEL:'"
            ],
            "application/vnd.google.colaboratory.intrinsic+json": {
              "type": "string"
            }
          },
          "metadata": {},
          "execution_count": 34
        }
      ],
      "source": [
        "output_delimiter"
      ]
    },
    {
      "cell_type": "code",
      "execution_count": null,
      "metadata": {
        "id": "YBKMWy2JlSTI"
      },
      "outputs": [],
      "source": [
        "from functools import partial"
      ]
    },
    {
      "cell_type": "code",
      "execution_count": null,
      "metadata": {
        "id": "uaEPm6eKlUL-"
      },
      "outputs": [],
      "source": [
        "formatting_prompts_func_final = partial(formatting_prompts_func,\n",
        "                                        input_field =input_field,\n",
        "                                        output_field = output_field,\n",
        "                                        prompt_template=prompt_template,\n",
        "                                        output_delimiter=output_delimiter,\n",
        "                                        tokenizer=tokenizer\n",
        ")"
      ]
    },
    {
      "cell_type": "code",
      "execution_count": null,
      "metadata": {
        "id": "rUa_oUremxFk"
      },
      "outputs": [],
      "source": [
        "samples = formatting_prompts_func_final(train_val_dataset['train'][0:3])"
      ]
    },
    {
      "cell_type": "code",
      "execution_count": null,
      "metadata": {
        "id": "EzC1tgSOr2AU",
        "colab": {
          "base_uri": "https://localhost:8080/"
        },
        "outputId": "58eef957-a14e-461f-9b56-3d546b3c577d"
      },
      "outputs": [
        {
          "output_type": "stream",
          "name": "stdout",
          "text": [
            "('Classify the TEXT by selecting all applicable labels from the following list: [\"android\", \"asp.net\", \"c#\", \"c++\", '\n",
            " '\"iphone\", \"java\", \"javascript\", \"jquery\", \"php\", \"python\"]. ### TEXT: @TheSGJournal Step 1: Get rid of '\n",
            " \"@LittleStokePark Step 2: Prioritise football Step 3: profit? #depressing ### LABEL: ['sadness']<|end_of_text|>\")\n"
          ]
        }
      ],
      "source": [
        "from pprint import pprint\n",
        "pprint(samples[2], width=120)"
      ]
    },
    {
      "cell_type": "code",
      "execution_count": null,
      "metadata": {
        "id": "g3ZmX9Hlr-qx",
        "colab": {
          "base_uri": "https://localhost:8080/"
        },
        "outputId": "37b9ab44-c658-40d1-8ccc-7da926fdb2a5"
      },
      "outputs": [
        {
          "output_type": "stream",
          "name": "stdout",
          "text": [
            "('Classify the TEXT by selecting all applicable labels from the following list: [\"android\", \"asp.net\", \"c#\", \"c++\", '\n",
            " '\"iphone\", \"java\", \"javascript\", \"jquery\", \"php\", \"python\"]. ### TEXT: A not very young man compiled info on a '\n",
            " \"smiling baby then a mattress created new evil. ### LABEL: ['anger', 'anticipation', 'joy']<|end_of_text|>\")\n"
          ]
        }
      ],
      "source": [
        "single_sample = formatting_prompts_func_final(train_val_dataset['train'][1])\n",
        "pprint(single_sample, width=120)"
      ]
    },
    {
      "cell_type": "markdown",
      "metadata": {
        "id": "yWSNtB2bsFXK"
      },
      "source": [
        "##  <font color = 'indianred'> **6.1 Filter Longer sequences**"
      ]
    },
    {
      "cell_type": "code",
      "execution_count": null,
      "metadata": {
        "id": "q9aVyy8gsDvQ",
        "colab": {
          "base_uri": "https://localhost:8080/",
          "height": 81,
          "referenced_widgets": [
            "b1623e5b952e42a0a2f4bf7950bb17eb",
            "868b084479474202afc80ff3f1399027",
            "b452a11c7ba0465ead47b2d85fb486a3",
            "b678b9b5410047fcbb6be706273067b5",
            "b192c86ba58543d7841ef10fa70f2041",
            "f214665b4c96413eaa34308df9540536",
            "2a5742305dd64ac2990d008cb190b0b8",
            "c84eff322d8d46eb936303ef3b5ca477",
            "8276202a0b1743c0b761a01db71dedfc",
            "1560c8f1c085463184e0c820d7912f43",
            "3ed01dd030cd41b2b16ae8b510fdf780",
            "c4439df85fd94fa2a7618e27b5ca39ab",
            "fde9cdda3d8a41ab8431f8dc7e2841e9",
            "72cad4561a0e49c5be7a40f1664dab01",
            "9858c1c6566f4e40aee685b2f88c6f7c",
            "cc33c308eeb949a9a2bd649071901ec7",
            "3ec8fee36fca4ce3b01b499a845aa802",
            "6d00c0a0f2ce4cea827fbbdd38db254f",
            "9be66ec2dcab42c0bdae7c3ccdc19654",
            "03645d324d874a8e8e0d03ace4281f3a",
            "f51ed511b8634da6a5e11ac09b3b04ef",
            "944f3b4432b94b9eacaec50004b6c3c4"
          ]
        },
        "outputId": "9e2ed2df-73ac-4905-f589-e5978983e911"
      },
      "outputs": [
        {
          "output_type": "display_data",
          "data": {
            "text/plain": [
              "Processing dataset:   0%|          | 0/6179 [00:00<?, ? examples/s]"
            ],
            "application/vnd.jupyter.widget-view+json": {
              "version_major": 2,
              "version_minor": 0,
              "model_id": "b1623e5b952e42a0a2f4bf7950bb17eb"
            }
          },
          "metadata": {}
        },
        {
          "output_type": "display_data",
          "data": {
            "text/plain": [
              "Processing dataset:   0%|          | 0/1545 [00:00<?, ? examples/s]"
            ],
            "application/vnd.jupyter.widget-view+json": {
              "version_major": 2,
              "version_minor": 0,
              "model_id": "c4439df85fd94fa2a7618e27b5ca39ab"
            }
          },
          "metadata": {}
        }
      ],
      "source": [
        "def filter_by_length(example, max_length, tokenizer, prompt_function):\n",
        "    \"\"\"Filter a single example based on length\"\"\"\n",
        "    # Convert LazyRow to dict if needed\n",
        "    example_dict = dict(example) if hasattr(example, 'keys') else example\n",
        "\n",
        "    prompt = prompt_function(example_dict)  # handles single example\n",
        "    tokenized_prompt = tokenizer(prompt, add_special_tokens=False, truncation=False, padding=False)\n",
        "    total_length = len(tokenized_prompt['input_ids'])\n",
        "    example['keep'] = total_length <= max_length\n",
        "    return example\n",
        "\n",
        "# Create partial function\n",
        "filter_fn = partial(filter_by_length,\n",
        "                   max_length=1000,\n",
        "                   tokenizer=tokenizer,\n",
        "                   prompt_function=formatting_prompts_func_final)\n",
        "\n",
        "# Now try processing the dataset\n",
        "train_val_dataset = train_val_dataset.map(filter_fn, desc=\"Processing dataset\")"
      ]
    },
    {
      "cell_type": "code",
      "execution_count": null,
      "metadata": {
        "id": "j42f-53BsUUc",
        "colab": {
          "base_uri": "https://localhost:8080/"
        },
        "outputId": "030f2f8e-9a4e-448a-c46d-5ea373f337e9"
      },
      "outputs": [
        {
          "output_type": "execute_result",
          "data": {
            "text/plain": [
              "DatasetDict({\n",
              "    train: Dataset({\n",
              "        features: ['text', 'label', 'keep'],\n",
              "        num_rows: 6179\n",
              "    })\n",
              "    valid: Dataset({\n",
              "        features: ['text', 'label', 'keep'],\n",
              "        num_rows: 1545\n",
              "    })\n",
              "})"
            ]
          },
          "metadata": {},
          "execution_count": 41
        }
      ],
      "source": [
        "train_val_dataset"
      ]
    },
    {
      "cell_type": "code",
      "execution_count": null,
      "metadata": {
        "id": "VmRRBIHzsZ_M",
        "colab": {
          "base_uri": "https://localhost:8080/",
          "height": 81,
          "referenced_widgets": [
            "d0017ae96e7e4d81904b3e2015594ff0",
            "ea9a17abddf243639ee425a164f9dd59",
            "18f07c4a211d471591b602e00fc5e148",
            "7519f79669b1448c8c609131f15647f2",
            "733273b9b6d64e5d9dabdf977f0be9d1",
            "1774a2c273504911ace99f9c58c0747e",
            "6aa957ba80e1414b98609cdc3878bcc9",
            "e3c3ea3bdd1741cd824d6f29c0e1c35e",
            "ddd68b1f5cde4e77a18c004df543aae0",
            "c9e8c084c93541c7b5bb9e0801c50a51",
            "79cb6e10521c44beab87afa5f055695b",
            "c282502af87b4258b56459a6dc35d383",
            "40d411eb906041e6ae1c92573bb39037",
            "9b3626c265464b329ac521fa94ceaf68",
            "7981f0ef4ab54f1b9511c53111efc5e0",
            "332eac21801b401197e666a25893ae1a",
            "7965946bf1a24c60af0c8bdc2a49b4ad",
            "34539c071dd34386b0c1e7044f047579",
            "3285619190ea4db68adf9220b4137a94",
            "f7e5bec4f32943c8b2705c6f5c0e73b6",
            "02e863429ba9447894da073be3ebc6c2",
            "fbd0d6a86c1144b1b46745efccb6ded3"
          ]
        },
        "outputId": "5c119528-e1ed-4101-a247-552d11d577f2"
      },
      "outputs": [
        {
          "output_type": "display_data",
          "data": {
            "text/plain": [
              "Filter:   0%|          | 0/6179 [00:00<?, ? examples/s]"
            ],
            "application/vnd.jupyter.widget-view+json": {
              "version_major": 2,
              "version_minor": 0,
              "model_id": "d0017ae96e7e4d81904b3e2015594ff0"
            }
          },
          "metadata": {}
        },
        {
          "output_type": "display_data",
          "data": {
            "text/plain": [
              "Filter:   0%|          | 0/1545 [00:00<?, ? examples/s]"
            ],
            "application/vnd.jupyter.widget-view+json": {
              "version_major": 2,
              "version_minor": 0,
              "model_id": "c282502af87b4258b56459a6dc35d383"
            }
          },
          "metadata": {}
        }
      ],
      "source": [
        "train_val_dataset_filtered = train_val_dataset.filter(lambda x: x['keep']).remove_columns(['keep'])"
      ]
    },
    {
      "cell_type": "code",
      "execution_count": null,
      "metadata": {
        "id": "hVVmn7NgV5UE",
        "colab": {
          "base_uri": "https://localhost:8080/"
        },
        "outputId": "6f8dd383-7d48-45e8-f6b6-0333f537ff7b"
      },
      "outputs": [
        {
          "output_type": "execute_result",
          "data": {
            "text/plain": [
              "DatasetDict({\n",
              "    train: Dataset({\n",
              "        features: ['text', 'label'],\n",
              "        num_rows: 6179\n",
              "    })\n",
              "    valid: Dataset({\n",
              "        features: ['text', 'label'],\n",
              "        num_rows: 1545\n",
              "    })\n",
              "})"
            ]
          },
          "metadata": {},
          "execution_count": 43
        }
      ],
      "source": [
        "train_val_dataset_filtered"
      ]
    },
    {
      "cell_type": "markdown",
      "metadata": {
        "id": "p6oPqFe_sdjV"
      },
      "source": [
        "##  <font color = 'indianred'> **6.2 Data Collator**"
      ]
    },
    {
      "cell_type": "code",
      "execution_count": null,
      "metadata": {
        "id": "BhYg5UKbsdFI"
      },
      "outputs": [],
      "source": [
        "def get_token_ids_in_context(tokenizer, full_string, substring):\n",
        "    # Tokenize the full string\n",
        "    full_tokens = tokenizer.encode(full_string, add_special_tokens=False)\n",
        "\n",
        "    # Find the start and end indices of the substring in the full string\n",
        "    start_index = full_string.index(substring)\n",
        "    end_index = start_index + len(substring)\n",
        "\n",
        "    # Find the corresponding tokens, starting one token earlier\n",
        "    start_token_index = max(0, len(tokenizer.encode(full_string[:start_index], add_special_tokens=False)) - 1)\n",
        "    end_token_index = len(tokenizer.encode(full_string[:end_index], add_special_tokens=False))\n",
        "\n",
        "    return full_tokens[start_token_index:end_token_index]"
      ]
    },
    {
      "cell_type": "code",
      "execution_count": null,
      "metadata": {
        "id": "L8kU9B-Uwcvm",
        "colab": {
          "base_uri": "https://localhost:8080/",
          "height": 35
        },
        "outputId": "9596ae2c-b63e-4770-df5b-a046135091f1"
      },
      "outputs": [
        {
          "output_type": "execute_result",
          "data": {
            "text/plain": [
              "'some text input ### LABEL: output'"
            ],
            "application/vnd.google.colaboratory.intrinsic+json": {
              "type": "string"
            }
          },
          "metadata": {},
          "execution_count": 45
        }
      ],
      "source": [
        "# Create a sample prompt format\n",
        "sample_prompt_format = \"some text {} {} {}\"\n",
        "\n",
        "# Create a sample prompt\n",
        "sample_prompt = sample_prompt_format.format(\"input\", output_delimiter, \"output\")\n",
        "sample_prompt"
      ]
    },
    {
      "cell_type": "code",
      "execution_count": null,
      "metadata": {
        "id": "JvmhNe-8WB0n",
        "colab": {
          "base_uri": "https://localhost:8080/"
        },
        "outputId": "cb7ed440-eb02-45c2-a11d-18e3ff412e71"
      },
      "outputs": [
        {
          "output_type": "stream",
          "name": "stdout",
          "text": [
            "Original output_delimiter: ### LABEL:\n",
            "output_delimiter_ids: [17010, 57974, 25]\n",
            "Delimiter tokens: ['Ġ###', 'ĠLABEL', ':']\n",
            "Reconstructed output_delimiter:  ### LABEL:\n"
          ]
        }
      ],
      "source": [
        "output_delimiter_ids = get_token_ids_in_context(tokenizer, full_string=sample_prompt, substring=output_delimiter )\n",
        "\n",
        "# Print debug information\n",
        "print('Original output_delimiter:', output_delimiter)\n",
        "print('output_delimiter_ids:', output_delimiter_ids)\n",
        "print('Delimiter tokens:', tokenizer.convert_ids_to_tokens(output_delimiter_ids))\n",
        "print('Reconstructed output_delimiter:', tokenizer.decode(output_delimiter_ids))"
      ]
    },
    {
      "cell_type": "code",
      "execution_count": null,
      "metadata": {
        "id": "-0ljbK-MwpFv"
      },
      "outputs": [],
      "source": [
        "data_collator_comp = DataCollatorForCompletionOnlyLM(tokenizer=tokenizer, mlm=False,\n",
        "                                                      response_template=output_delimiter_ids)"
      ]
    },
    {
      "cell_type": "markdown",
      "metadata": {
        "id": "Ft2266IWwwqm"
      },
      "source": [
        "#  <font color = 'indianred'> **7. Model Training**"
      ]
    },
    {
      "cell_type": "markdown",
      "metadata": {
        "id": "1Tup3-9Vw0cT"
      },
      "source": [
        "##  <font color = 'indianred'> **7.1 Download pre-trained model**"
      ]
    },
    {
      "cell_type": "code",
      "execution_count": null,
      "metadata": {
        "id": "ocz0oIMawsl6"
      },
      "outputs": [],
      "source": [
        "def get_appropriate_dtype():\n",
        "    if torch.cuda.is_available() and torch.cuda.get_device_capability(0) >= (8, 0):\n",
        "        return torch.bfloat16\n",
        "    return torch.float16"
      ]
    },
    {
      "cell_type": "code",
      "execution_count": null,
      "metadata": {
        "id": "RmGJAUx7w6Qp",
        "colab": {
          "base_uri": "https://localhost:8080/"
        },
        "outputId": "1b4f4419-48e1-424c-a8e9-64b16cbbb593"
      },
      "outputs": [
        {
          "output_type": "execute_result",
          "data": {
            "text/plain": [
              "torch.bfloat16"
            ]
          },
          "metadata": {},
          "execution_count": 49
        }
      ],
      "source": [
        "torch_data_type = get_appropriate_dtype()\n",
        "torch_data_type"
      ]
    },
    {
      "cell_type": "code",
      "execution_count": null,
      "metadata": {
        "id": "9K9UJG-Zw9fs"
      },
      "outputs": [],
      "source": [
        "bnb_config = BitsAndBytesConfig(\n",
        "  load_in_4bit=True,\n",
        "  bnb_4bit_quant_type=\"nf4\",\n",
        "  bnb_4bit_use_double_quant=True,\n",
        "  bnb_4bit_compute_dtype=torch_data_type,\n",
        "  bnb_4bit_quant_storage=torch_data_type,\n",
        ")"
      ]
    },
    {
      "cell_type": "code",
      "execution_count": null,
      "metadata": {
        "id": "Mg9nW3sIw_ao",
        "colab": {
          "base_uri": "https://localhost:8080/",
          "height": 131,
          "referenced_widgets": [
            "46712a15f51046f381b3f97a25ff4420",
            "c9d84b97469941eb9f2cd090f81b7285",
            "4140c348b4824ae29cccf73653eda101",
            "7e722d8a4f4249cd857528219acbbba7",
            "fc79c4df91a641d385a4bbee9d2ba6c0",
            "9476383d8ae441639f8c9e6fde072444",
            "1506f4f28c6a4a92b3a2a70f1ec8bd05",
            "c4eec3195b8044f98787fe228fabed17",
            "d52ea3d07c6e404faf82c707999863e3",
            "6de4948621e64975871de038bee2a670",
            "4262828bd5bf4522acf85e02e4eba804",
            "fd40db36defd46cdbfd218bb8f0ab6e6",
            "cb1feba2a69049fbbfd4d8b53e11241f",
            "638019491bb14672b269a98b4e7f6ac7",
            "f605b39929984b778768b893b1e65004",
            "13b2a0d412a84e8e8165e4237eeee2fe",
            "054b0c7252c14cfea96129b70ef3f3e0",
            "7a04810289524f6d9dd2c35909f50628",
            "c0c2598744d14508a28ca314526014f9",
            "98d9cb4302f6467eb6586d464ee23c06",
            "d9305a368e294059b70004f29b9e26af",
            "65644fd36fa640eab443fd592bdfe052",
            "47235b38b8ee4177823048993c671ddd",
            "7c7d2bdbf22e4e8caa59545de1ba92be",
            "dc72dc00fad34dc992ed788af1c48275",
            "25d1c4c4cae6407bb1ed9f524dde1b11",
            "7f87204b30614f89b82b7cb4915c8f8d",
            "687faf4d0f4d43c7b7bc151e7997fce4",
            "66c6561ece0b461393e6a2676f5a9613",
            "6e63870cf576457b99293849b320360d",
            "4137b477425042c78cbc703d6ebd7281",
            "a767af9604ac4c9fb42ba5366779beec",
            "467547bde40a460091455c376ddd39ad"
          ]
        },
        "outputId": "df30a485-733b-4dc3-a006-b1347ca8d226"
      },
      "outputs": [
        {
          "output_type": "display_data",
          "data": {
            "text/plain": [
              "config.json:   0%|          | 0.00/843 [00:00<?, ?B/s]"
            ],
            "application/vnd.jupyter.widget-view+json": {
              "version_major": 2,
              "version_minor": 0,
              "model_id": "46712a15f51046f381b3f97a25ff4420"
            }
          },
          "metadata": {}
        },
        {
          "output_type": "stream",
          "name": "stderr",
          "text": [
            "`low_cpu_mem_usage` was None, now default to True since model is quantized.\n"
          ]
        },
        {
          "output_type": "display_data",
          "data": {
            "text/plain": [
              "model.safetensors:   0%|          | 0.00/2.47G [00:00<?, ?B/s]"
            ],
            "application/vnd.jupyter.widget-view+json": {
              "version_major": 2,
              "version_minor": 0,
              "model_id": "fd40db36defd46cdbfd218bb8f0ab6e6"
            }
          },
          "metadata": {}
        },
        {
          "output_type": "display_data",
          "data": {
            "text/plain": [
              "generation_config.json:   0%|          | 0.00/185 [00:00<?, ?B/s]"
            ],
            "application/vnd.jupyter.widget-view+json": {
              "version_major": 2,
              "version_minor": 0,
              "model_id": "47235b38b8ee4177823048993c671ddd"
            }
          },
          "metadata": {}
        }
      ],
      "source": [
        "model_llama_LH = AutoModelForCausalLM.from_pretrained(checkpoint,\n",
        "                                             quantization_config=bnb_config,\n",
        "                                             torch_dtype=torch_data_type,\n",
        "                                             trust_remote_code=True,)"
      ]
    },
    {
      "cell_type": "markdown",
      "metadata": {
        "id": "4VnxpHwcxDIZ"
      },
      "source": [
        "##  <font color = 'indianred'> **7.2 PEFT Setup**"
      ]
    },
    {
      "cell_type": "code",
      "execution_count": null,
      "metadata": {
        "id": "4B0UPb87xEsp",
        "colab": {
          "base_uri": "https://localhost:8080/"
        },
        "outputId": "e1025200-0f89-4714-c871-faafdf013665"
      },
      "outputs": [
        {
          "output_type": "execute_result",
          "data": {
            "text/plain": [
              "LlamaForCausalLM(\n",
              "  (model): LlamaModel(\n",
              "    (embed_tokens): Embedding(128256, 2048)\n",
              "    (layers): ModuleList(\n",
              "      (0-15): 16 x LlamaDecoderLayer(\n",
              "        (self_attn): LlamaSdpaAttention(\n",
              "          (q_proj): Linear4bit(in_features=2048, out_features=2048, bias=False)\n",
              "          (k_proj): Linear4bit(in_features=2048, out_features=512, bias=False)\n",
              "          (v_proj): Linear4bit(in_features=2048, out_features=512, bias=False)\n",
              "          (o_proj): Linear4bit(in_features=2048, out_features=2048, bias=False)\n",
              "          (rotary_emb): LlamaRotaryEmbedding()\n",
              "        )\n",
              "        (mlp): LlamaMLP(\n",
              "          (gate_proj): Linear4bit(in_features=2048, out_features=8192, bias=False)\n",
              "          (up_proj): Linear4bit(in_features=2048, out_features=8192, bias=False)\n",
              "          (down_proj): Linear4bit(in_features=8192, out_features=2048, bias=False)\n",
              "          (act_fn): SiLU()\n",
              "        )\n",
              "        (input_layernorm): LlamaRMSNorm((2048,), eps=1e-05)\n",
              "        (post_attention_layernorm): LlamaRMSNorm((2048,), eps=1e-05)\n",
              "      )\n",
              "    )\n",
              "    (norm): LlamaRMSNorm((2048,), eps=1e-05)\n",
              "    (rotary_emb): LlamaRotaryEmbedding()\n",
              "  )\n",
              "  (lm_head): Linear(in_features=2048, out_features=128256, bias=False)\n",
              ")"
            ]
          },
          "metadata": {},
          "execution_count": 52
        }
      ],
      "source": [
        "model_llama_LH"
      ]
    },
    {
      "cell_type": "code",
      "execution_count": null,
      "metadata": {
        "id": "WWukb_BIxGd-"
      },
      "outputs": [],
      "source": [
        "def find_linear_layers(model):\n",
        "    \"\"\"\n",
        "    Extracts the unique names of Linear layers from a model.\n",
        "\n",
        "    Args:\n",
        "    model (nn.Module): The model from which to extract Linear layer names.\n",
        "\n",
        "    Returns:\n",
        "    list: A list of unique names of Linear layers.\n",
        "    \"\"\"\n",
        "    # Convert the model's modules to string\n",
        "    model_modules = str(model.modules)\n",
        "    # Pattern to extract names of Linear layers\n",
        "    pattern = r'\\((\\w+)\\): Linear'\n",
        "    # Find all occurrences of the pattern\n",
        "    linear_layer_names = re.findall(pattern, model_modules)\n",
        "    print(linear_layer_names)\n",
        "    # Get unique names using a set, then convert back to list\n",
        "    target_modules = list(set(linear_layer_names))\n",
        "    return target_modules"
      ]
    },
    {
      "cell_type": "code",
      "execution_count": null,
      "metadata": {
        "id": "6eL7hwRaxNUu",
        "colab": {
          "base_uri": "https://localhost:8080/"
        },
        "outputId": "a310a4f9-f4e5-4d94-996b-5056e37b559f"
      },
      "outputs": [
        {
          "output_type": "stream",
          "name": "stdout",
          "text": [
            "['q_proj', 'k_proj', 'v_proj', 'o_proj', 'gate_proj', 'up_proj', 'down_proj', 'lm_head']\n"
          ]
        },
        {
          "output_type": "execute_result",
          "data": {
            "text/plain": [
              "['gate_proj',\n",
              " 'lm_head',\n",
              " 'up_proj',\n",
              " 'k_proj',\n",
              " 'o_proj',\n",
              " 'down_proj',\n",
              " 'v_proj',\n",
              " 'q_proj']"
            ]
          },
          "metadata": {},
          "execution_count": 54
        }
      ],
      "source": [
        "find_linear_layers(model_llama_LH)"
      ]
    },
    {
      "cell_type": "code",
      "execution_count": null,
      "metadata": {
        "id": "XURpVqaJxQqR",
        "colab": {
          "base_uri": "https://localhost:8080/",
          "height": 35
        },
        "outputId": "679e0fb9-1230-45ac-90eb-b48915a035fd"
      },
      "outputs": [
        {
          "output_type": "execute_result",
          "data": {
            "text/plain": [
              "<TaskType.CAUSAL_LM: 'CAUSAL_LM'>"
            ],
            "application/vnd.google.colaboratory.intrinsic+json": {
              "type": "string"
            }
          },
          "metadata": {},
          "execution_count": 55
        }
      ],
      "source": [
        "TaskType.CAUSAL_LM"
      ]
    },
    {
      "cell_type": "code",
      "execution_count": null,
      "metadata": {
        "id": "rLVjHc1jxTPY",
        "colab": {
          "base_uri": "https://localhost:8080/"
        },
        "outputId": "d27c441b-eebe-4d36-956c-1b1abe4965ed"
      },
      "outputs": [
        {
          "output_type": "stream",
          "name": "stdout",
          "text": [
            "trainable params: 90,177,536 || all params: 1,325,991,936 || trainable%: 6.8008\n"
          ]
        }
      ],
      "source": [
        "peft_config = LoraConfig(\n",
        "    task_type=TaskType.CAUSAL_LM,\n",
        "    r=128,\n",
        "    lora_alpha=256,\n",
        "    lora_dropout=0.1,\n",
        "    target_modules = ['v_proj',  'q_proj',  'up_proj', 'o_proj', 'down_proj', 'gate_proj','k_proj'])\n",
        "\n",
        "lora_model = get_peft_model(model_llama_LH, peft_config )\n",
        "# qlora_model.resize_token_embeddings(len(tokenizer))\n",
        "lora_model.print_trainable_parameters()"
      ]
    },
    {
      "cell_type": "markdown",
      "metadata": {
        "id": "6H-mF74f3qMg"
      },
      "source": [
        "## <font color = 'indianred'> **7.3 Training Arguments**</font>"
      ]
    },
    {
      "cell_type": "code",
      "execution_count": null,
      "metadata": {
        "id": "vkrAq4_xxZPw"
      },
      "outputs": [],
      "source": [
        "run_name= 'Llama_language_head'\n",
        "\n",
        "use_fp16 = torch_data_type == torch.float16\n",
        "use_bf16 = torch_data_type == torch.bfloat16\n",
        "\n",
        "training_args = SFTConfig(\n",
        "    seed=42,\n",
        "    max_seq_length=1024,\n",
        "    # Training-specific configurations\n",
        "    num_train_epochs=3,  # Total number of training epochs\n",
        "    per_device_train_batch_size=8,\n",
        "    per_device_eval_batch_size=8,\n",
        "    gradient_accumulation_steps=4,\n",
        "    gradient_checkpointing=True,\n",
        "    gradient_checkpointing_kwargs={\"use_reentrant\": False},\n",
        "    weight_decay=0.05,  # Add small weight decay for better generalization\n",
        "    learning_rate=1e-5,  # Start learning rate at 0.00001\n",
        "    optim='adamw_torch',  # Optimizer\n",
        "\n",
        "    # Checkpoint saving and model evaluation settings\n",
        "    output_dir=str(model_folder),  # Directory to save model checkpoints\n",
        "    eval_strategy='steps',  # Evaluate model at specified step intervals\n",
        "    eval_steps=20,  # Perform evaluation every 20 training steps\n",
        "    save_strategy=\"steps\",  # Save model checkpoint at specified step intervals\n",
        "    save_steps=20,  # Save a model checkpoint every 20 training steps\n",
        "    load_best_model_at_end=True,  # Reload the best model at the end of training\n",
        "    save_total_limit=2,  # Retain only the best and the most recent model checkpoints\n",
        "    metric_for_best_model=\"eval_loss\",\n",
        "    greater_is_better=False,  # A model is 'better' if its loss is lower\n",
        "\n",
        "    # Experiment logging configurations\n",
        "    logging_strategy='steps',\n",
        "    logging_steps=20,\n",
        "    report_to='wandb',  # Log metrics to Weights & Biases\n",
        "    run_name=run_name,  # Experiment name for Weights & Biases\n",
        "\n",
        "    # Precision settings based on GPU capability\n",
        "    fp16=use_fp16,  # Set True if torch_data_type is torch.float16\n",
        "    bf16=use_bf16,  # Set True if torch_data_type is torch.bfloat16\n",
        "    tf32=False,  # Disable tf32 unless you want to use Ampere specific optimization\n",
        ")"
      ]
    },
    {
      "cell_type": "code",
      "execution_count": null,
      "metadata": {
        "id": "Qf5qrEg1x7CB",
        "colab": {
          "base_uri": "https://localhost:8080/"
        },
        "outputId": "6d7e9a36-c9bc-44e1-81f4-bc1e6c43d0d6"
      },
      "outputs": [
        {
          "output_type": "execute_result",
          "data": {
            "text/plain": [
              "LlamaConfig {\n",
              "  \"_attn_implementation_autoset\": true,\n",
              "  \"_name_or_path\": \"meta-llama/Llama-3.2-1B\",\n",
              "  \"architectures\": [\n",
              "    \"LlamaForCausalLM\"\n",
              "  ],\n",
              "  \"attention_bias\": false,\n",
              "  \"attention_dropout\": 0.0,\n",
              "  \"bos_token_id\": 128000,\n",
              "  \"eos_token_id\": 128001,\n",
              "  \"head_dim\": 64,\n",
              "  \"hidden_act\": \"silu\",\n",
              "  \"hidden_size\": 2048,\n",
              "  \"initializer_range\": 0.02,\n",
              "  \"intermediate_size\": 8192,\n",
              "  \"max_position_embeddings\": 131072,\n",
              "  \"mlp_bias\": false,\n",
              "  \"model_type\": \"llama\",\n",
              "  \"num_attention_heads\": 32,\n",
              "  \"num_hidden_layers\": 16,\n",
              "  \"num_key_value_heads\": 8,\n",
              "  \"pretraining_tp\": 1,\n",
              "  \"quantization_config\": {\n",
              "    \"_load_in_4bit\": true,\n",
              "    \"_load_in_8bit\": false,\n",
              "    \"bnb_4bit_compute_dtype\": \"bfloat16\",\n",
              "    \"bnb_4bit_quant_storage\": \"bfloat16\",\n",
              "    \"bnb_4bit_quant_type\": \"nf4\",\n",
              "    \"bnb_4bit_use_double_quant\": true,\n",
              "    \"llm_int8_enable_fp32_cpu_offload\": false,\n",
              "    \"llm_int8_has_fp16_weight\": false,\n",
              "    \"llm_int8_skip_modules\": null,\n",
              "    \"llm_int8_threshold\": 6.0,\n",
              "    \"load_in_4bit\": true,\n",
              "    \"load_in_8bit\": false,\n",
              "    \"quant_method\": \"bitsandbytes\"\n",
              "  },\n",
              "  \"rms_norm_eps\": 1e-05,\n",
              "  \"rope_scaling\": {\n",
              "    \"factor\": 32.0,\n",
              "    \"high_freq_factor\": 4.0,\n",
              "    \"low_freq_factor\": 1.0,\n",
              "    \"original_max_position_embeddings\": 8192,\n",
              "    \"rope_type\": \"llama3\"\n",
              "  },\n",
              "  \"rope_theta\": 500000.0,\n",
              "  \"tie_word_embeddings\": true,\n",
              "  \"torch_dtype\": \"bfloat16\",\n",
              "  \"transformers_version\": \"4.46.3\",\n",
              "  \"use_cache\": false,\n",
              "  \"vocab_size\": 128256\n",
              "}"
            ]
          },
          "metadata": {},
          "execution_count": 58
        }
      ],
      "source": [
        "# If gradient checkpointing is enabled, configure relevant settings\n",
        "if training_args.gradient_checkpointing:\n",
        "    model_llama_LH.config.use_cache = False  # Disable caching for compatibility\n",
        "\n",
        "model_llama_LH.config"
      ]
    },
    {
      "cell_type": "markdown",
      "metadata": {
        "id": "KcCkW8wY3uea"
      },
      "source": [
        "##  <font color = 'indianred'> **7.4 Initialize Trainer**</font>"
      ]
    },
    {
      "cell_type": "code",
      "execution_count": null,
      "metadata": {
        "id": "P0RIZ-I61en1",
        "colab": {
          "base_uri": "https://localhost:8080/",
          "height": 81,
          "referenced_widgets": [
            "c39c74cdec6a4fc593f054b91d7f6be8",
            "ffd46a7866d943518598938846645024",
            "152a1262e9c8478f8162cca6d0792192",
            "bc98fabbb2be4e66b549ef89883dd1d0",
            "bfe775bf78e24a4fac1b79d05b5c4605",
            "b2d589252df6497c89a16b2caed446a5",
            "d8e85d90b0b9446c9dd5ec690d55609e",
            "d8e9bff081654767bca2309e90bbbea6",
            "1df9ff5010ac4bf185ba4cbaef5dfa5f",
            "a07aff408dda4fc6b69c3ed455ce4a7b",
            "ac56544fe8e94c908aaf5501359ae6e0",
            "15cc71178478419fac7e865b625dda22",
            "5320d30477114ec480d037459e85c679",
            "fea73153fc13405a899a4cafb2827643",
            "408b83d2df1d42f6a00f10e1c5aeb2da",
            "9ecc0f4bcf94409199535d5970b0db5b",
            "e709d5dcda9e46208b68e691c4185c09",
            "59476a8f617245159b065877e9809f03",
            "94e7a449791742309d525929fbdc133c",
            "d35df5d998164b1d8338be820f1f3a40",
            "3f41df647a414ca8a80e97a820252877",
            "ec88b1eb9dcf48caa4702753e156bd6e"
          ]
        },
        "outputId": "fbad0b5f-18fb-47bf-dae3-705fad0c06f7"
      },
      "outputs": [
        {
          "output_type": "display_data",
          "data": {
            "text/plain": [
              "Map:   0%|          | 0/6179 [00:00<?, ? examples/s]"
            ],
            "application/vnd.jupyter.widget-view+json": {
              "version_major": 2,
              "version_minor": 0,
              "model_id": "c39c74cdec6a4fc593f054b91d7f6be8"
            }
          },
          "metadata": {}
        },
        {
          "output_type": "display_data",
          "data": {
            "text/plain": [
              "Map:   0%|          | 0/1545 [00:00<?, ? examples/s]"
            ],
            "application/vnd.jupyter.widget-view+json": {
              "version_major": 2,
              "version_minor": 0,
              "model_id": "15cc71178478419fac7e865b625dda22"
            }
          },
          "metadata": {}
        }
      ],
      "source": [
        "# lora_model.config.use_cache = False\n",
        "trainer = SFTTrainer(\n",
        "        model=model_llama_LH,\n",
        "        tokenizer=tokenizer,\n",
        "        args=training_args,\n",
        "        train_dataset=train_val_dataset_filtered['train'],\n",
        "        eval_dataset=train_val_dataset_filtered['valid'],\n",
        "        peft_config=peft_config,\n",
        "        formatting_func =  formatting_prompts_func_final,\n",
        "        data_collator=data_collator_comp,)"
      ]
    },
    {
      "cell_type": "markdown",
      "metadata": {
        "id": "0blq9Qr_45Gy"
      },
      "source": [
        "## <font color = 'indianred'> **7.5 Setup WandB**</font>"
      ]
    },
    {
      "cell_type": "code",
      "execution_count": null,
      "metadata": {
        "id": "hv_SgjlY2xnm",
        "colab": {
          "base_uri": "https://localhost:8080/"
        },
        "outputId": "ec9c2407-dee9-4239-a5ce-599fa60effb5"
      },
      "outputs": [
        {
          "output_type": "stream",
          "name": "stdout",
          "text": [
            "env: WANDB_PROJECT=Emotion_detection_fall_2024\n"
          ]
        }
      ],
      "source": [
        "%env WANDB_PROJECT = Emotion_detection_fall_2024"
      ]
    },
    {
      "cell_type": "markdown",
      "metadata": {
        "id": "ZNkhCuLg4_GX"
      },
      "source": [
        "##  <font color = 'indianred'> **7.6 Training**"
      ]
    },
    {
      "cell_type": "code",
      "execution_count": null,
      "metadata": {
        "id": "zAGH3J3z3XCt",
        "colab": {
          "base_uri": "https://localhost:8080/",
          "height": 1000
        },
        "outputId": "f51e37b7-d6c1-4821-d87b-744309d802fe"
      },
      "outputs": [
        {
          "output_type": "display_data",
          "data": {
            "text/plain": [
              "<IPython.core.display.HTML object>"
            ],
            "text/html": [
              "Changes to your `wandb` environment variables will be ignored because your `wandb` session has already started. For more information on how to modify your settings with `wandb.init()` arguments, please refer to <a href='https://wandb.me/wandb-init' target=\"_blank\">the W&B docs</a>."
            ]
          },
          "metadata": {}
        },
        {
          "output_type": "display_data",
          "data": {
            "text/plain": [
              "<IPython.core.display.HTML object>"
            ],
            "text/html": [
              "Tracking run with wandb version 0.19.1"
            ]
          },
          "metadata": {}
        },
        {
          "output_type": "display_data",
          "data": {
            "text/plain": [
              "<IPython.core.display.HTML object>"
            ],
            "text/html": [
              "Run data is saved locally in <code>/content/wandb/run-20241213_010828-kzycajvn</code>"
            ]
          },
          "metadata": {}
        },
        {
          "output_type": "display_data",
          "data": {
            "text/plain": [
              "<IPython.core.display.HTML object>"
            ],
            "text/html": [
              "Syncing run <strong><a href='https://wandb.ai/vondervish-university-of-texas-at-dallas/Emotion_detection_fall_2024/runs/kzycajvn' target=\"_blank\">Llama_language_head</a></strong> to <a href='https://wandb.ai/vondervish-university-of-texas-at-dallas/Emotion_detection_fall_2024' target=\"_blank\">Weights & Biases</a> (<a href='https://wandb.me/developer-guide' target=\"_blank\">docs</a>)<br>"
            ]
          },
          "metadata": {}
        },
        {
          "output_type": "display_data",
          "data": {
            "text/plain": [
              "<IPython.core.display.HTML object>"
            ],
            "text/html": [
              " View project at <a href='https://wandb.ai/vondervish-university-of-texas-at-dallas/Emotion_detection_fall_2024' target=\"_blank\">https://wandb.ai/vondervish-university-of-texas-at-dallas/Emotion_detection_fall_2024</a>"
            ]
          },
          "metadata": {}
        },
        {
          "output_type": "display_data",
          "data": {
            "text/plain": [
              "<IPython.core.display.HTML object>"
            ],
            "text/html": [
              " View run at <a href='https://wandb.ai/vondervish-university-of-texas-at-dallas/Emotion_detection_fall_2024/runs/kzycajvn' target=\"_blank\">https://wandb.ai/vondervish-university-of-texas-at-dallas/Emotion_detection_fall_2024/runs/kzycajvn</a>"
            ]
          },
          "metadata": {}
        },
        {
          "output_type": "display_data",
          "data": {
            "text/plain": [
              "<IPython.core.display.HTML object>"
            ],
            "text/html": [
              "\n",
              "    <div>\n",
              "      \n",
              "      <progress value='579' max='579' style='width:300px; height:20px; vertical-align: middle;'></progress>\n",
              "      [579/579 22:27, Epoch 2/3]\n",
              "    </div>\n",
              "    <table border=\"1\" class=\"dataframe\">\n",
              "  <thead>\n",
              " <tr style=\"text-align: left;\">\n",
              "      <th>Step</th>\n",
              "      <th>Training Loss</th>\n",
              "      <th>Validation Loss</th>\n",
              "    </tr>\n",
              "  </thead>\n",
              "  <tbody>\n",
              "    <tr>\n",
              "      <td>20</td>\n",
              "      <td>0.993900</td>\n",
              "      <td>0.446614</td>\n",
              "    </tr>\n",
              "    <tr>\n",
              "      <td>40</td>\n",
              "      <td>0.400900</td>\n",
              "      <td>0.401253</td>\n",
              "    </tr>\n",
              "    <tr>\n",
              "      <td>60</td>\n",
              "      <td>0.358400</td>\n",
              "      <td>0.361915</td>\n",
              "    </tr>\n",
              "    <tr>\n",
              "      <td>80</td>\n",
              "      <td>0.348000</td>\n",
              "      <td>0.363281</td>\n",
              "    </tr>\n",
              "    <tr>\n",
              "      <td>100</td>\n",
              "      <td>0.338000</td>\n",
              "      <td>0.340208</td>\n",
              "    </tr>\n",
              "    <tr>\n",
              "      <td>120</td>\n",
              "      <td>0.339700</td>\n",
              "      <td>0.338450</td>\n",
              "    </tr>\n",
              "    <tr>\n",
              "      <td>140</td>\n",
              "      <td>0.349100</td>\n",
              "      <td>0.339197</td>\n",
              "    </tr>\n",
              "    <tr>\n",
              "      <td>160</td>\n",
              "      <td>0.333400</td>\n",
              "      <td>0.334988</td>\n",
              "    </tr>\n",
              "    <tr>\n",
              "      <td>180</td>\n",
              "      <td>0.333600</td>\n",
              "      <td>0.327220</td>\n",
              "    </tr>\n",
              "    <tr>\n",
              "      <td>200</td>\n",
              "      <td>0.338200</td>\n",
              "      <td>0.330881</td>\n",
              "    </tr>\n",
              "    <tr>\n",
              "      <td>220</td>\n",
              "      <td>0.318000</td>\n",
              "      <td>0.333745</td>\n",
              "    </tr>\n",
              "    <tr>\n",
              "      <td>240</td>\n",
              "      <td>0.307000</td>\n",
              "      <td>0.329038</td>\n",
              "    </tr>\n",
              "    <tr>\n",
              "      <td>260</td>\n",
              "      <td>0.303500</td>\n",
              "      <td>0.322827</td>\n",
              "    </tr>\n",
              "    <tr>\n",
              "      <td>280</td>\n",
              "      <td>0.297100</td>\n",
              "      <td>0.323201</td>\n",
              "    </tr>\n",
              "    <tr>\n",
              "      <td>300</td>\n",
              "      <td>0.309500</td>\n",
              "      <td>0.317624</td>\n",
              "    </tr>\n",
              "    <tr>\n",
              "      <td>320</td>\n",
              "      <td>0.280200</td>\n",
              "      <td>0.321313</td>\n",
              "    </tr>\n",
              "    <tr>\n",
              "      <td>340</td>\n",
              "      <td>0.312200</td>\n",
              "      <td>0.321969</td>\n",
              "    </tr>\n",
              "    <tr>\n",
              "      <td>360</td>\n",
              "      <td>0.289200</td>\n",
              "      <td>0.316850</td>\n",
              "    </tr>\n",
              "    <tr>\n",
              "      <td>380</td>\n",
              "      <td>0.302200</td>\n",
              "      <td>0.311084</td>\n",
              "    </tr>\n",
              "    <tr>\n",
              "      <td>400</td>\n",
              "      <td>0.300900</td>\n",
              "      <td>0.313701</td>\n",
              "    </tr>\n",
              "    <tr>\n",
              "      <td>420</td>\n",
              "      <td>0.270000</td>\n",
              "      <td>0.318372</td>\n",
              "    </tr>\n",
              "    <tr>\n",
              "      <td>440</td>\n",
              "      <td>0.291300</td>\n",
              "      <td>0.314687</td>\n",
              "    </tr>\n",
              "    <tr>\n",
              "      <td>460</td>\n",
              "      <td>0.276400</td>\n",
              "      <td>0.313566</td>\n",
              "    </tr>\n",
              "    <tr>\n",
              "      <td>480</td>\n",
              "      <td>0.286900</td>\n",
              "      <td>0.311828</td>\n",
              "    </tr>\n",
              "    <tr>\n",
              "      <td>500</td>\n",
              "      <td>0.270200</td>\n",
              "      <td>0.310880</td>\n",
              "    </tr>\n",
              "    <tr>\n",
              "      <td>520</td>\n",
              "      <td>0.279100</td>\n",
              "      <td>0.311675</td>\n",
              "    </tr>\n",
              "    <tr>\n",
              "      <td>540</td>\n",
              "      <td>0.273800</td>\n",
              "      <td>0.310136</td>\n",
              "    </tr>\n",
              "    <tr>\n",
              "      <td>560</td>\n",
              "      <td>0.267200</td>\n",
              "      <td>0.308983</td>\n",
              "    </tr>\n",
              "  </tbody>\n",
              "</table><p>"
            ]
          },
          "metadata": {}
        }
      ],
      "source": [
        "try:\n",
        "    # Your code that may cause a CUDA out-of-memory error\n",
        "    # Example: trainer.train() or other GPU intensive operations\n",
        "    # lora_model.config.use_cache = False\n",
        "    trainer.train()\n",
        "except RuntimeError as e:\n",
        "    if 'CUDA out of memory' in str(e):\n",
        "        print(\"CUDA out of memory error detected. Freeing GPU memory.\")\n",
        "        free_gpu_memory()\n",
        "        # Optionally, you can retry the operation here after freeing up memory\n",
        "        # Example retry:\n",
        "        # trainer.train()\n",
        "    else:\n",
        "        raise e"
      ]
    },
    {
      "cell_type": "code",
      "execution_count": null,
      "metadata": {
        "id": "m8MdvyKV3cUc"
      },
      "outputs": [],
      "source": [
        "best_model_checkpoint_step = trainer.state.best_model_checkpoint.split('-')[-1]"
      ]
    },
    {
      "cell_type": "code",
      "execution_count": null,
      "metadata": {
        "id": "wE1ufsGO3eMR",
        "colab": {
          "base_uri": "https://localhost:8080/",
          "height": 35
        },
        "outputId": "478e3ec4-8561-4df8-f53e-872e7ed1c846"
      },
      "outputs": [
        {
          "output_type": "execute_result",
          "data": {
            "text/plain": [
              "'560'"
            ],
            "application/vnd.google.colaboratory.intrinsic+json": {
              "type": "string"
            }
          },
          "metadata": {},
          "execution_count": 63
        }
      ],
      "source": [
        "best_model_checkpoint_step"
      ]
    },
    {
      "cell_type": "markdown",
      "metadata": {
        "id": "4PBV93Lr3hlb"
      },
      "source": [
        "##  <font color = 'indianred'> **7.7 Validation**\n",
        "\n",
        "<font color = 'indianred'> *Evaluate model on Validation Set* </font>"
      ]
    },
    {
      "cell_type": "code",
      "execution_count": null,
      "metadata": {
        "id": "I_8Ruk9B5HXi",
        "colab": {
          "base_uri": "https://localhost:8080/",
          "height": 35
        },
        "outputId": "a7bf7183-0958-4456-e12d-25e7f5352fab"
      },
      "outputs": [
        {
          "output_type": "execute_result",
          "data": {
            "text/plain": [
              "'/content/drive/MyDrive/Data/Models/Emotion_detection_Llama_languagehead_fall_2024/checkpoint-560'"
            ],
            "application/vnd.google.colaboratory.intrinsic+json": {
              "type": "string"
            }
          },
          "metadata": {},
          "execution_count": 64
        }
      ],
      "source": [
        "model_folder = base_folder/'Models/Emotion_detection_Llama_languagehead_fall_2024'\n",
        "best_model_checkpoint_step\n",
        "checkpoint = str(model_folder/f'checkpoint-{best_model_checkpoint_step}')\n",
        "checkpoint"
      ]
    },
    {
      "cell_type": "code",
      "execution_count": null,
      "metadata": {
        "id": "8IJNnH4SX-FA"
      },
      "outputs": [],
      "source": [
        "from peft import AutoPeftModelForCausalLM, PeftConfig"
      ]
    },
    {
      "cell_type": "code",
      "execution_count": null,
      "metadata": {
        "id": "C2SXT1EA5WpI"
      },
      "outputs": [],
      "source": [
        "model = AutoPeftModelForCausalLM.from_pretrained(checkpoint,\n",
        "                                             quantization_config=bnb_config,\n",
        "                                             torch_dtype=torch_data_type,\n",
        "                                             trust_remote_code=True,\n",
        "                                             device_map='auto')"
      ]
    },
    {
      "cell_type": "code",
      "execution_count": null,
      "metadata": {
        "id": "dilayMva5ZYZ",
        "colab": {
          "base_uri": "https://localhost:8080/"
        },
        "outputId": "3412157c-4a24-4550-f295-66dc558dd308"
      },
      "outputs": [
        {
          "output_type": "execute_result",
          "data": {
            "text/plain": [
              "device(type='cuda', index=0)"
            ]
          },
          "metadata": {},
          "execution_count": 67
        }
      ],
      "source": [
        "model.device"
      ]
    },
    {
      "cell_type": "code",
      "execution_count": null,
      "metadata": {
        "id": "Dy_v-5jWYF5O"
      },
      "outputs": [],
      "source": [
        "peft_config = PeftConfig.from_pretrained(checkpoint)\n",
        "base_model_name = peft_config.base_model_name_or_path\n",
        "tokenizer = AutoTokenizer.from_pretrained(base_model_name)\n",
        "tokenizer.pad_token = \"<|finetune_right_pad_id|>\"\n",
        "tokenizer.padding_side='left'"
      ]
    },
    {
      "cell_type": "code",
      "execution_count": null,
      "metadata": {
        "id": "UM_lCs0f5hE1"
      },
      "outputs": [],
      "source": [
        "def run_inference(\n",
        "    seed: int,\n",
        "    dataset: Union[Dict, List],\n",
        "    model,\n",
        "    tokenizer,\n",
        "    per_device_batch_size: int,\n",
        "    prompt_template: str,\n",
        "    input_field: str,\n",
        "    output_field: str,\n",
        "    output_delimiter: str,\n",
        "    save_dir: Optional[Path] = None,\n",
        "    save_file_name: Optional[str] = None,\n",
        "    max_new_tokens: int = 25,\n",
        "    num_beams: int = 1,\n",
        "    do_sample: bool = False,\n",
        "    top_k: int = 50,\n",
        "    top_p: float = 1.0,\n",
        "    temperature: float = 1.0,\n",
        "    no_repeat_ngram_size: int = 2,\n",
        "    num_return_sequences: int = 1\n",
        ") -> List[Dict]:\n",
        "    \"\"\"\n",
        "    Run inference on a dataset and return complete generations.\n",
        "\n",
        "    Args:\n",
        "        seed (int): Random seed for reproducibility\n",
        "        dataset (Union[Dict, List]): Input dataset containing text to generate from\n",
        "        model: Pre-trained model to use for inference\n",
        "        tokenizer: Tokenizer associated with the model\n",
        "        per_device_batch_size (int): Number of samples to process in each batch\n",
        "        input_field (str): Key name for accessing input text in the dataset\n",
        "        output_delimiter: Delimiter used in prompt template\n",
        "        output_field (str): Key name for accessing ground truth labels in the dataset\n",
        "        save_dir (Optional[Path]): Directory path to save generation results. If None, results won't be saved\n",
        "        save_file_name (Optional[str]): Name of the file to save results. If None, uses timestamp\n",
        "        max_new_tokens (int, optional): Maximum number of tokens to generate. Defaults to 10\n",
        "        num_beams (int, optional): Number of beams for beam search. Defaults to 1\n",
        "        do_sample (bool, optional): Whether to use sampling. Defaults to False\n",
        "        top_k (int, optional): Number of highest probability tokens to keep for top-k sampling. Defaults to 50\n",
        "        top_p (float, optional): Cumulative probability cutoff for top-p sampling. Defaults to 1.0\n",
        "        temperature (float, optional): Sampling temperature; higher means more random. Defaults to 1.0\n",
        "        no_repeat_ngram_size (int, optional): Size of n-grams to prevent repetition. Defaults to 2\n",
        "        num_return_sequences (int, optional): Number of sequences to generate per input. Defaults to 1\n",
        "\n",
        "    Returns:\n",
        "        List[Dict]: List of dictionaries containing:\n",
        "          - \"input\": Original input text\n",
        "          - \"generated_output\": Model-generated text\n",
        "          - \"ground_truth\": Ground truth label if available, \"N/A\" if not\n",
        "    \"\"\"\n",
        "    set_seed(seed)\n",
        "    model.eval()\n",
        "    print(f\"Model device for inference: {model.device}\")\n",
        "    device = model.device\n",
        "    batch_size = per_device_batch_size\n",
        "\n",
        "    inference_results = []\n",
        "\n",
        "    progress_bar = tqdm(range(0, len(dataset), batch_size), desc=\"Generating responses\")\n",
        "\n",
        "    for i in progress_bar:\n",
        "        # Create a batch\n",
        "        batch = dataset[i:i + batch_size]\n",
        "\n",
        "        try:\n",
        "            texts = batch[input_field]\n",
        "            labels = batch[output_field] if output_field in batch else [\"N/A\"] * len(texts)\n",
        "            prompts = [prompt_template.format(text.strip(), output_delimiter.strip(), \"\").strip() for text in texts]\n",
        "            inputs = tokenizer(prompts, return_tensors=\"pt\", padding=True)\n",
        "            inputs = {k: v.to(device) for k, v in inputs.items()}\n",
        "\n",
        "            with torch.no_grad():\n",
        "                outputs = model.generate(\n",
        "                    **inputs,\n",
        "                    max_new_tokens=max_new_tokens,\n",
        "                    num_beams=num_beams,\n",
        "                    do_sample=do_sample,\n",
        "                    top_k=top_k,\n",
        "                    top_p=top_p,\n",
        "                    temperature=temperature,\n",
        "                    no_repeat_ngram_size=no_repeat_ngram_size,\n",
        "                    num_return_sequences=num_return_sequences,\n",
        "                    pad_token_id=tokenizer.pad_token_id,\n",
        "                )\n",
        "\n",
        "            decoded_outputs = tokenizer.batch_decode(outputs, skip_special_tokens=True)\n",
        "\n",
        "            for text, label, decoded_output in zip(texts, labels, decoded_outputs):\n",
        "                inference_results.append({\n",
        "                    \"input\": text,\n",
        "                    \"generated_output\": decoded_output,\n",
        "                    \"ground_truth\": label\n",
        "                })\n",
        "\n",
        "            continue\n",
        "\n",
        "        except Exception as e:\n",
        "            print(f\"Error processing batch: {str(e)}\")\n",
        "            print(f\"Problematic batch: {batch}\")\n",
        "            continue\n",
        "\n",
        "    # Save generations if path provided\n",
        "    if save_dir:\n",
        "        save_dir = Path(save_dir)\n",
        "        save_dir.mkdir(parents=True, exist_ok=True)\n",
        "\n",
        "        # If no filename provided, create a timestamped one\n",
        "        if save_file_name is None:\n",
        "            from datetime import datetime\n",
        "            timestamp = datetime.now().strftime(\"%Y%m%d_%H%M%S\")\n",
        "            save_name = f\"generations_{timestamp}.json\"\n",
        "        elif not save_file_name.endswith('.json'):\n",
        "            save_name = f\"{save_file_name}.json\"\n",
        "\n",
        "        save_file = save_dir / save_name\n",
        "\n",
        "        with open(save_file, 'w') as f:\n",
        "            json.dump(inference_results, f, indent=2)\n",
        "        print(f\"Saved inference_results to: {save_file}\")\n",
        "\n",
        "    return inference_results"
      ]
    },
    {
      "cell_type": "code",
      "execution_count": null,
      "metadata": {
        "id": "qRqK5TGn5pNb",
        "colab": {
          "base_uri": "https://localhost:8080/"
        },
        "outputId": "4e2f428d-eb6a-4bce-ca51-e1ba70cdaab3"
      },
      "outputs": [
        {
          "output_type": "stream",
          "name": "stdout",
          "text": [
            "GPU memory has been freed.\n"
          ]
        }
      ],
      "source": [
        "free_gpu_memory()"
      ]
    },
    {
      "cell_type": "code",
      "execution_count": null,
      "metadata": {
        "id": "fQqSOni_5rD5",
        "colab": {
          "base_uri": "https://localhost:8080/"
        },
        "outputId": "c53527a2-83de-4c9f-f046-98249686a293"
      },
      "outputs": [
        {
          "output_type": "stream",
          "name": "stdout",
          "text": [
            "Model device for inference: cuda:0\n"
          ]
        },
        {
          "output_type": "stream",
          "name": "stderr",
          "text": [
            "Generating responses: 100%|██████████| 31/31 [00:48<00:00,  1.57s/it]\n"
          ]
        },
        {
          "output_type": "stream",
          "name": "stdout",
          "text": [
            "Saved inference_results to: /content/drive/MyDrive/Data/Models/Emotion_detection_Llama_languagehead_fall_2024/valid_complete_generations_llama.json\n"
          ]
        }
      ],
      "source": [
        "valid_inference_results = run_inference(seed = 42,\n",
        "              dataset=train_val_dataset_filtered['valid'],\n",
        "              model=model,\n",
        "              tokenizer=tokenizer,\n",
        "              per_device_batch_size=50,\n",
        "              prompt_template=prompt_template,\n",
        "              input_field=input_field,\n",
        "              output_field=output_field,\n",
        "              output_delimiter=output_delimiter,\n",
        "              save_dir=model_folder,\n",
        "              save_file_name = 'valid_complete_generations_llama')"
      ]
    },
    {
      "cell_type": "code",
      "execution_count": null,
      "metadata": {
        "id": "w6lLG1lh51b-"
      },
      "outputs": [],
      "source": [
        "file_name = model_folder/'valid_complete_generations_llama.json'\n",
        "with open(file_name, 'r') as f:\n",
        "    valid_inference_results = json.load(f)"
      ]
    },
    {
      "cell_type": "code",
      "execution_count": null,
      "metadata": {
        "id": "hREJQEl357Ko",
        "colab": {
          "base_uri": "https://localhost:8080/"
        },
        "outputId": "f6f8a2b0-3bc1-4e5a-a24b-ecc8dad0a252"
      },
      "outputs": [
        {
          "output_type": "execute_result",
          "data": {
            "text/plain": [
              "{'input': '@WellerMonica Hi Monica, I write regularly for @ctysmallholding  - but not on bees - never dared try them #buzz  #HONEY',\n",
              " 'generated_output': 'Classify the TEXT by selecting all applicable labels from the following list: [\"android\", \"asp.net\", \"c#\", \"c++\", \"iphone\", \"java\", \"javascript\", \"jquery\", \"php\", \"python\"]. ### TEXT: @WellerMonica Hi Monica, I write regularly for @ctysmallholding  - but not on bees - never dared try them #buzz  #HONEY ### LABEL: [\\'anticipation\\', \\'joy\\', ‘optimism\\']',\n",
              " 'ground_truth': ['joy']}"
            ]
          },
          "metadata": {},
          "execution_count": 73
        }
      ],
      "source": [
        "valid_inference_results[0]"
      ]
    },
    {
      "cell_type": "code",
      "execution_count": null,
      "metadata": {
        "id": "5JWyJLKO59mo",
        "colab": {
          "base_uri": "https://localhost:8080/"
        },
        "outputId": "33442634-d438-4656-c13c-4f0a7f445bbe"
      },
      "outputs": [
        {
          "output_type": "execute_result",
          "data": {
            "text/plain": [
              "'Classify the TEXT by selecting all applicable labels from the following list: [\"android\", \"asp.net\", \"c#\", \"c++\", \"iphone\", \"java\", \"javascript\", \"jquery\", \"php\", \"python\"]. ### TEXT: Get to work and there\\'s a fire drill. #fire #burning #outthere #inthedark ### LABEL: [\\'anger\\', \\'disgust\\', ‘fear\\']'"
            ],
            "application/vnd.google.colaboratory.intrinsic+json": {
              "type": "string"
            }
          },
          "metadata": {},
          "execution_count": 74
        }
      ],
      "source": [
        "valid_inference_results[1]['generated_output']"
      ]
    },
    {
      "cell_type": "code",
      "execution_count": null,
      "metadata": {
        "id": "Wx8LfdMT6AUk"
      },
      "outputs": [],
      "source": [
        "def extract_content(generated_output: str, output_delimiter: str) -> str:\n",
        "    \"\"\"\n",
        "    Extract content after delimiter from a generated output string.\n",
        "\n",
        "    Args:\n",
        "        generated_output: String containing the complete model generation\n",
        "        output_delimiter: Delimiter to extract content after\n",
        "\n",
        "    Returns:\n",
        "        Extracted content as string, or None if delimiter not found\n",
        "    \"\"\"\n",
        "    pattern = f'{re.escape(output_delimiter.strip())}\\\\s*(.*)'\n",
        "    match = re.search(pattern, generated_output, re.DOTALL)\n",
        "    return match.group(1).strip() if match else None"
      ]
    },
    {
      "cell_type": "code",
      "execution_count": null,
      "metadata": {
        "id": "ZAxNbMVa6Cr3"
      },
      "outputs": [],
      "source": [
        "valid_extracted_outputs = [\n",
        "    extract_content(result['generated_output'], output_delimiter)\n",
        "    for result in valid_inference_results\n",
        "]"
      ]
    },
    {
      "cell_type": "code",
      "execution_count": null,
      "metadata": {
        "id": "QCafIgAJ6Po2",
        "colab": {
          "base_uri": "https://localhost:8080/"
        },
        "outputId": "ac453882-d112-4cfb-bf4a-41d33b9f03c6"
      },
      "outputs": [
        {
          "output_type": "execute_result",
          "data": {
            "text/plain": [
              "\"['anticipation', 'joy', ‘optimism']\""
            ],
            "application/vnd.google.colaboratory.intrinsic+json": {
              "type": "string"
            }
          },
          "metadata": {},
          "execution_count": 77
        }
      ],
      "source": [
        "valid_extracted_outputs[0]"
      ]
    },
    {
      "cell_type": "code",
      "execution_count": null,
      "metadata": {
        "id": "hMtcbmoK6TBc",
        "colab": {
          "base_uri": "https://localhost:8080/"
        },
        "outputId": "5cce9b19-fbd8-47b8-d9df-aae0828abb3d"
      },
      "outputs": [
        {
          "output_type": "stream",
          "name": "stdout",
          "text": [
            "['anticipation', 'joy', ‘optimism']\n",
            "['anger', 'disgust', ‘fear']\n",
            "['anger', 'disgust']\n",
            "['joy', 'love', ‘optimism']\n",
            "['anger', 'disgust', ‘sadness']\n",
            "['joy', 'love', ‘optimism']\n",
            "['fear','sadness']\n",
            "['joy', 'optimism']\n",
            "['anger', 'disgust', ['fear']]\n",
            "['anger', 'disgust']\n",
            "['anger', 'disgust', ‘sadness']\n",
            "['joy', 'love', ‘optimism']\n",
            "['optimism','sadness']\n",
            "['anticipation', 'optimism']\n",
            "['joy', 'optimism']\n",
            "['joy', 'love', ‘optimism']\n",
            "['anger', 'disgust', ‘sadness']\n",
            "['fear']\n",
            "['anger', 'disgust']\n",
            "['anger', 'disgust']\n"
          ]
        }
      ],
      "source": [
        "for i in range(20):\n",
        "  print(valid_extracted_outputs[i])"
      ]
    },
    {
      "cell_type": "code",
      "execution_count": null,
      "metadata": {
        "id": "tEpRYMM_6VeO",
        "colab": {
          "base_uri": "https://localhost:8080/"
        },
        "outputId": "4aefcdc2-4144-48cb-95de-c19021d3eefe"
      },
      "outputs": [
        {
          "output_type": "stream",
          "name": "stdout",
          "text": [
            "['joy']\n",
            "[]\n",
            "['anger', 'anticipation', 'disgust', 'optimism']\n",
            "['joy', 'optimism']\n",
            "['anticipation', 'pessimism', 'sadness']\n",
            "['joy', 'optimism']\n",
            "['anger', 'fear']\n",
            "['fear', 'joy', 'optimism']\n",
            "['anger', 'disgust']\n",
            "['anger', 'disgust']\n",
            "['anger', 'disgust']\n",
            "['joy', 'optimism']\n",
            "['anticipation', 'joy', 'optimism', 'sadness']\n",
            "[]\n",
            "['anticipation', 'disgust', 'joy', 'optimism', 'sadness']\n",
            "['joy', 'love']\n",
            "['anger', 'sadness']\n",
            "['anger', 'disgust', 'fear']\n",
            "['anger', 'disgust']\n",
            "['anger', 'disgust', 'sadness']\n"
          ]
        }
      ],
      "source": [
        "for i in range(20):\n",
        "  print(valid_inference_results[i]['ground_truth'])"
      ]
    },
    {
      "cell_type": "code",
      "execution_count": null,
      "metadata": {
        "id": "dUhhy9q_6wYl"
      },
      "outputs": [],
      "source": [
        "def clean_and_split_labels(extracted_output: str, class_names: List[str], cutoff: float = 0.6) -> List[str]:\n",
        "    \"\"\"\n",
        "    Clean and normalize extracted content for multi-label classification.\n",
        "\n",
        "    Args:\n",
        "        extracted_output: String containing extracted labels\n",
        "        class_names: List of valid class names\n",
        "        cutoff: Threshold for fuzzy matching\n",
        "\n",
        "    Returns:\n",
        "        List of cleaned and normalized labels\n",
        "    \"\"\"\n",
        "    from difflib import get_close_matches\n",
        "\n",
        "    # Convert to string if not already\n",
        "    if isinstance(extracted_output, (list, tuple)):\n",
        "        label_set = ' '.join(str(x) for x in extracted_output)\n",
        "    else:\n",
        "        label_set = str(extracted_output)\n",
        "\n",
        "    # Basic cleaning\n",
        "    label_set = label_set.lstrip('=')\n",
        "    # Remove various bracket and quote combinations\n",
        "    label_set = label_set.replace('=[\"', '').replace('[\"', '').replace('\"]', '')\n",
        "    label_set = label_set.replace(\"['\", '').replace(\"']\", '')\n",
        "    label_set = label_set.replace('(\"', '').replace('\")', '')\n",
        "    label_set = label_set.replace('([\"', '').replace('\"])', '')\n",
        "    label_set = label_set.replace('([', '').replace('])', '')\n",
        "    label_set = label_set.replace('[', '').replace(']', '')\n",
        "    label_set = label_set.replace('(', '').replace(')', '')\n",
        "    label_set = label_set.replace('\"', '').replace(\"'\", '')\n",
        "\n",
        "    # Handle multiple types of separators\n",
        "    label_set = ' '.join(label_set.split())  # normalize spaces\n",
        "    raw_labels = label_set.split(',') if ',' in label_set else label_set.split()\n",
        "\n",
        "    # Clean and normalize labels\n",
        "    raw_labels = [label.strip().lower() for label in raw_labels if label.strip()]\n",
        "\n",
        "    # Match to valid classes using fuzzy matching\n",
        "    cleaned_labels = []\n",
        "    for label in raw_labels:\n",
        "        if label in class_names:\n",
        "            cleaned_labels.append(label)\n",
        "        else:\n",
        "            matches = get_close_matches(label, class_names, n=1, cutoff=cutoff)\n",
        "            if matches:\n",
        "                cleaned_labels.append(matches[0])\n",
        "\n",
        "    # Remove duplicates while preserving order\n",
        "    seen = set()\n",
        "    cleaned_labels = [x for x in cleaned_labels if not (x in seen or seen.add(x))]\n",
        "\n",
        "    return cleaned_labels\n"
      ]
    },
    {
      "cell_type": "code",
      "execution_count": null,
      "metadata": {
        "id": "CYjfttxu6ziL",
        "colab": {
          "base_uri": "https://localhost:8080/"
        },
        "outputId": "4d04d4b7-18f1-498f-ea67-28f96974a339"
      },
      "outputs": [
        {
          "output_type": "stream",
          "name": "stdout",
          "text": [
            "Sample of true labels: [['joy'], [], ['anger', 'anticipation', 'disgust', 'optimism'], ['joy', 'optimism'], ['anticipation', 'pessimism', 'sadness']]\n",
            "Sample of predictions: [['anticipation', 'joy', 'optimism'], ['anger', 'disgust', 'fear'], ['anger', 'disgust'], ['joy', 'love', 'optimism'], ['anger', 'disgust', 'sadness']]\n",
            "\n",
            "Binary format:\n",
            "Labels shape: (1545, 11)\n",
            "Predictions shape: (1545, 11)\n"
          ]
        }
      ],
      "source": [
        "# Clean and convert predictions and ground truth\n",
        "valid_predictions = [\n",
        "    clean_and_split_labels(extracted_output, class_names)\n",
        "    for extracted_output in valid_extracted_outputs\n",
        "]\n",
        "\n",
        "valid_labels = [\n",
        "    clean_and_split_labels(result['ground_truth'], class_names)\n",
        "    for result in valid_inference_results\n",
        "]\n",
        "\n",
        "# Initialize MultiLabelBinarizer with known classes\n",
        "mlb = MultiLabelBinarizer(classes=class_names)\n",
        "mlb.fit(class_names)  # Fit with all possible classes\n",
        "\n",
        "# Transform the data\n",
        "valid_labels_binary = mlb.transform(valid_labels)\n",
        "valid_predictions_binary = mlb.transform(valid_predictions)\n",
        "\n",
        "# Print samples and shapes\n",
        "print(\"Sample of true labels:\", valid_labels[:5])\n",
        "print(\"Sample of predictions:\", valid_predictions[:5])\n",
        "print(\"\\nBinary format:\")\n",
        "print(\"Labels shape:\", valid_labels_binary.shape)\n",
        "print(\"Predictions shape:\", valid_predictions_binary.shape)"
      ]
    },
    {
      "cell_type": "code",
      "execution_count": null,
      "metadata": {
        "id": "EotaXiHU60Jx",
        "colab": {
          "base_uri": "https://localhost:8080/",
          "height": 81,
          "referenced_widgets": [
            "d9054b0a3131475cbd52e6e5e4bb0707",
            "52001d1d74f240dc866a01efb186c1b1",
            "db924ed9c2ba4ddc90ff50a70bbbb66f",
            "13f1c30be6d94d77a9eb8a1c93d6ca56",
            "5a9feb1487aa4d55a89502730192113a",
            "0e88d229c3764a938c4f7beefa80d2f7",
            "0e0f1327fd7d42b2997e368f49d8a1af",
            "ec1a048f694a45ff81971da6276977b5",
            "29f4f1b5a6744507acbdbba49781434e",
            "da1ae4ca70a447349dd1f8391554d4a1",
            "2ec1e838752947c7b8714ac6c38fc206",
            "ba85fb7c38ad41d8951a23bf45d0d480",
            "ab5e7a21c5b14dcbb1144c9f03bcfd85",
            "2216717aef3945c083150c49bac4cc63",
            "b8f2097ad56641fcb3c6e9c15e0212cd",
            "81a1b7ca166d46338dab84c3050b8c95",
            "34df7875e907454c8ac51dec9c36273c",
            "7ad48521522b4b0fb7b8f8890b1813f0",
            "72e149a6e0374cdcb1cc6d521ca02537",
            "2b7147dc59174a348579065f387378cb",
            "6743f46cf3b14f43a6aa80c28f14fe51",
            "c26e3e9f3c1d4f0b8dc577fc3fe8b4b0"
          ]
        },
        "outputId": "30ffbc45-2e55-4681-e1e9-797824076916"
      },
      "outputs": [
        {
          "output_type": "display_data",
          "data": {
            "text/plain": [
              "Downloading builder script:   0%|          | 0.00/4.20k [00:00<?, ?B/s]"
            ],
            "application/vnd.jupyter.widget-view+json": {
              "version_major": 2,
              "version_minor": 0,
              "model_id": "d9054b0a3131475cbd52e6e5e4bb0707"
            }
          },
          "metadata": {}
        },
        {
          "output_type": "display_data",
          "data": {
            "text/plain": [
              "Downloading builder script:   0%|          | 0.00/6.77k [00:00<?, ?B/s]"
            ],
            "application/vnd.jupyter.widget-view+json": {
              "version_major": 2,
              "version_minor": 0,
              "model_id": "ba85fb7c38ad41d8951a23bf45d0d480"
            }
          },
          "metadata": {}
        }
      ],
      "source": [
        "accuracy = evaluate.load('accuracy', 'multilabel')\n",
        "f1 = evaluate.load('f1','multilabel')\n",
        "accuracy_flatten = evaluate.load('accuracy')\n",
        "def compute_metrics( labels, preds):\n",
        "  accuracy_label = accuracy_flatten.compute(predictions=preds.flatten(), references=labels.flatten())\n",
        "  accuracy_all = accuracy.compute(predictions=preds, references=labels)\n",
        "  f1_micro = f1.compute(predictions=preds, references=labels, average='micro')\n",
        "  f1_macro = f1.compute(predictions=preds, references=labels, average='macro')\n",
        "  return {'f1_micro':f1_micro['f1'],\n",
        "          'f1_macro':f1_macro['f1'],\n",
        "          'accuracy_label':accuracy_label['accuracy'],\n",
        "            'accuracy_all':accuracy_all['accuracy']}"
      ]
    },
    {
      "cell_type": "code",
      "execution_count": null,
      "metadata": {
        "id": "fMY5sc6n62t0"
      },
      "outputs": [],
      "source": [
        "valid_metrics = compute_metrics(valid_labels_binary , valid_predictions_binary)"
      ]
    },
    {
      "cell_type": "code",
      "execution_count": null,
      "metadata": {
        "id": "0B7bvwtw65W3",
        "colab": {
          "base_uri": "https://localhost:8080/"
        },
        "outputId": "4e8219b1-2892-4231-9d13-a05f3372e6ff"
      },
      "outputs": [
        {
          "output_type": "execute_result",
          "data": {
            "text/plain": [
              "{'f1_micro': 0.6857218472938997,\n",
              " 'f1_macro': 0.5442824059822615,\n",
              " 'accuracy_label': 0.8602530155928214,\n",
              " 'accuracy_all': 0.229126213592233}"
            ]
          },
          "metadata": {},
          "execution_count": 84
        }
      ],
      "source": [
        "valid_metrics"
      ]
    },
    {
      "cell_type": "code",
      "execution_count": null,
      "metadata": {
        "id": "Gb1agGN369Rm"
      },
      "outputs": [],
      "source": [
        "wandb.log({\"valid_f1_macro\": valid_metrics[\"f1_macro\"]})"
      ]
    },
    {
      "cell_type": "code",
      "execution_count": null,
      "metadata": {
        "id": "_JZdtZoT6_XM",
        "colab": {
          "base_uri": "https://localhost:8080/"
        },
        "outputId": "46ef2ce3-1fef-4638-b19e-ebfeba2e8525"
      },
      "outputs": [
        {
          "output_type": "stream",
          "name": "stdout",
          "text": [
            "[[[ 805  187]\n",
            "  [  71  482]]\n",
            "\n",
            " [[1248   86]\n",
            "  [ 150   61]]\n",
            "\n",
            " [[ 765  189]\n",
            "  [  90  501]]\n",
            "\n",
            " [[1199   67]\n",
            "  [  86  193]]\n",
            "\n",
            " [[ 783  178]\n",
            "  [  72  512]]\n",
            "\n",
            " [[1296   73]\n",
            "  [  73  103]]\n",
            "\n",
            " [[ 788  284]\n",
            "  [  75  398]]\n",
            "\n",
            " [[1317   47]\n",
            "  [ 141   40]]\n",
            "\n",
            " [[ 925  197]\n",
            "  [ 140  283]]\n",
            "\n",
            " [[1458    5]\n",
            "  [  70   12]]\n",
            "\n",
            " [[1445    6]\n",
            "  [  88    6]]]\n"
          ]
        }
      ],
      "source": [
        "mcm = multilabel_confusion_matrix(valid_labels_binary , valid_predictions_binary)\n",
        "print(mcm)"
      ]
    },
    {
      "cell_type": "code",
      "execution_count": null,
      "metadata": {
        "id": "DYPnV9S_87D2"
      },
      "outputs": [],
      "source": [
        "def multilabel_evaluation(y_true, y_pred, class_names=None, figsize=(12, 8)):\n",
        "    \"\"\"\n",
        "    Generate comprehensive evaluation visualizations for multilabel classification results.\n",
        "\n",
        "    Parameters:\n",
        "    -----------\n",
        "    y_true : array-like\n",
        "        True labels (n_samples, n_classes)\n",
        "    y_pred : array-like\n",
        "        Predicted labels (n_samples, n_classes)\n",
        "    class_names : list, optional\n",
        "        List of class names for better visualization\n",
        "    figsize : tuple, optional\n",
        "        Base figure size for plots (width, height)\n",
        "\n",
        "    Returns:\n",
        "    --------\n",
        "    dict\n",
        "        Dictionary containing the computed metrics for each class\n",
        "    \"\"\"\n",
        "    # Validate inputs\n",
        "    y_true = np.array(y_true)\n",
        "    y_pred = np.array(y_pred)\n",
        "\n",
        "    if y_true.shape != y_pred.shape:\n",
        "        raise ValueError(\"y_true and y_pred must have the same shape\")\n",
        "\n",
        "    # Generate class names if not provided\n",
        "    if class_names is None:\n",
        "        class_names = [f'Class {i}' for i in range(y_true.shape[1])]\n",
        "\n",
        "    # Calculate confusion matrices\n",
        "    mcm = multilabel_confusion_matrix(y_true, y_pred)\n",
        "\n",
        "    # 1. Individual Confusion Matrix Heatmaps\n",
        "    n_classes = len(class_names)\n",
        "    n_cols = min(3, n_classes)\n",
        "    n_rows = (n_classes + n_cols - 1) // n_cols\n",
        "\n",
        "    plt.figure(figsize=(figsize[0], figsize[1] * n_rows/2))\n",
        "    for idx, matrix in enumerate(mcm):\n",
        "        plt.subplot(n_rows, n_cols, idx + 1)\n",
        "        sns.heatmap(matrix, annot=True, fmt='g', cmap='Blues',\n",
        "                    xticklabels=['Pred Neg', 'Pred Pos'],\n",
        "                    yticklabels=['True Neg', 'True Pos'])\n",
        "        plt.title(f'{class_names[idx]}')\n",
        "    plt.tight_layout()\n",
        "    plt.show()\n",
        "\n",
        "    # 2. Calculate and plot aggregate metrics\n",
        "    metrics = {\n",
        "        'Precision': precision_score(y_true, y_pred, average=None),\n",
        "        'Recall': recall_score(y_true, y_pred, average=None),\n",
        "        'F1-Score': f1_score(y_true, y_pred, average=None)\n",
        "    }\n",
        "\n",
        "    metrics_df = pd.DataFrame(metrics, index=class_names)\n",
        "\n",
        "    # Metrics Heatmap\n",
        "    plt.figure(figsize=(figsize[0]/1.5, figsize[1]/1.5))\n",
        "    sns.heatmap(metrics_df, annot=True, fmt='.3f', cmap='Blues')\n",
        "    plt.title('Performance Metrics by Class')\n",
        "    plt.tight_layout()\n",
        "    plt.show()\n",
        "\n",
        "    # 3. Metrics Histogram\n",
        "    plt.figure(figsize=(figsize[0], figsize[1]/1.5))\n",
        "    metrics_df.plot(kind='bar', width=0.8)\n",
        "    plt.xlabel('Classes')\n",
        "    plt.ylabel('Score')\n",
        "    plt.title('Precision, Recall, and F1-Score by Class')\n",
        "    plt.legend(bbox_to_anchor=(1.05, 1), loc='upper left')\n",
        "    plt.tight_layout()\n",
        "    plt.show()\n",
        "\n",
        "    # 4. Calculate and return summary statistics\n",
        "    summary_stats = {\n",
        "        'macro_avg': {\n",
        "            'precision': np.mean(metrics['Precision']),\n",
        "            'recall': np.mean(metrics['Recall']),\n",
        "            'f1': np.mean(metrics['F1-Score'])\n",
        "        },\n",
        "        'per_class': metrics_df.to_dict()\n",
        "    }\n",
        "\n",
        "    return summary_stats\n"
      ]
    },
    {
      "cell_type": "code",
      "execution_count": null,
      "metadata": {
        "id": "v8G0rsow9BLh",
        "colab": {
          "base_uri": "https://localhost:8080/",
          "height": 1000
        },
        "outputId": "be6de1bc-6d7f-4446-c98c-2fdd5c7822b9"
      },
      "outputs": [
        {
          "output_type": "display_data",
          "data": {
            "text/plain": [
              "<Figure size 1200x1600 with 22 Axes>"
            ],
            "image/png": "[encoded data removed]"
          },
          "metadata": {}
        },
        {
          "output_type": "display_data",
          "data": {
            "text/plain": [
              "<Figure size 800x533.333 with 2 Axes>"
            ],
            "image/png": "[encoded data removed]"
          },
          "metadata": {}
        },
        {
          "output_type": "display_data",
          "data": {
            "text/plain": [
              "<Figure size 1200x533.333 with 0 Axes>"
            ]
          },
          "metadata": {}
        },
        {
          "output_type": "display_data",
          "data": {
            "text/plain": [
              "<Figure size 640x480 with 1 Axes>"
            ],
            "image/png": "[encoded data removed]"
          },
          "metadata": {}
        },
        {
          "output_type": "execute_result",
          "data": {
            "text/plain": [
              "{'macro_avg': {'precision': 0.6154462484677281,\n",
              "  'recall': 0.5548867845491261,\n",
              "  'f1': 0.5442824059822615},\n",
              " 'per_class': {'Precision': {'anger': 0.7204783258594918,\n",
              "   'anticipation': 0.41496598639455784,\n",
              "   'disgust': 0.7260869565217392,\n",
              "   'fear': 0.7423076923076923,\n",
              "   'joy': 0.7420289855072464,\n",
              "   'love': 0.5852272727272727,\n",
              "   'optimism': 0.5835777126099707,\n",
              "   'pessimism': 0.45977011494252873,\n",
              "   'sadness': 0.5895833333333333,\n",
              "   'surprise': 0.7058823529411765,\n",
              "   'trust': 0.5},\n",
              "  'Recall': {'anger': 0.8716094032549728,\n",
              "   'anticipation': 0.2890995260663507,\n",
              "   'disgust': 0.8477157360406091,\n",
              "   'fear': 0.6917562724014337,\n",
              "   'joy': 0.8767123287671232,\n",
              "   'love': 0.5852272727272727,\n",
              "   'optimism': 0.8414376321353065,\n",
              "   'pessimism': 0.22099447513812154,\n",
              "   'sadness': 0.6690307328605201,\n",
              "   'surprise': 0.14634146341463414,\n",
              "   'trust': 0.06382978723404255},\n",
              "  'F1-Score': {'anger': 0.7888707037643208,\n",
              "   'anticipation': 0.3407821229050279,\n",
              "   'disgust': 0.7822014051522248,\n",
              "   'fear': 0.7161410018552876,\n",
              "   'joy': 0.8037676609105181,\n",
              "   'love': 0.5852272727272727,\n",
              "   'optimism': 0.6891774891774892,\n",
              "   'pessimism': 0.29850746268656714,\n",
              "   'sadness': 0.6267995570321152,\n",
              "   'surprise': 0.24242424242424243,\n",
              "   'trust': 0.11320754716981132}}}"
            ]
          },
          "metadata": {},
          "execution_count": 88
        }
      ],
      "source": [
        "multilabel_evaluation(y_true=valid_labels_binary, y_pred=valid_predictions_binary, class_names=class_names, figsize=(12, 8))"
      ]
    },
    {
      "cell_type": "markdown",
      "metadata": {
        "id": "MkLZsaJt9HiR"
      },
      "source": [
        "#  <font color = 'indianred'> **8. Performance on Test Set** </font>\n",
        "For test set evaluation, we will perfrom following steps:"
      ]
    },
    {
      "cell_type": "code",
      "source": [
        "test_dataset = data_folder/'test.csv'"
      ],
      "metadata": {
        "id": "m9uOavaTLh8-"
      },
      "execution_count": null,
      "outputs": []
    },
    {
      "cell_type": "code",
      "source": [
        "test_dataset = load_dataset('csv', data_files={'test': str(data_folder / 'test.csv')})['test']"
      ],
      "metadata": {
        "id": "jiRACg_wLiuI"
      },
      "execution_count": null,
      "outputs": []
    },
    {
      "cell_type": "code",
      "source": [
        "test_dataset"
      ],
      "metadata": {
        "colab": {
          "base_uri": "https://localhost:8080/"
        },
        "id": "0x649o03N0nr",
        "outputId": "65ff1b3a-657f-4487-d652-df014fd6a868"
      },
      "execution_count": null,
      "outputs": [
        {
          "output_type": "execute_result",
          "data": {
            "text/plain": [
              "Dataset({\n",
              "    features: ['ID', 'Tweet', 'anger', 'anticipation', 'disgust', 'fear', 'joy', 'love', 'optimism', 'pessimism', 'sadness', 'surprise', 'trust'],\n",
              "    num_rows: 3259\n",
              "})"
            ]
          },
          "metadata": {},
          "execution_count": 91
        }
      ]
    },
    {
      "cell_type": "code",
      "source": [
        "# Select only the 'Tweet' column and rename it to 'text'\n",
        "test_set = test_dataset.map(lambda x: {\"text\": x[\"Tweet\"]}, remove_columns=test_dataset.column_names)\n",
        "\n",
        "# Verify the updated dataset\n",
        "print(test_dataset)"
      ],
      "metadata": {
        "colab": {
          "base_uri": "https://localhost:8080/",
          "referenced_widgets": [
            "0b2ac90a36ca4310a9406aeeaf35ae7a",
            "dc26414a63a24219a7bdc943dfb0a3ad",
            "84831a3e80594219bc2a837d09901649",
            "7f4bc75ab1194020b2afe4966cce0a80",
            "2e4c48cde383456b826840d1d5f5cd08",
            "b1b969348bef4fc0b60b69936c5fd530",
            "12c55c6216744de3a3a941e27a04c1f9",
            "abee6facbd394107910d3212f0804588",
            "94e14acf54024f0489446434ac71f349",
            "732fd52da8b44128993d9e7315d8c9b7",
            "5b24196ff99e4889b570ab4fec9ec35c"
          ]
        },
        "id": "AVRenM6gM6RT",
        "outputId": "ed4b66c4-bcce-49aa-a9e5-bf19ba8eb99a"
      },
      "execution_count": null,
      "outputs": [
        {
          "output_type": "display_data",
          "data": {
            "text/plain": [
              "Map:   0%|          | 0/3259 [00:00<?, ? examples/s]"
            ],
            "application/vnd.jupyter.widget-view+json": {
              "version_major": 2,
              "version_minor": 0,
              "model_id": "0b2ac90a36ca4310a9406aeeaf35ae7a"
            }
          },
          "metadata": {}
        },
        {
          "output_type": "stream",
          "name": "stdout",
          "text": [
            "Dataset({\n",
            "    features: ['ID', 'Tweet', 'anger', 'anticipation', 'disgust', 'fear', 'joy', 'love', 'optimism', 'pessimism', 'sadness', 'surprise', 'trust'],\n",
            "    num_rows: 3259\n",
            "})\n"
          ]
        }
      ]
    },
    {
      "cell_type": "code",
      "execution_count": null,
      "metadata": {
        "id": "Id-kkts3BOrC",
        "colab": {
          "base_uri": "https://localhost:8080/"
        },
        "outputId": "6a24b65b-80c1-411c-d828-251f91854d15"
      },
      "outputs": [
        {
          "output_type": "execute_result",
          "data": {
            "text/plain": [
              "Dataset({\n",
              "    features: ['text'],\n",
              "    num_rows: 3259\n",
              "})"
            ]
          },
          "metadata": {},
          "execution_count": 93
        }
      ],
      "source": [
        "test_set"
      ]
    },
    {
      "cell_type": "code",
      "execution_count": null,
      "metadata": {
        "id": "TaZhGwlHBeWb",
        "colab": {
          "base_uri": "https://localhost:8080/"
        },
        "outputId": "ab4bbd38-2161-40c6-a361-b9c3afd5b42d"
      },
      "outputs": [
        {
          "output_type": "stream",
          "name": "stdout",
          "text": [
            "GPU memory has been freed.\n"
          ]
        }
      ],
      "source": [
        "free_gpu_memory()"
      ]
    },
    {
      "cell_type": "code",
      "execution_count": null,
      "metadata": {
        "id": "c5zhmLsmBfzb",
        "colab": {
          "base_uri": "https://localhost:8080/"
        },
        "outputId": "aa0e0b6b-8d0d-4587-a381-3da22c67a7ff"
      },
      "outputs": [
        {
          "output_type": "stream",
          "name": "stdout",
          "text": [
            "Model device for inference: cuda:0\n"
          ]
        },
        {
          "output_type": "stream",
          "name": "stderr",
          "text": [
            "Generating responses: 100%|██████████| 82/82 [02:00<00:00,  1.47s/it]\n"
          ]
        },
        {
          "output_type": "stream",
          "name": "stdout",
          "text": [
            "Saved inference_results to: /content/drive/MyDrive/Data/Models/Emotion_detection_Llama_languagehead_fall_2024/test_complete_generations_llama.json\n"
          ]
        }
      ],
      "source": [
        "test_inference_results = run_inference(seed = 42,\n",
        "              dataset=test_set,\n",
        "              model=model,\n",
        "              tokenizer=tokenizer,\n",
        "              per_device_batch_size=40,\n",
        "              prompt_template=prompt_template,\n",
        "              input_field=input_field,\n",
        "              output_field=output_field,\n",
        "              output_delimiter=output_delimiter,\n",
        "              save_dir=model_folder,\n",
        "              save_file_name = 'test_complete_generations_llama')"
      ]
    },
    {
      "cell_type": "code",
      "execution_count": null,
      "metadata": {
        "id": "062205pKBlY_"
      },
      "outputs": [],
      "source": [
        "file_name = model_folder/'test_complete_generations_llama.json'\n",
        "with open(file_name, 'r') as f:\n",
        "    test_inference_results = json.load(f)"
      ]
    },
    {
      "cell_type": "code",
      "execution_count": null,
      "metadata": {
        "id": "pr7MoqK0BpUB",
        "colab": {
          "base_uri": "https://localhost:8080/"
        },
        "outputId": "2211487c-d4a4-4be6-bafe-f3a68861e96f"
      },
      "outputs": [
        {
          "output_type": "stream",
          "name": "stdout",
          "text": [
            "Sample of predictions: [['anger', 'disgust', 'fear'], ['anger', 'disgust', 'fear'], ['anger', 'disgust', 'sadness'], ['anticipation', 'sadness'], ['fear', 'sadness'], ['anger', 'disgust', 'fear'], ['joy', 'optimism'], ['joy', 'love', 'optimism'], ['joy', 'love', 'optimism'], ['pessimism', 'sadness']]\n"
          ]
        }
      ],
      "source": [
        "# Get predictions using our pipeline\n",
        "# First extract content from model outputs\n",
        "test_extracted_outputs = [\n",
        "    extract_content(result['generated_output'], output_delimiter)\n",
        "    for result in test_inference_results\n",
        "]\n",
        "\n",
        "# Clean and convert predictions and ground truth\n",
        "test_predictions = [\n",
        "    clean_and_split_labels(extracted_output, class_names)\n",
        "    for extracted_output in test_extracted_outputs\n",
        "]\n",
        "\n",
        "print(\"Sample of predictions:\", test_predictions[:10])"
      ]
    },
    {
      "cell_type": "code",
      "source": [
        "# Extract IDs from the test dataset\n",
        "test_ids = test_dataset['ID']  # Replace 'ID' with the column name in your dataset that contains IDs\n",
        "\n",
        "# Map predictions to binary format\n",
        "binary_predictions = []\n",
        "for prediction in test_predictions:\n",
        "    binary_row = [1 if label in prediction else 0 for label in class_names]\n",
        "    binary_predictions.append(binary_row)\n",
        "\n",
        "# Create a DataFrame\n",
        "Output_df = pd.DataFrame(binary_predictions, columns=class_names)\n",
        "Output_df.insert(0, \"ID\", test_ids)  # Add ID column from test dataset\n",
        "\n",
        "# Save to CSV\n",
        "output_file = \"test_predictions_with_ids.csv\"\n",
        "Output_df.to_csv(output_file, index=False)\n",
        "print(f\"Predictions saved to {output_file}\")\n",
        "\n",
        "# Display the DataFrame\n",
        "print(Output_df.head())"
      ],
      "metadata": {
        "colab": {
          "base_uri": "https://localhost:8080/"
        },
        "id": "K6_f3DjpQ__X",
        "outputId": "cb308c9f-0962-4c29-fd62-779b350fea23"
      },
      "execution_count": null,
      "outputs": [
        {
          "output_type": "stream",
          "name": "stdout",
          "text": [
            "Predictions saved to test_predictions_with_ids.csv\n",
            "           ID  anger  anticipation  disgust  fear  joy  love  optimism  \\\n",
            "0  2018-01559      1             0        1     1    0     0         0   \n",
            "1  2018-03739      1             0        1     1    0     0         0   \n",
            "2  2018-00385      1             0        1     0    0     0         0   \n",
            "3  2018-03001      0             1        0     0    0     0         0   \n",
            "4  2018-01988      0             0        0     1    0     0         0   \n",
            "\n",
            "   pessimism  sadness  surprise  trust  \n",
            "0          0        0         0      0  \n",
            "1          0        0         0      0  \n",
            "2          0        1         0      0  \n",
            "3          0        1         0      0  \n",
            "4          0        1         0      0  \n"
          ]
        }
      ]
    }
  ],
  "metadata": {
    "accelerator": "GPU",
    "colab": {
      "gpuType": "A100",
      "machine_shape": "hm",
      "provenance": [],
      "authorship_tag": "ABX9TyMNReL15NA1bHv+I7XyZR3s",
      "include_colab_link": true
    },
    "kernelspec": {
      "display_name": "Python 3",
      "name": "python3"
    },
    "language_info": {
      "name": "python"
    },
    "widgets": {
      "application/vnd.jupyter.widget-state+json": {
        "b6581cc74da747e685cde5d2e8a3180b": {
          "model_module": "@jupyter-widgets/controls",
          "model_name": "HBoxModel",
          "model_module_version": "1.5.0",
          "state": {
            "_dom_classes": [],
            "_model_module": "@jupyter-widgets/controls",
            "_model_module_version": "1.5.0",
            "_model_name": "HBoxModel",
            "_view_count": null,
            "_view_module": "@jupyter-widgets/controls",
            "_view_module_version": "1.5.0",
            "_view_name": "HBoxView",
            "box_style": "",
            "children": [
              "IPY_MODEL_affeb5aa3ebd41508c8a540eecdcee13",
              "IPY_MODEL_3121ad5f68274dc0beaa5daf659cceb5",
              "IPY_MODEL_fd1faa08f19640a6bf3df072f93115b1"
            ],
            "layout": "IPY_MODEL_0599310b6d3c4d9b89ca6b9fe15fd7f6"
          }
        },
        "affeb5aa3ebd41508c8a540eecdcee13": {
          "model_module": "@jupyter-widgets/controls",
          "model_name": "HTMLModel",
          "model_module_version": "1.5.0",
          "state": {
            "_dom_classes": [],
            "_model_module": "@jupyter-widgets/controls",
            "_model_module_version": "1.5.0",
            "_model_name": "HTMLModel",
            "_view_count": null,
            "_view_module": "@jupyter-widgets/controls",
            "_view_module_version": "1.5.0",
            "_view_name": "HTMLView",
            "description": "",
            "description_tooltip": null,
            "layout": "IPY_MODEL_2d8e85b26d6f4e98b744d0f4649c2ee7",
            "placeholder": "​",
            "style": "IPY_MODEL_e383de567fc8408ba5f7717e94960335",
            "value": "Generating train split: "
          }
        },
        "3121ad5f68274dc0beaa5daf659cceb5": {
          "model_module": "@jupyter-widgets/controls",
          "model_name": "FloatProgressModel",
          "model_module_version": "1.5.0",
          "state": {
            "_dom_classes": [],
            "_model_module": "@jupyter-widgets/controls",
            "_model_module_version": "1.5.0",
            "_model_name": "FloatProgressModel",
            "_view_count": null,
            "_view_module": "@jupyter-widgets/controls",
            "_view_module_version": "1.5.0",
            "_view_name": "ProgressView",
            "bar_style": "success",
            "description": "",
            "description_tooltip": null,
            "layout": "IPY_MODEL_65de015a2a1441f083fdaab1f662c202",
            "max": 1,
            "min": 0,
            "orientation": "horizontal",
            "style": "IPY_MODEL_d526ba6f388b4adaa3f402d221db40cf",
            "value": 1
          }
        },
        "fd1faa08f19640a6bf3df072f93115b1": {
          "model_module": "@jupyter-widgets/controls",
          "model_name": "HTMLModel",
          "model_module_version": "1.5.0",
          "state": {
            "_dom_classes": [],
            "_model_module": "@jupyter-widgets/controls",
            "_model_module_version": "1.5.0",
            "_model_name": "HTMLModel",
            "_view_count": null,
            "_view_module": "@jupyter-widgets/controls",
            "_view_module_version": "1.5.0",
            "_view_name": "HTMLView",
            "description": "",
            "description_tooltip": null,
            "layout": "IPY_MODEL_622434391f8b492097d9a698aa35fb24",
            "placeholder": "​",
            "style": "IPY_MODEL_89d1df0991914f3bae736fa2256f4446",
            "value": " 7724/0 [00:01&lt;00:00, 7109.93 examples/s]"
          }
        },
        "0599310b6d3c4d9b89ca6b9fe15fd7f6": {
          "model_module": "@jupyter-widgets/base",
          "model_name": "LayoutModel",
          "model_module_version": "1.2.0",
          "state": {
            "_model_module": "@jupyter-widgets/base",
            "_model_module_version": "1.2.0",
            "_model_name": "LayoutModel",
            "_view_count": null,
            "_view_module": "@jupyter-widgets/base",
            "_view_module_version": "1.2.0",
            "_view_name": "LayoutView",
            "align_content": null,
            "align_items": null,
            "align_self": null,
            "border": null,
            "bottom": null,
            "display": null,
            "flex": null,
            "flex_flow": null,
            "grid_area": null,
            "grid_auto_columns": null,
            "grid_auto_flow": null,
            "grid_auto_rows": null,
            "grid_column": null,
            "grid_gap": null,
            "grid_row": null,
            "grid_template_areas": null,
            "grid_template_columns": null,
            "grid_template_rows": null,
            "height": null,
            "justify_content": null,
            "justify_items": null,
            "left": null,
            "margin": null,
            "max_height": null,
            "max_width": null,
            "min_height": null,
            "min_width": null,
            "object_fit": null,
            "object_position": null,
            "order": null,
            "overflow": null,
            "overflow_x": null,
            "overflow_y": null,
            "padding": null,
            "right": null,
            "top": null,
            "visibility": null,
            "width": null
          }
        },
        "2d8e85b26d6f4e98b744d0f4649c2ee7": {
          "model_module": "@jupyter-widgets/base",
          "model_name": "LayoutModel",
          "model_module_version": "1.2.0",
          "state": {
            "_model_module": "@jupyter-widgets/base",
            "_model_module_version": "1.2.0",
            "_model_name": "LayoutModel",
            "_view_count": null,
            "_view_module": "@jupyter-widgets/base",
            "_view_module_version": "1.2.0",
            "_view_name": "LayoutView",
            "align_content": null,
            "align_items": null,
            "align_self": null,
            "border": null,
            "bottom": null,
            "display": null,
            "flex": null,
            "flex_flow": null,
            "grid_area": null,
            "grid_auto_columns": null,
            "grid_auto_flow": null,
            "grid_auto_rows": null,
            "grid_column": null,
            "grid_gap": null,
            "grid_row": null,
            "grid_template_areas": null,
            "grid_template_columns": null,
            "grid_template_rows": null,
            "height": null,
            "justify_content": null,
            "justify_items": null,
            "left": null,
            "margin": null,
            "max_height": null,
            "max_width": null,
            "min_height": null,
            "min_width": null,
            "object_fit": null,
            "object_position": null,
            "order": null,
            "overflow": null,
            "overflow_x": null,
            "overflow_y": null,
            "padding": null,
            "right": null,
            "top": null,
            "visibility": null,
            "width": null
          }
        },
        "e383de567fc8408ba5f7717e94960335": {
          "model_module": "@jupyter-widgets/controls",
          "model_name": "DescriptionStyleModel",
          "model_module_version": "1.5.0",
          "state": {
            "_model_module": "@jupyter-widgets/controls",
            "_model_module_version": "1.5.0",
            "_model_name": "DescriptionStyleModel",
            "_view_count": null,
            "_view_module": "@jupyter-widgets/base",
            "_view_module_version": "1.2.0",
            "_view_name": "StyleView",
            "description_width": ""
          }
        },
        "65de015a2a1441f083fdaab1f662c202": {
          "model_module": "@jupyter-widgets/base",
          "model_name": "LayoutModel",
          "model_module_version": "1.2.0",
          "state": {
            "_model_module": "@jupyter-widgets/base",
            "_model_module_version": "1.2.0",
            "_model_name": "LayoutModel",
            "_view_count": null,
            "_view_module": "@jupyter-widgets/base",
            "_view_module_version": "1.2.0",
            "_view_name": "LayoutView",
            "align_content": null,
            "align_items": null,
            "align_self": null,
            "border": null,
            "bottom": null,
            "display": null,
            "flex": null,
            "flex_flow": null,
            "grid_area": null,
            "grid_auto_columns": null,
            "grid_auto_flow": null,
            "grid_auto_rows": null,
            "grid_column": null,
            "grid_gap": null,
            "grid_row": null,
            "grid_template_areas": null,
            "grid_template_columns": null,
            "grid_template_rows": null,
            "height": null,
            "justify_content": null,
            "justify_items": null,
            "left": null,
            "margin": null,
            "max_height": null,
            "max_width": null,
            "min_height": null,
            "min_width": null,
            "object_fit": null,
            "object_position": null,
            "order": null,
            "overflow": null,
            "overflow_x": null,
            "overflow_y": null,
            "padding": null,
            "right": null,
            "top": null,
            "visibility": null,
            "width": "20px"
          }
        },
        "d526ba6f388b4adaa3f402d221db40cf": {
          "model_module": "@jupyter-widgets/controls",
          "model_name": "ProgressStyleModel",
          "model_module_version": "1.5.0",
          "state": {
            "_model_module": "@jupyter-widgets/controls",
            "_model_module_version": "1.5.0",
            "_model_name": "ProgressStyleModel",
            "_view_count": null,
            "_view_module": "@jupyter-widgets/base",
            "_view_module_version": "1.2.0",
            "_view_name": "StyleView",
            "bar_color": null,
            "description_width": ""
          }
        },
        "622434391f8b492097d9a698aa35fb24": {
          "model_module": "@jupyter-widgets/base",
          "model_name": "LayoutModel",
          "model_module_version": "1.2.0",
          "state": {
            "_model_module": "@jupyter-widgets/base",
            "_model_module_version": "1.2.0",
            "_model_name": "LayoutModel",
            "_view_count": null,
            "_view_module": "@jupyter-widgets/base",
            "_view_module_version": "1.2.0",
            "_view_name": "LayoutView",
            "align_content": null,
            "align_items": null,
            "align_self": null,
            "border": null,
            "bottom": null,
            "display": null,
            "flex": null,
            "flex_flow": null,
            "grid_area": null,
            "grid_auto_columns": null,
            "grid_auto_flow": null,
            "grid_auto_rows": null,
            "grid_column": null,
            "grid_gap": null,
            "grid_row": null,
            "grid_template_areas": null,
            "grid_template_columns": null,
            "grid_template_rows": null,
            "height": null,
            "justify_content": null,
            "justify_items": null,
            "left": null,
            "margin": null,
            "max_height": null,
            "max_width": null,
            "min_height": null,
            "min_width": null,
            "object_fit": null,
            "object_position": null,
            "order": null,
            "overflow": null,
            "overflow_x": null,
            "overflow_y": null,
            "padding": null,
            "right": null,
            "top": null,
            "visibility": null,
            "width": null
          }
        },
        "89d1df0991914f3bae736fa2256f4446": {
          "model_module": "@jupyter-widgets/controls",
          "model_name": "DescriptionStyleModel",
          "model_module_version": "1.5.0",
          "state": {
            "_model_module": "@jupyter-widgets/controls",
            "_model_module_version": "1.5.0",
            "_model_name": "DescriptionStyleModel",
            "_view_count": null,
            "_view_module": "@jupyter-widgets/base",
            "_view_module_version": "1.2.0",
            "_view_name": "StyleView",
            "description_width": ""
          }
        },
        "e0b06b87c33c402e97bf0573450ef0be": {
          "model_module": "@jupyter-widgets/controls",
          "model_name": "HBoxModel",
          "model_module_version": "1.5.0",
          "state": {
            "_dom_classes": [],
            "_model_module": "@jupyter-widgets/controls",
            "_model_module_version": "1.5.0",
            "_model_name": "HBoxModel",
            "_view_count": null,
            "_view_module": "@jupyter-widgets/controls",
            "_view_module_version": "1.5.0",
            "_view_name": "HBoxView",
            "box_style": "",
            "children": [
              "IPY_MODEL_9f535012f046406a9be6d5dc70368430",
              "IPY_MODEL_bdf5d4ada6664cc9914aa5bbe78436a2",
              "IPY_MODEL_460685d33f7b48cdb55112e6a2b752c7"
            ],
            "layout": "IPY_MODEL_f5062bdbbc6b4806b4c8b77c1f4196e5"
          }
        },
        "9f535012f046406a9be6d5dc70368430": {
          "model_module": "@jupyter-widgets/controls",
          "model_name": "HTMLModel",
          "model_module_version": "1.5.0",
          "state": {
            "_dom_classes": [],
            "_model_module": "@jupyter-widgets/controls",
            "_model_module_version": "1.5.0",
            "_model_name": "HTMLModel",
            "_view_count": null,
            "_view_module": "@jupyter-widgets/controls",
            "_view_module_version": "1.5.0",
            "_view_name": "HTMLView",
            "description": "",
            "description_tooltip": null,
            "layout": "IPY_MODEL_415758db41d649aca066a9a98c862f67",
            "placeholder": "​",
            "style": "IPY_MODEL_d4b57d76a9d24700a55de3a98ce72c68",
            "value": "Generating test split: "
          }
        },
        "bdf5d4ada6664cc9914aa5bbe78436a2": {
          "model_module": "@jupyter-widgets/controls",
          "model_name": "FloatProgressModel",
          "model_module_version": "1.5.0",
          "state": {
            "_dom_classes": [],
            "_model_module": "@jupyter-widgets/controls",
            "_model_module_version": "1.5.0",
            "_model_name": "FloatProgressModel",
            "_view_count": null,
            "_view_module": "@jupyter-widgets/controls",
            "_view_module_version": "1.5.0",
            "_view_name": "ProgressView",
            "bar_style": "success",
            "description": "",
            "description_tooltip": null,
            "layout": "IPY_MODEL_9031dfbaff9143799692501cb2ab6566",
            "max": 1,
            "min": 0,
            "orientation": "horizontal",
            "style": "IPY_MODEL_b4bc74835a8c41a2ad4d50f5e0d5b06f",
            "value": 1
          }
        },
        "460685d33f7b48cdb55112e6a2b752c7": {
          "model_module": "@jupyter-widgets/controls",
          "model_name": "HTMLModel",
          "model_module_version": "1.5.0",
          "state": {
            "_dom_classes": [],
            "_model_module": "@jupyter-widgets/controls",
            "_model_module_version": "1.5.0",
            "_model_name": "HTMLModel",
            "_view_count": null,
            "_view_module": "@jupyter-widgets/controls",
            "_view_module_version": "1.5.0",
            "_view_name": "HTMLView",
            "description": "",
            "description_tooltip": null,
            "layout": "IPY_MODEL_b08bfe96eccc4d93905cc041a3b1230b",
            "placeholder": "​",
            "style": "IPY_MODEL_698bff356a554186aba8fc7e14950b84",
            "value": " 3259/0 [00:01&lt;00:00, 3183.54 examples/s]"
          }
        },
        "f5062bdbbc6b4806b4c8b77c1f4196e5": {
          "model_module": "@jupyter-widgets/base",
          "model_name": "LayoutModel",
          "model_module_version": "1.2.0",
          "state": {
            "_model_module": "@jupyter-widgets/base",
            "_model_module_version": "1.2.0",
            "_model_name": "LayoutModel",
            "_view_count": null,
            "_view_module": "@jupyter-widgets/base",
            "_view_module_version": "1.2.0",
            "_view_name": "LayoutView",
            "align_content": null,
            "align_items": null,
            "align_self": null,
            "border": null,
            "bottom": null,
            "display": null,
            "flex": null,
            "flex_flow": null,
            "grid_area": null,
            "grid_auto_columns": null,
            "grid_auto_flow": null,
            "grid_auto_rows": null,
            "grid_column": null,
            "grid_gap": null,
            "grid_row": null,
            "grid_template_areas": null,
            "grid_template_columns": null,
            "grid_template_rows": null,
            "height": null,
            "justify_content": null,
            "justify_items": null,
            "left": null,
            "margin": null,
            "max_height": null,
            "max_width": null,
            "min_height": null,
            "min_width": null,
            "object_fit": null,
            "object_position": null,
            "order": null,
            "overflow": null,
            "overflow_x": null,
            "overflow_y": null,
            "padding": null,
            "right": null,
            "top": null,
            "visibility": null,
            "width": null
          }
        },
        "415758db41d649aca066a9a98c862f67": {
          "model_module": "@jupyter-widgets/base",
          "model_name": "LayoutModel",
          "model_module_version": "1.2.0",
          "state": {
            "_model_module": "@jupyter-widgets/base",
            "_model_module_version": "1.2.0",
            "_model_name": "LayoutModel",
            "_view_count": null,
            "_view_module": "@jupyter-widgets/base",
            "_view_module_version": "1.2.0",
            "_view_name": "LayoutView",
            "align_content": null,
            "align_items": null,
            "align_self": null,
            "border": null,
            "bottom": null,
            "display": null,
            "flex": null,
            "flex_flow": null,
            "grid_area": null,
            "grid_auto_columns": null,
            "grid_auto_flow": null,
            "grid_auto_rows": null,
            "grid_column": null,
            "grid_gap": null,
            "grid_row": null,
            "grid_template_areas": null,
            "grid_template_columns": null,
            "grid_template_rows": null,
            "height": null,
            "justify_content": null,
            "justify_items": null,
            "left": null,
            "margin": null,
            "max_height": null,
            "max_width": null,
            "min_height": null,
            "min_width": null,
            "object_fit": null,
            "object_position": null,
            "order": null,
            "overflow": null,
            "overflow_x": null,
            "overflow_y": null,
            "padding": null,
            "right": null,
            "top": null,
            "visibility": null,
            "width": null
          }
        },
        "d4b57d76a9d24700a55de3a98ce72c68": {
          "model_module": "@jupyter-widgets/controls",
          "model_name": "DescriptionStyleModel",
          "model_module_version": "1.5.0",
          "state": {
            "_model_module": "@jupyter-widgets/controls",
            "_model_module_version": "1.5.0",
            "_model_name": "DescriptionStyleModel",
            "_view_count": null,
            "_view_module": "@jupyter-widgets/base",
            "_view_module_version": "1.2.0",
            "_view_name": "StyleView",
            "description_width": ""
          }
        },
        "9031dfbaff9143799692501cb2ab6566": {
          "model_module": "@jupyter-widgets/base",
          "model_name": "LayoutModel",
          "model_module_version": "1.2.0",
          "state": {
            "_model_module": "@jupyter-widgets/base",
            "_model_module_version": "1.2.0",
            "_model_name": "LayoutModel",
            "_view_count": null,
            "_view_module": "@jupyter-widgets/base",
            "_view_module_version": "1.2.0",
            "_view_name": "LayoutView",
            "align_content": null,
            "align_items": null,
            "align_self": null,
            "border": null,
            "bottom": null,
            "display": null,
            "flex": null,
            "flex_flow": null,
            "grid_area": null,
            "grid_auto_columns": null,
            "grid_auto_flow": null,
            "grid_auto_rows": null,
            "grid_column": null,
            "grid_gap": null,
            "grid_row": null,
            "grid_template_areas": null,
            "grid_template_columns": null,
            "grid_template_rows": null,
            "height": null,
            "justify_content": null,
            "justify_items": null,
            "left": null,
            "margin": null,
            "max_height": null,
            "max_width": null,
            "min_height": null,
            "min_width": null,
            "object_fit": null,
            "object_position": null,
            "order": null,
            "overflow": null,
            "overflow_x": null,
            "overflow_y": null,
            "padding": null,
            "right": null,
            "top": null,
            "visibility": null,
            "width": "20px"
          }
        },
        "b4bc74835a8c41a2ad4d50f5e0d5b06f": {
          "model_module": "@jupyter-widgets/controls",
          "model_name": "ProgressStyleModel",
          "model_module_version": "1.5.0",
          "state": {
            "_model_module": "@jupyter-widgets/controls",
            "_model_module_version": "1.5.0",
            "_model_name": "ProgressStyleModel",
            "_view_count": null,
            "_view_module": "@jupyter-widgets/base",
            "_view_module_version": "1.2.0",
            "_view_name": "StyleView",
            "bar_color": null,
            "description_width": ""
          }
        },
        "b08bfe96eccc4d93905cc041a3b1230b": {
          "model_module": "@jupyter-widgets/base",
          "model_name": "LayoutModel",
          "model_module_version": "1.2.0",
          "state": {
            "_model_module": "@jupyter-widgets/base",
            "_model_module_version": "1.2.0",
            "_model_name": "LayoutModel",
            "_view_count": null,
            "_view_module": "@jupyter-widgets/base",
            "_view_module_version": "1.2.0",
            "_view_name": "LayoutView",
            "align_content": null,
            "align_items": null,
            "align_self": null,
            "border": null,
            "bottom": null,
            "display": null,
            "flex": null,
            "flex_flow": null,
            "grid_area": null,
            "grid_auto_columns": null,
            "grid_auto_flow": null,
            "grid_auto_rows": null,
            "grid_column": null,
            "grid_gap": null,
            "grid_row": null,
            "grid_template_areas": null,
            "grid_template_columns": null,
            "grid_template_rows": null,
            "height": null,
            "justify_content": null,
            "justify_items": null,
            "left": null,
            "margin": null,
            "max_height": null,
            "max_width": null,
            "min_height": null,
            "min_width": null,
            "object_fit": null,
            "object_position": null,
            "order": null,
            "overflow": null,
            "overflow_x": null,
            "overflow_y": null,
            "padding": null,
            "right": null,
            "top": null,
            "visibility": null,
            "width": null
          }
        },
        "698bff356a554186aba8fc7e14950b84": {
          "model_module": "@jupyter-widgets/controls",
          "model_name": "DescriptionStyleModel",
          "model_module_version": "1.5.0",
          "state": {
            "_model_module": "@jupyter-widgets/controls",
            "_model_module_version": "1.5.0",
            "_model_name": "DescriptionStyleModel",
            "_view_count": null,
            "_view_module": "@jupyter-widgets/base",
            "_view_module_version": "1.2.0",
            "_view_name": "StyleView",
            "description_width": ""
          }
        },
        "6445850c493b48ac884a1ae4087de60b": {
          "model_module": "@jupyter-widgets/controls",
          "model_name": "HBoxModel",
          "model_module_version": "1.5.0",
          "state": {
            "_dom_classes": [],
            "_model_module": "@jupyter-widgets/controls",
            "_model_module_version": "1.5.0",
            "_model_name": "HBoxModel",
            "_view_count": null,
            "_view_module": "@jupyter-widgets/controls",
            "_view_module_version": "1.5.0",
            "_view_name": "HBoxView",
            "box_style": "",
            "children": [
              "IPY_MODEL_ef1c1eb18f5f4eeaaf66cf55862dbd62",
              "IPY_MODEL_d5d04de1c1c342b39b8be04c4da3dc16",
              "IPY_MODEL_1ae75755cf0d48db8725df892f6914c3"
            ],
            "layout": "IPY_MODEL_e1e59bfd3f1043eb9db49cc800abbe41"
          }
        },
        "ef1c1eb18f5f4eeaaf66cf55862dbd62": {
          "model_module": "@jupyter-widgets/controls",
          "model_name": "HTMLModel",
          "model_module_version": "1.5.0",
          "state": {
            "_dom_classes": [],
            "_model_module": "@jupyter-widgets/controls",
            "_model_module_version": "1.5.0",
            "_model_name": "HTMLModel",
            "_view_count": null,
            "_view_module": "@jupyter-widgets/controls",
            "_view_module_version": "1.5.0",
            "_view_name": "HTMLView",
            "description": "",
            "description_tooltip": null,
            "layout": "IPY_MODEL_64a5bb682866474d8822eead85514515",
            "placeholder": "​",
            "style": "IPY_MODEL_5fded78c8eb344d0a5cb381c51809bc2",
            "value": "Map: 100%"
          }
        },
        "d5d04de1c1c342b39b8be04c4da3dc16": {
          "model_module": "@jupyter-widgets/controls",
          "model_name": "FloatProgressModel",
          "model_module_version": "1.5.0",
          "state": {
            "_dom_classes": [],
            "_model_module": "@jupyter-widgets/controls",
            "_model_module_version": "1.5.0",
            "_model_name": "FloatProgressModel",
            "_view_count": null,
            "_view_module": "@jupyter-widgets/controls",
            "_view_module_version": "1.5.0",
            "_view_name": "ProgressView",
            "bar_style": "success",
            "description": "",
            "description_tooltip": null,
            "layout": "IPY_MODEL_9edfdc9ee1304fafa422f6441121f0b3",
            "max": 6179,
            "min": 0,
            "orientation": "horizontal",
            "style": "IPY_MODEL_5c7324a8965746e4904ea0754ce993ac",
            "value": 6179
          }
        },
        "1ae75755cf0d48db8725df892f6914c3": {
          "model_module": "@jupyter-widgets/controls",
          "model_name": "HTMLModel",
          "model_module_version": "1.5.0",
          "state": {
            "_dom_classes": [],
            "_model_module": "@jupyter-widgets/controls",
            "_model_module_version": "1.5.0",
            "_model_name": "HTMLModel",
            "_view_count": null,
            "_view_module": "@jupyter-widgets/controls",
            "_view_module_version": "1.5.0",
            "_view_name": "HTMLView",
            "description": "",
            "description_tooltip": null,
            "layout": "IPY_MODEL_f3122115965f42abb973ca08b03aafb4",
            "placeholder": "​",
            "style": "IPY_MODEL_75760c841a014a47a68a64cfb99e4145",
            "value": " 6179/6179 [00:01&lt;00:00, 4567.70 examples/s]"
          }
        },
        "e1e59bfd3f1043eb9db49cc800abbe41": {
          "model_module": "@jupyter-widgets/base",
          "model_name": "LayoutModel",
          "model_module_version": "1.2.0",
          "state": {
            "_model_module": "@jupyter-widgets/base",
            "_model_module_version": "1.2.0",
            "_model_name": "LayoutModel",
            "_view_count": null,
            "_view_module": "@jupyter-widgets/base",
            "_view_module_version": "1.2.0",
            "_view_name": "LayoutView",
            "align_content": null,
            "align_items": null,
            "align_self": null,
            "border": null,
            "bottom": null,
            "display": null,
            "flex": null,
            "flex_flow": null,
            "grid_area": null,
            "grid_auto_columns": null,
            "grid_auto_flow": null,
            "grid_auto_rows": null,
            "grid_column": null,
            "grid_gap": null,
            "grid_row": null,
            "grid_template_areas": null,
            "grid_template_columns": null,
            "grid_template_rows": null,
            "height": null,
            "justify_content": null,
            "justify_items": null,
            "left": null,
            "margin": null,
            "max_height": null,
            "max_width": null,
            "min_height": null,
            "min_width": null,
            "object_fit": null,
            "object_position": null,
            "order": null,
            "overflow": null,
            "overflow_x": null,
            "overflow_y": null,
            "padding": null,
            "right": null,
            "top": null,
            "visibility": null,
            "width": null
          }
        },
        "64a5bb682866474d8822eead85514515": {
          "model_module": "@jupyter-widgets/base",
          "model_name": "LayoutModel",
          "model_module_version": "1.2.0",
          "state": {
            "_model_module": "@jupyter-widgets/base",
            "_model_module_version": "1.2.0",
            "_model_name": "LayoutModel",
            "_view_count": null,
            "_view_module": "@jupyter-widgets/base",
            "_view_module_version": "1.2.0",
            "_view_name": "LayoutView",
            "align_content": null,
            "align_items": null,
            "align_self": null,
            "border": null,
            "bottom": null,
            "display": null,
            "flex": null,
            "flex_flow": null,
            "grid_area": null,
            "grid_auto_columns": null,
            "grid_auto_flow": null,
            "grid_auto_rows": null,
            "grid_column": null,
            "grid_gap": null,
            "grid_row": null,
            "grid_template_areas": null,
            "grid_template_columns": null,
            "grid_template_rows": null,
            "height": null,
            "justify_content": null,
            "justify_items": null,
            "left": null,
            "margin": null,
            "max_height": null,
            "max_width": null,
            "min_height": null,
            "min_width": null,
            "object_fit": null,
            "object_position": null,
            "order": null,
            "overflow": null,
            "overflow_x": null,
            "overflow_y": null,
            "padding": null,
            "right": null,
            "top": null,
            "visibility": null,
            "width": null
          }
        },
        "5fded78c8eb344d0a5cb381c51809bc2": {
          "model_module": "@jupyter-widgets/controls",
          "model_name": "DescriptionStyleModel",
          "model_module_version": "1.5.0",
          "state": {
            "_model_module": "@jupyter-widgets/controls",
            "_model_module_version": "1.5.0",
            "_model_name": "DescriptionStyleModel",
            "_view_count": null,
            "_view_module": "@jupyter-widgets/base",
            "_view_module_version": "1.2.0",
            "_view_name": "StyleView",
            "description_width": ""
          }
        },
        "9edfdc9ee1304fafa422f6441121f0b3": {
          "model_module": "@jupyter-widgets/base",
          "model_name": "LayoutModel",
          "model_module_version": "1.2.0",
          "state": {
            "_model_module": "@jupyter-widgets/base",
            "_model_module_version": "1.2.0",
            "_model_name": "LayoutModel",
            "_view_count": null,
            "_view_module": "@jupyter-widgets/base",
            "_view_module_version": "1.2.0",
            "_view_name": "LayoutView",
            "align_content": null,
            "align_items": null,
            "align_self": null,
            "border": null,
            "bottom": null,
            "display": null,
            "flex": null,
            "flex_flow": null,
            "grid_area": null,
            "grid_auto_columns": null,
            "grid_auto_flow": null,
            "grid_auto_rows": null,
            "grid_column": null,
            "grid_gap": null,
            "grid_row": null,
            "grid_template_areas": null,
            "grid_template_columns": null,
            "grid_template_rows": null,
            "height": null,
            "justify_content": null,
            "justify_items": null,
            "left": null,
            "margin": null,
            "max_height": null,
            "max_width": null,
            "min_height": null,
            "min_width": null,
            "object_fit": null,
            "object_position": null,
            "order": null,
            "overflow": null,
            "overflow_x": null,
            "overflow_y": null,
            "padding": null,
            "right": null,
            "top": null,
            "visibility": null,
            "width": null
          }
        },
        "5c7324a8965746e4904ea0754ce993ac": {
          "model_module": "@jupyter-widgets/controls",
          "model_name": "ProgressStyleModel",
          "model_module_version": "1.5.0",
          "state": {
            "_model_module": "@jupyter-widgets/controls",
            "_model_module_version": "1.5.0",
            "_model_name": "ProgressStyleModel",
            "_view_count": null,
            "_view_module": "@jupyter-widgets/base",
            "_view_module_version": "1.2.0",
            "_view_name": "StyleView",
            "bar_color": null,
            "description_width": ""
          }
        },
        "f3122115965f42abb973ca08b03aafb4": {
          "model_module": "@jupyter-widgets/base",
          "model_name": "LayoutModel",
          "model_module_version": "1.2.0",
          "state": {
            "_model_module": "@jupyter-widgets/base",
            "_model_module_version": "1.2.0",
            "_model_name": "LayoutModel",
            "_view_count": null,
            "_view_module": "@jupyter-widgets/base",
            "_view_module_version": "1.2.0",
            "_view_name": "LayoutView",
            "align_content": null,
            "align_items": null,
            "align_self": null,
            "border": null,
            "bottom": null,
            "display": null,
            "flex": null,
            "flex_flow": null,
            "grid_area": null,
            "grid_auto_columns": null,
            "grid_auto_flow": null,
            "grid_auto_rows": null,
            "grid_column": null,
            "grid_gap": null,
            "grid_row": null,
            "grid_template_areas": null,
            "grid_template_columns": null,
            "grid_template_rows": null,
            "height": null,
            "justify_content": null,
            "justify_items": null,
            "left": null,
            "margin": null,
            "max_height": null,
            "max_width": null,
            "min_height": null,
            "min_width": null,
            "object_fit": null,
            "object_position": null,
            "order": null,
            "overflow": null,
            "overflow_x": null,
            "overflow_y": null,
            "padding": null,
            "right": null,
            "top": null,
            "visibility": null,
            "width": null
          }
        },
        "75760c841a014a47a68a64cfb99e4145": {
          "model_module": "@jupyter-widgets/controls",
          "model_name": "DescriptionStyleModel",
          "model_module_version": "1.5.0",
          "state": {
            "_model_module": "@jupyter-widgets/controls",
            "_model_module_version": "1.5.0",
            "_model_name": "DescriptionStyleModel",
            "_view_count": null,
            "_view_module": "@jupyter-widgets/base",
            "_view_module_version": "1.2.0",
            "_view_name": "StyleView",
            "description_width": ""
          }
        },
        "44406c9d90dd41e6950af21025d01803": {
          "model_module": "@jupyter-widgets/controls",
          "model_name": "HBoxModel",
          "model_module_version": "1.5.0",
          "state": {
            "_dom_classes": [],
            "_model_module": "@jupyter-widgets/controls",
            "_model_module_version": "1.5.0",
            "_model_name": "HBoxModel",
            "_view_count": null,
            "_view_module": "@jupyter-widgets/controls",
            "_view_module_version": "1.5.0",
            "_view_name": "HBoxView",
            "box_style": "",
            "children": [
              "IPY_MODEL_20bc750aa55e465393fcd7820276f022",
              "IPY_MODEL_90cdc423ba5b43ec9fc4037039aa50a2",
              "IPY_MODEL_7a93c96bf60a43ec95b9a8d24e8cde04"
            ],
            "layout": "IPY_MODEL_6d5e937ee65b4a5fbac98f12a14c45bb"
          }
        },
        "20bc750aa55e465393fcd7820276f022": {
          "model_module": "@jupyter-widgets/controls",
          "model_name": "HTMLModel",
          "model_module_version": "1.5.0",
          "state": {
            "_dom_classes": [],
            "_model_module": "@jupyter-widgets/controls",
            "_model_module_version": "1.5.0",
            "_model_name": "HTMLModel",
            "_view_count": null,
            "_view_module": "@jupyter-widgets/controls",
            "_view_module_version": "1.5.0",
            "_view_name": "HTMLView",
            "description": "",
            "description_tooltip": null,
            "layout": "IPY_MODEL_341a0bd3b63141b2b2e90eff36c11e27",
            "placeholder": "​",
            "style": "IPY_MODEL_5ded7385f90d452f94c9dd06aa39eafa",
            "value": "Map: 100%"
          }
        },
        "90cdc423ba5b43ec9fc4037039aa50a2": {
          "model_module": "@jupyter-widgets/controls",
          "model_name": "FloatProgressModel",
          "model_module_version": "1.5.0",
          "state": {
            "_dom_classes": [],
            "_model_module": "@jupyter-widgets/controls",
            "_model_module_version": "1.5.0",
            "_model_name": "FloatProgressModel",
            "_view_count": null,
            "_view_module": "@jupyter-widgets/controls",
            "_view_module_version": "1.5.0",
            "_view_name": "ProgressView",
            "bar_style": "success",
            "description": "",
            "description_tooltip": null,
            "layout": "IPY_MODEL_9c2f1f771224440580a3c7246754ce19",
            "max": 1545,
            "min": 0,
            "orientation": "horizontal",
            "style": "IPY_MODEL_7d67a1ed6413454b87d93ae79c45108a",
            "value": 1545
          }
        },
        "7a93c96bf60a43ec95b9a8d24e8cde04": {
          "model_module": "@jupyter-widgets/controls",
          "model_name": "HTMLModel",
          "model_module_version": "1.5.0",
          "state": {
            "_dom_classes": [],
            "_model_module": "@jupyter-widgets/controls",
            "_model_module_version": "1.5.0",
            "_model_name": "HTMLModel",
            "_view_count": null,
            "_view_module": "@jupyter-widgets/controls",
            "_view_module_version": "1.5.0",
            "_view_name": "HTMLView",
            "description": "",
            "description_tooltip": null,
            "layout": "IPY_MODEL_d8a88ca5edb24d47a037867a6c124d6b",
            "placeholder": "​",
            "style": "IPY_MODEL_5c3a03a4757f4b489c1f209ccafd3798",
            "value": " 1545/1545 [00:00&lt;00:00, 4607.94 examples/s]"
          }
        },
        "6d5e937ee65b4a5fbac98f12a14c45bb": {
          "model_module": "@jupyter-widgets/base",
          "model_name": "LayoutModel",
          "model_module_version": "1.2.0",
          "state": {
            "_model_module": "@jupyter-widgets/base",
            "_model_module_version": "1.2.0",
            "_model_name": "LayoutModel",
            "_view_count": null,
            "_view_module": "@jupyter-widgets/base",
            "_view_module_version": "1.2.0",
            "_view_name": "LayoutView",
            "align_content": null,
            "align_items": null,
            "align_self": null,
            "border": null,
            "bottom": null,
            "display": null,
            "flex": null,
            "flex_flow": null,
            "grid_area": null,
            "grid_auto_columns": null,
            "grid_auto_flow": null,
            "grid_auto_rows": null,
            "grid_column": null,
            "grid_gap": null,
            "grid_row": null,
            "grid_template_areas": null,
            "grid_template_columns": null,
            "grid_template_rows": null,
            "height": null,
            "justify_content": null,
            "justify_items": null,
            "left": null,
            "margin": null,
            "max_height": null,
            "max_width": null,
            "min_height": null,
            "min_width": null,
            "object_fit": null,
            "object_position": null,
            "order": null,
            "overflow": null,
            "overflow_x": null,
            "overflow_y": null,
            "padding": null,
            "right": null,
            "top": null,
            "visibility": null,
            "width": null
          }
        },
        "341a0bd3b63141b2b2e90eff36c11e27": {
          "model_module": "@jupyter-widgets/base",
          "model_name": "LayoutModel",
          "model_module_version": "1.2.0",
          "state": {
            "_model_module": "@jupyter-widgets/base",
            "_model_module_version": "1.2.0",
            "_model_name": "LayoutModel",
            "_view_count": null,
            "_view_module": "@jupyter-widgets/base",
            "_view_module_version": "1.2.0",
            "_view_name": "LayoutView",
            "align_content": null,
            "align_items": null,
            "align_self": null,
            "border": null,
            "bottom": null,
            "display": null,
            "flex": null,
            "flex_flow": null,
            "grid_area": null,
            "grid_auto_columns": null,
            "grid_auto_flow": null,
            "grid_auto_rows": null,
            "grid_column": null,
            "grid_gap": null,
            "grid_row": null,
            "grid_template_areas": null,
            "grid_template_columns": null,
            "grid_template_rows": null,
            "height": null,
            "justify_content": null,
            "justify_items": null,
            "left": null,
            "margin": null,
            "max_height": null,
            "max_width": null,
            "min_height": null,
            "min_width": null,
            "object_fit": null,
            "object_position": null,
            "order": null,
            "overflow": null,
            "overflow_x": null,
            "overflow_y": null,
            "padding": null,
            "right": null,
            "top": null,
            "visibility": null,
            "width": null
          }
        },
        "5ded7385f90d452f94c9dd06aa39eafa": {
          "model_module": "@jupyter-widgets/controls",
          "model_name": "DescriptionStyleModel",
          "model_module_version": "1.5.0",
          "state": {
            "_model_module": "@jupyter-widgets/controls",
            "_model_module_version": "1.5.0",
            "_model_name": "DescriptionStyleModel",
            "_view_count": null,
            "_view_module": "@jupyter-widgets/base",
            "_view_module_version": "1.2.0",
            "_view_name": "StyleView",
            "description_width": ""
          }
        },
        "9c2f1f771224440580a3c7246754ce19": {
          "model_module": "@jupyter-widgets/base",
          "model_name": "LayoutModel",
          "model_module_version": "1.2.0",
          "state": {
            "_model_module": "@jupyter-widgets/base",
            "_model_module_version": "1.2.0",
            "_model_name": "LayoutModel",
            "_view_count": null,
            "_view_module": "@jupyter-widgets/base",
            "_view_module_version": "1.2.0",
            "_view_name": "LayoutView",
            "align_content": null,
            "align_items": null,
            "align_self": null,
            "border": null,
            "bottom": null,
            "display": null,
            "flex": null,
            "flex_flow": null,
            "grid_area": null,
            "grid_auto_columns": null,
            "grid_auto_flow": null,
            "grid_auto_rows": null,
            "grid_column": null,
            "grid_gap": null,
            "grid_row": null,
            "grid_template_areas": null,
            "grid_template_columns": null,
            "grid_template_rows": null,
            "height": null,
            "justify_content": null,
            "justify_items": null,
            "left": null,
            "margin": null,
            "max_height": null,
            "max_width": null,
            "min_height": null,
            "min_width": null,
            "object_fit": null,
            "object_position": null,
            "order": null,
            "overflow": null,
            "overflow_x": null,
            "overflow_y": null,
            "padding": null,
            "right": null,
            "top": null,
            "visibility": null,
            "width": null
          }
        },
        "7d67a1ed6413454b87d93ae79c45108a": {
          "model_module": "@jupyter-widgets/controls",
          "model_name": "ProgressStyleModel",
          "model_module_version": "1.5.0",
          "state": {
            "_model_module": "@jupyter-widgets/controls",
            "_model_module_version": "1.5.0",
            "_model_name": "ProgressStyleModel",
            "_view_count": null,
            "_view_module": "@jupyter-widgets/base",
            "_view_module_version": "1.2.0",
            "_view_name": "StyleView",
            "bar_color": null,
            "description_width": ""
          }
        },
        "d8a88ca5edb24d47a037867a6c124d6b": {
          "model_module": "@jupyter-widgets/base",
          "model_name": "LayoutModel",
          "model_module_version": "1.2.0",
          "state": {
            "_model_module": "@jupyter-widgets/base",
            "_model_module_version": "1.2.0",
            "_model_name": "LayoutModel",
            "_view_count": null,
            "_view_module": "@jupyter-widgets/base",
            "_view_module_version": "1.2.0",
            "_view_name": "LayoutView",
            "align_content": null,
            "align_items": null,
            "align_self": null,
            "border": null,
            "bottom": null,
            "display": null,
            "flex": null,
            "flex_flow": null,
            "grid_area": null,
            "grid_auto_columns": null,
            "grid_auto_flow": null,
            "grid_auto_rows": null,
            "grid_column": null,
            "grid_gap": null,
            "grid_row": null,
            "grid_template_areas": null,
            "grid_template_columns": null,
            "grid_template_rows": null,
            "height": null,
            "justify_content": null,
            "justify_items": null,
            "left": null,
            "margin": null,
            "max_height": null,
            "max_width": null,
            "min_height": null,
            "min_width": null,
            "object_fit": null,
            "object_position": null,
            "order": null,
            "overflow": null,
            "overflow_x": null,
            "overflow_y": null,
            "padding": null,
            "right": null,
            "top": null,
            "visibility": null,
            "width": null
          }
        },
        "5c3a03a4757f4b489c1f209ccafd3798": {
          "model_module": "@jupyter-widgets/controls",
          "model_name": "DescriptionStyleModel",
          "model_module_version": "1.5.0",
          "state": {
            "_model_module": "@jupyter-widgets/controls",
            "_model_module_version": "1.5.0",
            "_model_name": "DescriptionStyleModel",
            "_view_count": null,
            "_view_module": "@jupyter-widgets/base",
            "_view_module_version": "1.2.0",
            "_view_name": "StyleView",
            "description_width": ""
          }
        },
        "6e88d2e962644cd083639d8785a8fb73": {
          "model_module": "@jupyter-widgets/controls",
          "model_name": "HBoxModel",
          "model_module_version": "1.5.0",
          "state": {
            "_dom_classes": [],
            "_model_module": "@jupyter-widgets/controls",
            "_model_module_version": "1.5.0",
            "_model_name": "HBoxModel",
            "_view_count": null,
            "_view_module": "@jupyter-widgets/controls",
            "_view_module_version": "1.5.0",
            "_view_name": "HBoxView",
            "box_style": "",
            "children": [
              "IPY_MODEL_aa45d6c0d7564053aa70a12bd74452b8",
              "IPY_MODEL_eb1475e0e2e94b01b780de1594939573",
              "IPY_MODEL_70a70be1e03b406280e135fc91fc21fc"
            ],
            "layout": "IPY_MODEL_a9fcb62ee6fa458693c36d6ab12a1b7b"
          }
        },
        "aa45d6c0d7564053aa70a12bd74452b8": {
          "model_module": "@jupyter-widgets/controls",
          "model_name": "HTMLModel",
          "model_module_version": "1.5.0",
          "state": {
            "_dom_classes": [],
            "_model_module": "@jupyter-widgets/controls",
            "_model_module_version": "1.5.0",
            "_model_name": "HTMLModel",
            "_view_count": null,
            "_view_module": "@jupyter-widgets/controls",
            "_view_module_version": "1.5.0",
            "_view_name": "HTMLView",
            "description": "",
            "description_tooltip": null,
            "layout": "IPY_MODEL_b47828d12bf249358d68e15854c353aa",
            "placeholder": "​",
            "style": "IPY_MODEL_9f73b0fe243b4190be261efa1bec4f1f",
            "value": "tokenizer_config.json: 100%"
          }
        },
        "eb1475e0e2e94b01b780de1594939573": {
          "model_module": "@jupyter-widgets/controls",
          "model_name": "FloatProgressModel",
          "model_module_version": "1.5.0",
          "state": {
            "_dom_classes": [],
            "_model_module": "@jupyter-widgets/controls",
            "_model_module_version": "1.5.0",
            "_model_name": "FloatProgressModel",
            "_view_count": null,
            "_view_module": "@jupyter-widgets/controls",
            "_view_module_version": "1.5.0",
            "_view_name": "ProgressView",
            "bar_style": "success",
            "description": "",
            "description_tooltip": null,
            "layout": "IPY_MODEL_f6c7a8971c5343ec965add4a2eae45e0",
            "max": 50500,
            "min": 0,
            "orientation": "horizontal",
            "style": "IPY_MODEL_480770b069e844779a1d445cac13b8cb",
            "value": 50500
          }
        },
        "70a70be1e03b406280e135fc91fc21fc": {
          "model_module": "@jupyter-widgets/controls",
          "model_name": "HTMLModel",
          "model_module_version": "1.5.0",
          "state": {
            "_dom_classes": [],
            "_model_module": "@jupyter-widgets/controls",
            "_model_module_version": "1.5.0",
            "_model_name": "HTMLModel",
            "_view_count": null,
            "_view_module": "@jupyter-widgets/controls",
            "_view_module_version": "1.5.0",
            "_view_name": "HTMLView",
            "description": "",
            "description_tooltip": null,
            "layout": "IPY_MODEL_02c10649bc524981af41549f61e5afd9",
            "placeholder": "​",
            "style": "IPY_MODEL_4bee2a95753c423e8f6c453b74dfe54e",
            "value": " 50.5k/50.5k [00:00&lt;00:00, 3.50MB/s]"
          }
        },
        "a9fcb62ee6fa458693c36d6ab12a1b7b": {
          "model_module": "@jupyter-widgets/base",
          "model_name": "LayoutModel",
          "model_module_version": "1.2.0",
          "state": {
            "_model_module": "@jupyter-widgets/base",
            "_model_module_version": "1.2.0",
            "_model_name": "LayoutModel",
            "_view_count": null,
            "_view_module": "@jupyter-widgets/base",
            "_view_module_version": "1.2.0",
            "_view_name": "LayoutView",
            "align_content": null,
            "align_items": null,
            "align_self": null,
            "border": null,
            "bottom": null,
            "display": null,
            "flex": null,
            "flex_flow": null,
            "grid_area": null,
            "grid_auto_columns": null,
            "grid_auto_flow": null,
            "grid_auto_rows": null,
            "grid_column": null,
            "grid_gap": null,
            "grid_row": null,
            "grid_template_areas": null,
            "grid_template_columns": null,
            "grid_template_rows": null,
            "height": null,
            "justify_content": null,
            "justify_items": null,
            "left": null,
            "margin": null,
            "max_height": null,
            "max_width": null,
            "min_height": null,
            "min_width": null,
            "object_fit": null,
            "object_position": null,
            "order": null,
            "overflow": null,
            "overflow_x": null,
            "overflow_y": null,
            "padding": null,
            "right": null,
            "top": null,
            "visibility": null,
            "width": null
          }
        },
        "b47828d12bf249358d68e15854c353aa": {
          "model_module": "@jupyter-widgets/base",
          "model_name": "LayoutModel",
          "model_module_version": "1.2.0",
          "state": {
            "_model_module": "@jupyter-widgets/base",
            "_model_module_version": "1.2.0",
            "_model_name": "LayoutModel",
            "_view_count": null,
            "_view_module": "@jupyter-widgets/base",
            "_view_module_version": "1.2.0",
            "_view_name": "LayoutView",
            "align_content": null,
            "align_items": null,
            "align_self": null,
            "border": null,
            "bottom": null,
            "display": null,
            "flex": null,
            "flex_flow": null,
            "grid_area": null,
            "grid_auto_columns": null,
            "grid_auto_flow": null,
            "grid_auto_rows": null,
            "grid_column": null,
            "grid_gap": null,
            "grid_row": null,
            "grid_template_areas": null,
            "grid_template_columns": null,
            "grid_template_rows": null,
            "height": null,
            "justify_content": null,
            "justify_items": null,
            "left": null,
            "margin": null,
            "max_height": null,
            "max_width": null,
            "min_height": null,
            "min_width": null,
            "object_fit": null,
            "object_position": null,
            "order": null,
            "overflow": null,
            "overflow_x": null,
            "overflow_y": null,
            "padding": null,
            "right": null,
            "top": null,
            "visibility": null,
            "width": null
          }
        },
        "9f73b0fe243b4190be261efa1bec4f1f": {
          "model_module": "@jupyter-widgets/controls",
          "model_name": "DescriptionStyleModel",
          "model_module_version": "1.5.0",
          "state": {
            "_model_module": "@jupyter-widgets/controls",
            "_model_module_version": "1.5.0",
            "_model_name": "DescriptionStyleModel",
            "_view_count": null,
            "_view_module": "@jupyter-widgets/base",
            "_view_module_version": "1.2.0",
            "_view_name": "StyleView",
            "description_width": ""
          }
        },
        "f6c7a8971c5343ec965add4a2eae45e0": {
          "model_module": "@jupyter-widgets/base",
          "model_name": "LayoutModel",
          "model_module_version": "1.2.0",
          "state": {
            "_model_module": "@jupyter-widgets/base",
            "_model_module_version": "1.2.0",
            "_model_name": "LayoutModel",
            "_view_count": null,
            "_view_module": "@jupyter-widgets/base",
            "_view_module_version": "1.2.0",
            "_view_name": "LayoutView",
            "align_content": null,
            "align_items": null,
            "align_self": null,
            "border": null,
            "bottom": null,
            "display": null,
            "flex": null,
            "flex_flow": null,
            "grid_area": null,
            "grid_auto_columns": null,
            "grid_auto_flow": null,
            "grid_auto_rows": null,
            "grid_column": null,
            "grid_gap": null,
            "grid_row": null,
            "grid_template_areas": null,
            "grid_template_columns": null,
            "grid_template_rows": null,
            "height": null,
            "justify_content": null,
            "justify_items": null,
            "left": null,
            "margin": null,
            "max_height": null,
            "max_width": null,
            "min_height": null,
            "min_width": null,
            "object_fit": null,
            "object_position": null,
            "order": null,
            "overflow": null,
            "overflow_x": null,
            "overflow_y": null,
            "padding": null,
            "right": null,
            "top": null,
            "visibility": null,
            "width": null
          }
        },
        "480770b069e844779a1d445cac13b8cb": {
          "model_module": "@jupyter-widgets/controls",
          "model_name": "ProgressStyleModel",
          "model_module_version": "1.5.0",
          "state": {
            "_model_module": "@jupyter-widgets/controls",
            "_model_module_version": "1.5.0",
            "_model_name": "ProgressStyleModel",
            "_view_count": null,
            "_view_module": "@jupyter-widgets/base",
            "_view_module_version": "1.2.0",
            "_view_name": "StyleView",
            "bar_color": null,
            "description_width": ""
          }
        },
        "02c10649bc524981af41549f61e5afd9": {
          "model_module": "@jupyter-widgets/base",
          "model_name": "LayoutModel",
          "model_module_version": "1.2.0",
          "state": {
            "_model_module": "@jupyter-widgets/base",
            "_model_module_version": "1.2.0",
            "_model_name": "LayoutModel",
            "_view_count": null,
            "_view_module": "@jupyter-widgets/base",
            "_view_module_version": "1.2.0",
            "_view_name": "LayoutView",
            "align_content": null,
            "align_items": null,
            "align_self": null,
            "border": null,
            "bottom": null,
            "display": null,
            "flex": null,
            "flex_flow": null,
            "grid_area": null,
            "grid_auto_columns": null,
            "grid_auto_flow": null,
            "grid_auto_rows": null,
            "grid_column": null,
            "grid_gap": null,
            "grid_row": null,
            "grid_template_areas": null,
            "grid_template_columns": null,
            "grid_template_rows": null,
            "height": null,
            "justify_content": null,
            "justify_items": null,
            "left": null,
            "margin": null,
            "max_height": null,
            "max_width": null,
            "min_height": null,
            "min_width": null,
            "object_fit": null,
            "object_position": null,
            "order": null,
            "overflow": null,
            "overflow_x": null,
            "overflow_y": null,
            "padding": null,
            "right": null,
            "top": null,
            "visibility": null,
            "width": null
          }
        },
        "4bee2a95753c423e8f6c453b74dfe54e": {
          "model_module": "@jupyter-widgets/controls",
          "model_name": "DescriptionStyleModel",
          "model_module_version": "1.5.0",
          "state": {
            "_model_module": "@jupyter-widgets/controls",
            "_model_module_version": "1.5.0",
            "_model_name": "DescriptionStyleModel",
            "_view_count": null,
            "_view_module": "@jupyter-widgets/base",
            "_view_module_version": "1.2.0",
            "_view_name": "StyleView",
            "description_width": ""
          }
        },
        "736dffb2cddc48caa22b7dde4d8849dd": {
          "model_module": "@jupyter-widgets/controls",
          "model_name": "HBoxModel",
          "model_module_version": "1.5.0",
          "state": {
            "_dom_classes": [],
            "_model_module": "@jupyter-widgets/controls",
            "_model_module_version": "1.5.0",
            "_model_name": "HBoxModel",
            "_view_count": null,
            "_view_module": "@jupyter-widgets/controls",
            "_view_module_version": "1.5.0",
            "_view_name": "HBoxView",
            "box_style": "",
            "children": [
              "IPY_MODEL_7be835b10abc49ceb188e39ab6edab23",
              "IPY_MODEL_781aa5c8c4224d53aec0a6e2ebb39054",
              "IPY_MODEL_e1b12e5aeeec4ae1af17c2e286393beb"
            ],
            "layout": "IPY_MODEL_dae875310b0d4437b516719b79832faa"
          }
        },
        "7be835b10abc49ceb188e39ab6edab23": {
          "model_module": "@jupyter-widgets/controls",
          "model_name": "HTMLModel",
          "model_module_version": "1.5.0",
          "state": {
            "_dom_classes": [],
            "_model_module": "@jupyter-widgets/controls",
            "_model_module_version": "1.5.0",
            "_model_name": "HTMLModel",
            "_view_count": null,
            "_view_module": "@jupyter-widgets/controls",
            "_view_module_version": "1.5.0",
            "_view_name": "HTMLView",
            "description": "",
            "description_tooltip": null,
            "layout": "IPY_MODEL_043d89b436474bb1b13d95e8c88d0e2c",
            "placeholder": "​",
            "style": "IPY_MODEL_632eaa4d58d340f9b0f26abb95a5ef35",
            "value": "tokenizer.json: 100%"
          }
        },
        "781aa5c8c4224d53aec0a6e2ebb39054": {
          "model_module": "@jupyter-widgets/controls",
          "model_name": "FloatProgressModel",
          "model_module_version": "1.5.0",
          "state": {
            "_dom_classes": [],
            "_model_module": "@jupyter-widgets/controls",
            "_model_module_version": "1.5.0",
            "_model_name": "FloatProgressModel",
            "_view_count": null,
            "_view_module": "@jupyter-widgets/controls",
            "_view_module_version": "1.5.0",
            "_view_name": "ProgressView",
            "bar_style": "success",
            "description": "",
            "description_tooltip": null,
            "layout": "IPY_MODEL_8c6022f6b18e4b86a0e3b728d73d437c",
            "max": 9085657,
            "min": 0,
            "orientation": "horizontal",
            "style": "IPY_MODEL_a1edaf05ab134981b6ad9a181a3c7afb",
            "value": 9085657
          }
        },
        "e1b12e5aeeec4ae1af17c2e286393beb": {
          "model_module": "@jupyter-widgets/controls",
          "model_name": "HTMLModel",
          "model_module_version": "1.5.0",
          "state": {
            "_dom_classes": [],
            "_model_module": "@jupyter-widgets/controls",
            "_model_module_version": "1.5.0",
            "_model_name": "HTMLModel",
            "_view_count": null,
            "_view_module": "@jupyter-widgets/controls",
            "_view_module_version": "1.5.0",
            "_view_name": "HTMLView",
            "description": "",
            "description_tooltip": null,
            "layout": "IPY_MODEL_bebef677b50f482dbb53d9c1124392d5",
            "placeholder": "​",
            "style": "IPY_MODEL_96eb33b7ba144b97af37ea5f0a72a494",
            "value": " 9.09M/9.09M [00:01&lt;00:00, 8.25MB/s]"
          }
        },
        "dae875310b0d4437b516719b79832faa": {
          "model_module": "@jupyter-widgets/base",
          "model_name": "LayoutModel",
          "model_module_version": "1.2.0",
          "state": {
            "_model_module": "@jupyter-widgets/base",
            "_model_module_version": "1.2.0",
            "_model_name": "LayoutModel",
            "_view_count": null,
            "_view_module": "@jupyter-widgets/base",
            "_view_module_version": "1.2.0",
            "_view_name": "LayoutView",
            "align_content": null,
            "align_items": null,
            "align_self": null,
            "border": null,
            "bottom": null,
            "display": null,
            "flex": null,
            "flex_flow": null,
            "grid_area": null,
            "grid_auto_columns": null,
            "grid_auto_flow": null,
            "grid_auto_rows": null,
            "grid_column": null,
            "grid_gap": null,
            "grid_row": null,
            "grid_template_areas": null,
            "grid_template_columns": null,
            "grid_template_rows": null,
            "height": null,
            "justify_content": null,
            "justify_items": null,
            "left": null,
            "margin": null,
            "max_height": null,
            "max_width": null,
            "min_height": null,
            "min_width": null,
            "object_fit": null,
            "object_position": null,
            "order": null,
            "overflow": null,
            "overflow_x": null,
            "overflow_y": null,
            "padding": null,
            "right": null,
            "top": null,
            "visibility": null,
            "width": null
          }
        },
        "043d89b436474bb1b13d95e8c88d0e2c": {
          "model_module": "@jupyter-widgets/base",
          "model_name": "LayoutModel",
          "model_module_version": "1.2.0",
          "state": {
            "_model_module": "@jupyter-widgets/base",
            "_model_module_version": "1.2.0",
            "_model_name": "LayoutModel",
            "_view_count": null,
            "_view_module": "@jupyter-widgets/base",
            "_view_module_version": "1.2.0",
            "_view_name": "LayoutView",
            "align_content": null,
            "align_items": null,
            "align_self": null,
            "border": null,
            "bottom": null,
            "display": null,
            "flex": null,
            "flex_flow": null,
            "grid_area": null,
            "grid_auto_columns": null,
            "grid_auto_flow": null,
            "grid_auto_rows": null,
            "grid_column": null,
            "grid_gap": null,
            "grid_row": null,
            "grid_template_areas": null,
            "grid_template_columns": null,
            "grid_template_rows": null,
            "height": null,
            "justify_content": null,
            "justify_items": null,
            "left": null,
            "margin": null,
            "max_height": null,
            "max_width": null,
            "min_height": null,
            "min_width": null,
            "object_fit": null,
            "object_position": null,
            "order": null,
            "overflow": null,
            "overflow_x": null,
            "overflow_y": null,
            "padding": null,
            "right": null,
            "top": null,
            "visibility": null,
            "width": null
          }
        },
        "632eaa4d58d340f9b0f26abb95a5ef35": {
          "model_module": "@jupyter-widgets/controls",
          "model_name": "DescriptionStyleModel",
          "model_module_version": "1.5.0",
          "state": {
            "_model_module": "@jupyter-widgets/controls",
            "_model_module_version": "1.5.0",
            "_model_name": "DescriptionStyleModel",
            "_view_count": null,
            "_view_module": "@jupyter-widgets/base",
            "_view_module_version": "1.2.0",
            "_view_name": "StyleView",
            "description_width": ""
          }
        },
        "8c6022f6b18e4b86a0e3b728d73d437c": {
          "model_module": "@jupyter-widgets/base",
          "model_name": "LayoutModel",
          "model_module_version": "1.2.0",
          "state": {
            "_model_module": "@jupyter-widgets/base",
            "_model_module_version": "1.2.0",
            "_model_name": "LayoutModel",
            "_view_count": null,
            "_view_module": "@jupyter-widgets/base",
            "_view_module_version": "1.2.0",
            "_view_name": "LayoutView",
            "align_content": null,
            "align_items": null,
            "align_self": null,
            "border": null,
            "bottom": null,
            "display": null,
            "flex": null,
            "flex_flow": null,
            "grid_area": null,
            "grid_auto_columns": null,
            "grid_auto_flow": null,
            "grid_auto_rows": null,
            "grid_column": null,
            "grid_gap": null,
            "grid_row": null,
            "grid_template_areas": null,
            "grid_template_columns": null,
            "grid_template_rows": null,
            "height": null,
            "justify_content": null,
            "justify_items": null,
            "left": null,
            "margin": null,
            "max_height": null,
            "max_width": null,
            "min_height": null,
            "min_width": null,
            "object_fit": null,
            "object_position": null,
            "order": null,
            "overflow": null,
            "overflow_x": null,
            "overflow_y": null,
            "padding": null,
            "right": null,
            "top": null,
            "visibility": null,
            "width": null
          }
        },
        "a1edaf05ab134981b6ad9a181a3c7afb": {
          "model_module": "@jupyter-widgets/controls",
          "model_name": "ProgressStyleModel",
          "model_module_version": "1.5.0",
          "state": {
            "_model_module": "@jupyter-widgets/controls",
            "_model_module_version": "1.5.0",
            "_model_name": "ProgressStyleModel",
            "_view_count": null,
            "_view_module": "@jupyter-widgets/base",
            "_view_module_version": "1.2.0",
            "_view_name": "StyleView",
            "bar_color": null,
            "description_width": ""
          }
        },
        "bebef677b50f482dbb53d9c1124392d5": {
          "model_module": "@jupyter-widgets/base",
          "model_name": "LayoutModel",
          "model_module_version": "1.2.0",
          "state": {
            "_model_module": "@jupyter-widgets/base",
            "_model_module_version": "1.2.0",
            "_model_name": "LayoutModel",
            "_view_count": null,
            "_view_module": "@jupyter-widgets/base",
            "_view_module_version": "1.2.0",
            "_view_name": "LayoutView",
            "align_content": null,
            "align_items": null,
            "align_self": null,
            "border": null,
            "bottom": null,
            "display": null,
            "flex": null,
            "flex_flow": null,
            "grid_area": null,
            "grid_auto_columns": null,
            "grid_auto_flow": null,
            "grid_auto_rows": null,
            "grid_column": null,
            "grid_gap": null,
            "grid_row": null,
            "grid_template_areas": null,
            "grid_template_columns": null,
            "grid_template_rows": null,
            "height": null,
            "justify_content": null,
            "justify_items": null,
            "left": null,
            "margin": null,
            "max_height": null,
            "max_width": null,
            "min_height": null,
            "min_width": null,
            "object_fit": null,
            "object_position": null,
            "order": null,
            "overflow": null,
            "overflow_x": null,
            "overflow_y": null,
            "padding": null,
            "right": null,
            "top": null,
            "visibility": null,
            "width": null
          }
        },
        "96eb33b7ba144b97af37ea5f0a72a494": {
          "model_module": "@jupyter-widgets/controls",
          "model_name": "DescriptionStyleModel",
          "model_module_version": "1.5.0",
          "state": {
            "_model_module": "@jupyter-widgets/controls",
            "_model_module_version": "1.5.0",
            "_model_name": "DescriptionStyleModel",
            "_view_count": null,
            "_view_module": "@jupyter-widgets/base",
            "_view_module_version": "1.2.0",
            "_view_name": "StyleView",
            "description_width": ""
          }
        },
        "479dc7dc14524f5fbef956e1e5b5947c": {
          "model_module": "@jupyter-widgets/controls",
          "model_name": "HBoxModel",
          "model_module_version": "1.5.0",
          "state": {
            "_dom_classes": [],
            "_model_module": "@jupyter-widgets/controls",
            "_model_module_version": "1.5.0",
            "_model_name": "HBoxModel",
            "_view_count": null,
            "_view_module": "@jupyter-widgets/controls",
            "_view_module_version": "1.5.0",
            "_view_name": "HBoxView",
            "box_style": "",
            "children": [
              "IPY_MODEL_5581df836ae74bd79ca5d8226172b137",
              "IPY_MODEL_5f16dc5f7f8948c29f90715c6bf48fdd",
              "IPY_MODEL_484521cebb4c47c8b79f8f9879a3efe6"
            ],
            "layout": "IPY_MODEL_28e22d750f5448dfa5e5d83d44c5b305"
          }
        },
        "5581df836ae74bd79ca5d8226172b137": {
          "model_module": "@jupyter-widgets/controls",
          "model_name": "HTMLModel",
          "model_module_version": "1.5.0",
          "state": {
            "_dom_classes": [],
            "_model_module": "@jupyter-widgets/controls",
            "_model_module_version": "1.5.0",
            "_model_name": "HTMLModel",
            "_view_count": null,
            "_view_module": "@jupyter-widgets/controls",
            "_view_module_version": "1.5.0",
            "_view_name": "HTMLView",
            "description": "",
            "description_tooltip": null,
            "layout": "IPY_MODEL_5541bda776a44409842dbbf73b120c56",
            "placeholder": "​",
            "style": "IPY_MODEL_ba4a72772fa44b46acc242cc952521ac",
            "value": "special_tokens_map.json: 100%"
          }
        },
        "5f16dc5f7f8948c29f90715c6bf48fdd": {
          "model_module": "@jupyter-widgets/controls",
          "model_name": "FloatProgressModel",
          "model_module_version": "1.5.0",
          "state": {
            "_dom_classes": [],
            "_model_module": "@jupyter-widgets/controls",
            "_model_module_version": "1.5.0",
            "_model_name": "FloatProgressModel",
            "_view_count": null,
            "_view_module": "@jupyter-widgets/controls",
            "_view_module_version": "1.5.0",
            "_view_name": "ProgressView",
            "bar_style": "success",
            "description": "",
            "description_tooltip": null,
            "layout": "IPY_MODEL_bcb8a05990fe469b94ac665891fc891d",
            "max": 301,
            "min": 0,
            "orientation": "horizontal",
            "style": "IPY_MODEL_7ff781fbda294a8698fa2ea6a4bea78c",
            "value": 301
          }
        },
        "484521cebb4c47c8b79f8f9879a3efe6": {
          "model_module": "@jupyter-widgets/controls",
          "model_name": "HTMLModel",
          "model_module_version": "1.5.0",
          "state": {
            "_dom_classes": [],
            "_model_module": "@jupyter-widgets/controls",
            "_model_module_version": "1.5.0",
            "_model_name": "HTMLModel",
            "_view_count": null,
            "_view_module": "@jupyter-widgets/controls",
            "_view_module_version": "1.5.0",
            "_view_name": "HTMLView",
            "description": "",
            "description_tooltip": null,
            "layout": "IPY_MODEL_56954ee079404bc6a34de0cf3bf2c0f4",
            "placeholder": "​",
            "style": "IPY_MODEL_297c0b0db0f644ddaf949bcf6f123d40",
            "value": " 301/301 [00:00&lt;00:00, 25.5kB/s]"
          }
        },
        "28e22d750f5448dfa5e5d83d44c5b305": {
          "model_module": "@jupyter-widgets/base",
          "model_name": "LayoutModel",
          "model_module_version": "1.2.0",
          "state": {
            "_model_module": "@jupyter-widgets/base",
            "_model_module_version": "1.2.0",
            "_model_name": "LayoutModel",
            "_view_count": null,
            "_view_module": "@jupyter-widgets/base",
            "_view_module_version": "1.2.0",
            "_view_name": "LayoutView",
            "align_content": null,
            "align_items": null,
            "align_self": null,
            "border": null,
            "bottom": null,
            "display": null,
            "flex": null,
            "flex_flow": null,
            "grid_area": null,
            "grid_auto_columns": null,
            "grid_auto_flow": null,
            "grid_auto_rows": null,
            "grid_column": null,
            "grid_gap": null,
            "grid_row": null,
            "grid_template_areas": null,
            "grid_template_columns": null,
            "grid_template_rows": null,
            "height": null,
            "justify_content": null,
            "justify_items": null,
            "left": null,
            "margin": null,
            "max_height": null,
            "max_width": null,
            "min_height": null,
            "min_width": null,
            "object_fit": null,
            "object_position": null,
            "order": null,
            "overflow": null,
            "overflow_x": null,
            "overflow_y": null,
            "padding": null,
            "right": null,
            "top": null,
            "visibility": null,
            "width": null
          }
        },
        "5541bda776a44409842dbbf73b120c56": {
          "model_module": "@jupyter-widgets/base",
          "model_name": "LayoutModel",
          "model_module_version": "1.2.0",
          "state": {
            "_model_module": "@jupyter-widgets/base",
            "_model_module_version": "1.2.0",
            "_model_name": "LayoutModel",
            "_view_count": null,
            "_view_module": "@jupyter-widgets/base",
            "_view_module_version": "1.2.0",
            "_view_name": "LayoutView",
            "align_content": null,
            "align_items": null,
            "align_self": null,
            "border": null,
            "bottom": null,
            "display": null,
            "flex": null,
            "flex_flow": null,
            "grid_area": null,
            "grid_auto_columns": null,
            "grid_auto_flow": null,
            "grid_auto_rows": null,
            "grid_column": null,
            "grid_gap": null,
            "grid_row": null,
            "grid_template_areas": null,
            "grid_template_columns": null,
            "grid_template_rows": null,
            "height": null,
            "justify_content": null,
            "justify_items": null,
            "left": null,
            "margin": null,
            "max_height": null,
            "max_width": null,
            "min_height": null,
            "min_width": null,
            "object_fit": null,
            "object_position": null,
            "order": null,
            "overflow": null,
            "overflow_x": null,
            "overflow_y": null,
            "padding": null,
            "right": null,
            "top": null,
            "visibility": null,
            "width": null
          }
        },
        "ba4a72772fa44b46acc242cc952521ac": {
          "model_module": "@jupyter-widgets/controls",
          "model_name": "DescriptionStyleModel",
          "model_module_version": "1.5.0",
          "state": {
            "_model_module": "@jupyter-widgets/controls",
            "_model_module_version": "1.5.0",
            "_model_name": "DescriptionStyleModel",
            "_view_count": null,
            "_view_module": "@jupyter-widgets/base",
            "_view_module_version": "1.2.0",
            "_view_name": "StyleView",
            "description_width": ""
          }
        },
        "bcb8a05990fe469b94ac665891fc891d": {
          "model_module": "@jupyter-widgets/base",
          "model_name": "LayoutModel",
          "model_module_version": "1.2.0",
          "state": {
            "_model_module": "@jupyter-widgets/base",
            "_model_module_version": "1.2.0",
            "_model_name": "LayoutModel",
            "_view_count": null,
            "_view_module": "@jupyter-widgets/base",
            "_view_module_version": "1.2.0",
            "_view_name": "LayoutView",
            "align_content": null,
            "align_items": null,
            "align_self": null,
            "border": null,
            "bottom": null,
            "display": null,
            "flex": null,
            "flex_flow": null,
            "grid_area": null,
            "grid_auto_columns": null,
            "grid_auto_flow": null,
            "grid_auto_rows": null,
            "grid_column": null,
            "grid_gap": null,
            "grid_row": null,
            "grid_template_areas": null,
            "grid_template_columns": null,
            "grid_template_rows": null,
            "height": null,
            "justify_content": null,
            "justify_items": null,
            "left": null,
            "margin": null,
            "max_height": null,
            "max_width": null,
            "min_height": null,
            "min_width": null,
            "object_fit": null,
            "object_position": null,
            "order": null,
            "overflow": null,
            "overflow_x": null,
            "overflow_y": null,
            "padding": null,
            "right": null,
            "top": null,
            "visibility": null,
            "width": null
          }
        },
        "7ff781fbda294a8698fa2ea6a4bea78c": {
          "model_module": "@jupyter-widgets/controls",
          "model_name": "ProgressStyleModel",
          "model_module_version": "1.5.0",
          "state": {
            "_model_module": "@jupyter-widgets/controls",
            "_model_module_version": "1.5.0",
            "_model_name": "ProgressStyleModel",
            "_view_count": null,
            "_view_module": "@jupyter-widgets/base",
            "_view_module_version": "1.2.0",
            "_view_name": "StyleView",
            "bar_color": null,
            "description_width": ""
          }
        },
        "56954ee079404bc6a34de0cf3bf2c0f4": {
          "model_module": "@jupyter-widgets/base",
          "model_name": "LayoutModel",
          "model_module_version": "1.2.0",
          "state": {
            "_model_module": "@jupyter-widgets/base",
            "_model_module_version": "1.2.0",
            "_model_name": "LayoutModel",
            "_view_count": null,
            "_view_module": "@jupyter-widgets/base",
            "_view_module_version": "1.2.0",
            "_view_name": "LayoutView",
            "align_content": null,
            "align_items": null,
            "align_self": null,
            "border": null,
            "bottom": null,
            "display": null,
            "flex": null,
            "flex_flow": null,
            "grid_area": null,
            "grid_auto_columns": null,
            "grid_auto_flow": null,
            "grid_auto_rows": null,
            "grid_column": null,
            "grid_gap": null,
            "grid_row": null,
            "grid_template_areas": null,
            "grid_template_columns": null,
            "grid_template_rows": null,
            "height": null,
            "justify_content": null,
            "justify_items": null,
            "left": null,
            "margin": null,
            "max_height": null,
            "max_width": null,
            "min_height": null,
            "min_width": null,
            "object_fit": null,
            "object_position": null,
            "order": null,
            "overflow": null,
            "overflow_x": null,
            "overflow_y": null,
            "padding": null,
            "right": null,
            "top": null,
            "visibility": null,
            "width": null
          }
        },
        "297c0b0db0f644ddaf949bcf6f123d40": {
          "model_module": "@jupyter-widgets/controls",
          "model_name": "DescriptionStyleModel",
          "model_module_version": "1.5.0",
          "state": {
            "_model_module": "@jupyter-widgets/controls",
            "_model_module_version": "1.5.0",
            "_model_name": "DescriptionStyleModel",
            "_view_count": null,
            "_view_module": "@jupyter-widgets/base",
            "_view_module_version": "1.2.0",
            "_view_name": "StyleView",
            "description_width": ""
          }
        },
        "b1623e5b952e42a0a2f4bf7950bb17eb": {
          "model_module": "@jupyter-widgets/controls",
          "model_name": "HBoxModel",
          "model_module_version": "1.5.0",
          "state": {
            "_dom_classes": [],
            "_model_module": "@jupyter-widgets/controls",
            "_model_module_version": "1.5.0",
            "_model_name": "HBoxModel",
            "_view_count": null,
            "_view_module": "@jupyter-widgets/controls",
            "_view_module_version": "1.5.0",
            "_view_name": "HBoxView",
            "box_style": "",
            "children": [
              "IPY_MODEL_868b084479474202afc80ff3f1399027",
              "IPY_MODEL_b452a11c7ba0465ead47b2d85fb486a3",
              "IPY_MODEL_b678b9b5410047fcbb6be706273067b5"
            ],
            "layout": "IPY_MODEL_b192c86ba58543d7841ef10fa70f2041"
          }
        },
        "868b084479474202afc80ff3f1399027": {
          "model_module": "@jupyter-widgets/controls",
          "model_name": "HTMLModel",
          "model_module_version": "1.5.0",
          "state": {
            "_dom_classes": [],
            "_model_module": "@jupyter-widgets/controls",
            "_model_module_version": "1.5.0",
            "_model_name": "HTMLModel",
            "_view_count": null,
            "_view_module": "@jupyter-widgets/controls",
            "_view_module_version": "1.5.0",
            "_view_name": "HTMLView",
            "description": "",
            "description_tooltip": null,
            "layout": "IPY_MODEL_f214665b4c96413eaa34308df9540536",
            "placeholder": "​",
            "style": "IPY_MODEL_2a5742305dd64ac2990d008cb190b0b8",
            "value": "Processing dataset: 100%"
          }
        },
        "b452a11c7ba0465ead47b2d85fb486a3": {
          "model_module": "@jupyter-widgets/controls",
          "model_name": "FloatProgressModel",
          "model_module_version": "1.5.0",
          "state": {
            "_dom_classes": [],
            "_model_module": "@jupyter-widgets/controls",
            "_model_module_version": "1.5.0",
            "_model_name": "FloatProgressModel",
            "_view_count": null,
            "_view_module": "@jupyter-widgets/controls",
            "_view_module_version": "1.5.0",
            "_view_name": "ProgressView",
            "bar_style": "success",
            "description": "",
            "description_tooltip": null,
            "layout": "IPY_MODEL_c84eff322d8d46eb936303ef3b5ca477",
            "max": 6179,
            "min": 0,
            "orientation": "horizontal",
            "style": "IPY_MODEL_8276202a0b1743c0b761a01db71dedfc",
            "value": 6179
          }
        },
        "b678b9b5410047fcbb6be706273067b5": {
          "model_module": "@jupyter-widgets/controls",
          "model_name": "HTMLModel",
          "model_module_version": "1.5.0",
          "state": {
            "_dom_classes": [],
            "_model_module": "@jupyter-widgets/controls",
            "_model_module_version": "1.5.0",
            "_model_name": "HTMLModel",
            "_view_count": null,
            "_view_module": "@jupyter-widgets/controls",
            "_view_module_version": "1.5.0",
            "_view_name": "HTMLView",
            "description": "",
            "description_tooltip": null,
            "layout": "IPY_MODEL_1560c8f1c085463184e0c820d7912f43",
            "placeholder": "​",
            "style": "IPY_MODEL_3ed01dd030cd41b2b16ae8b510fdf780",
            "value": " 6179/6179 [00:02&lt;00:00, 2461.12 examples/s]"
          }
        },
        "b192c86ba58543d7841ef10fa70f2041": {
          "model_module": "@jupyter-widgets/base",
          "model_name": "LayoutModel",
          "model_module_version": "1.2.0",
          "state": {
            "_model_module": "@jupyter-widgets/base",
            "_model_module_version": "1.2.0",
            "_model_name": "LayoutModel",
            "_view_count": null,
            "_view_module": "@jupyter-widgets/base",
            "_view_module_version": "1.2.0",
            "_view_name": "LayoutView",
            "align_content": null,
            "align_items": null,
            "align_self": null,
            "border": null,
            "bottom": null,
            "display": null,
            "flex": null,
            "flex_flow": null,
            "grid_area": null,
            "grid_auto_columns": null,
            "grid_auto_flow": null,
            "grid_auto_rows": null,
            "grid_column": null,
            "grid_gap": null,
            "grid_row": null,
            "grid_template_areas": null,
            "grid_template_columns": null,
            "grid_template_rows": null,
            "height": null,
            "justify_content": null,
            "justify_items": null,
            "left": null,
            "margin": null,
            "max_height": null,
            "max_width": null,
            "min_height": null,
            "min_width": null,
            "object_fit": null,
            "object_position": null,
            "order": null,
            "overflow": null,
            "overflow_x": null,
            "overflow_y": null,
            "padding": null,
            "right": null,
            "top": null,
            "visibility": null,
            "width": null
          }
        },
        "f214665b4c96413eaa34308df9540536": {
          "model_module": "@jupyter-widgets/base",
          "model_name": "LayoutModel",
          "model_module_version": "1.2.0",
          "state": {
            "_model_module": "@jupyter-widgets/base",
            "_model_module_version": "1.2.0",
            "_model_name": "LayoutModel",
            "_view_count": null,
            "_view_module": "@jupyter-widgets/base",
            "_view_module_version": "1.2.0",
            "_view_name": "LayoutView",
            "align_content": null,
            "align_items": null,
            "align_self": null,
            "border": null,
            "bottom": null,
            "display": null,
            "flex": null,
            "flex_flow": null,
            "grid_area": null,
            "grid_auto_columns": null,
            "grid_auto_flow": null,
            "grid_auto_rows": null,
            "grid_column": null,
            "grid_gap": null,
            "grid_row": null,
            "grid_template_areas": null,
            "grid_template_columns": null,
            "grid_template_rows": null,
            "height": null,
            "justify_content": null,
            "justify_items": null,
            "left": null,
            "margin": null,
            "max_height": null,
            "max_width": null,
            "min_height": null,
            "min_width": null,
            "object_fit": null,
            "object_position": null,
            "order": null,
            "overflow": null,
            "overflow_x": null,
            "overflow_y": null,
            "padding": null,
            "right": null,
            "top": null,
            "visibility": null,
            "width": null
          }
        },
        "2a5742305dd64ac2990d008cb190b0b8": {
          "model_module": "@jupyter-widgets/controls",
          "model_name": "DescriptionStyleModel",
          "model_module_version": "1.5.0",
          "state": {
            "_model_module": "@jupyter-widgets/controls",
            "_model_module_version": "1.5.0",
            "_model_name": "DescriptionStyleModel",
            "_view_count": null,
            "_view_module": "@jupyter-widgets/base",
            "_view_module_version": "1.2.0",
            "_view_name": "StyleView",
            "description_width": ""
          }
        },
        "c84eff322d8d46eb936303ef3b5ca477": {
          "model_module": "@jupyter-widgets/base",
          "model_name": "LayoutModel",
          "model_module_version": "1.2.0",
          "state": {
            "_model_module": "@jupyter-widgets/base",
            "_model_module_version": "1.2.0",
            "_model_name": "LayoutModel",
            "_view_count": null,
            "_view_module": "@jupyter-widgets/base",
            "_view_module_version": "1.2.0",
            "_view_name": "LayoutView",
            "align_content": null,
            "align_items": null,
            "align_self": null,
            "border": null,
            "bottom": null,
            "display": null,
            "flex": null,
            "flex_flow": null,
            "grid_area": null,
            "grid_auto_columns": null,
            "grid_auto_flow": null,
            "grid_auto_rows": null,
            "grid_column": null,
            "grid_gap": null,
            "grid_row": null,
            "grid_template_areas": null,
            "grid_template_columns": null,
            "grid_template_rows": null,
            "height": null,
            "justify_content": null,
            "justify_items": null,
            "left": null,
            "margin": null,
            "max_height": null,
            "max_width": null,
            "min_height": null,
            "min_width": null,
            "object_fit": null,
            "object_position": null,
            "order": null,
            "overflow": null,
            "overflow_x": null,
            "overflow_y": null,
            "padding": null,
            "right": null,
            "top": null,
            "visibility": null,
            "width": null
          }
        },
        "8276202a0b1743c0b761a01db71dedfc": {
          "model_module": "@jupyter-widgets/controls",
          "model_name": "ProgressStyleModel",
          "model_module_version": "1.5.0",
          "state": {
            "_model_module": "@jupyter-widgets/controls",
            "_model_module_version": "1.5.0",
            "_model_name": "ProgressStyleModel",
            "_view_count": null,
            "_view_module": "@jupyter-widgets/base",
            "_view_module_version": "1.2.0",
            "_view_name": "StyleView",
            "bar_color": null,
            "description_width": ""
          }
        },
        "1560c8f1c085463184e0c820d7912f43": {
          "model_module": "@jupyter-widgets/base",
          "model_name": "LayoutModel",
          "model_module_version": "1.2.0",
          "state": {
            "_model_module": "@jupyter-widgets/base",
            "_model_module_version": "1.2.0",
            "_model_name": "LayoutModel",
            "_view_count": null,
            "_view_module": "@jupyter-widgets/base",
            "_view_module_version": "1.2.0",
            "_view_name": "LayoutView",
            "align_content": null,
            "align_items": null,
            "align_self": null,
            "border": null,
            "bottom": null,
            "display": null,
            "flex": null,
            "flex_flow": null,
            "grid_area": null,
            "grid_auto_columns": null,
            "grid_auto_flow": null,
            "grid_auto_rows": null,
            "grid_column": null,
            "grid_gap": null,
            "grid_row": null,
            "grid_template_areas": null,
            "grid_template_columns": null,
            "grid_template_rows": null,
            "height": null,
            "justify_content": null,
            "justify_items": null,
            "left": null,
            "margin": null,
            "max_height": null,
            "max_width": null,
            "min_height": null,
            "min_width": null,
            "object_fit": null,
            "object_position": null,
            "order": null,
            "overflow": null,
            "overflow_x": null,
            "overflow_y": null,
            "padding": null,
            "right": null,
            "top": null,
            "visibility": null,
            "width": null
          }
        },
        "3ed01dd030cd41b2b16ae8b510fdf780": {
          "model_module": "@jupyter-widgets/controls",
          "model_name": "DescriptionStyleModel",
          "model_module_version": "1.5.0",
          "state": {
            "_model_module": "@jupyter-widgets/controls",
            "_model_module_version": "1.5.0",
            "_model_name": "DescriptionStyleModel",
            "_view_count": null,
            "_view_module": "@jupyter-widgets/base",
            "_view_module_version": "1.2.0",
            "_view_name": "StyleView",
            "description_width": ""
          }
        },
        "c4439df85fd94fa2a7618e27b5ca39ab": {
          "model_module": "@jupyter-widgets/controls",
          "model_name": "HBoxModel",
          "model_module_version": "1.5.0",
          "state": {
            "_dom_classes": [],
            "_model_module": "@jupyter-widgets/controls",
            "_model_module_version": "1.5.0",
            "_model_name": "HBoxModel",
            "_view_count": null,
            "_view_module": "@jupyter-widgets/controls",
            "_view_module_version": "1.5.0",
            "_view_name": "HBoxView",
            "box_style": "",
            "children": [
              "IPY_MODEL_fde9cdda3d8a41ab8431f8dc7e2841e9",
              "IPY_MODEL_72cad4561a0e49c5be7a40f1664dab01",
              "IPY_MODEL_9858c1c6566f4e40aee685b2f88c6f7c"
            ],
            "layout": "IPY_MODEL_cc33c308eeb949a9a2bd649071901ec7"
          }
        },
        "fde9cdda3d8a41ab8431f8dc7e2841e9": {
          "model_module": "@jupyter-widgets/controls",
          "model_name": "HTMLModel",
          "model_module_version": "1.5.0",
          "state": {
            "_dom_classes": [],
            "_model_module": "@jupyter-widgets/controls",
            "_model_module_version": "1.5.0",
            "_model_name": "HTMLModel",
            "_view_count": null,
            "_view_module": "@jupyter-widgets/controls",
            "_view_module_version": "1.5.0",
            "_view_name": "HTMLView",
            "description": "",
            "description_tooltip": null,
            "layout": "IPY_MODEL_3ec8fee36fca4ce3b01b499a845aa802",
            "placeholder": "​",
            "style": "IPY_MODEL_6d00c0a0f2ce4cea827fbbdd38db254f",
            "value": "Processing dataset: 100%"
          }
        },
        "72cad4561a0e49c5be7a40f1664dab01": {
          "model_module": "@jupyter-widgets/controls",
          "model_name": "FloatProgressModel",
          "model_module_version": "1.5.0",
          "state": {
            "_dom_classes": [],
            "_model_module": "@jupyter-widgets/controls",
            "_model_module_version": "1.5.0",
            "_model_name": "FloatProgressModel",
            "_view_count": null,
            "_view_module": "@jupyter-widgets/controls",
            "_view_module_version": "1.5.0",
            "_view_name": "ProgressView",
            "bar_style": "success",
            "description": "",
            "description_tooltip": null,
            "layout": "IPY_MODEL_9be66ec2dcab42c0bdae7c3ccdc19654",
            "max": 1545,
            "min": 0,
            "orientation": "horizontal",
            "style": "IPY_MODEL_03645d324d874a8e8e0d03ace4281f3a",
            "value": 1545
          }
        },
        "9858c1c6566f4e40aee685b2f88c6f7c": {
          "model_module": "@jupyter-widgets/controls",
          "model_name": "HTMLModel",
          "model_module_version": "1.5.0",
          "state": {
            "_dom_classes": [],
            "_model_module": "@jupyter-widgets/controls",
            "_model_module_version": "1.5.0",
            "_model_name": "HTMLModel",
            "_view_count": null,
            "_view_module": "@jupyter-widgets/controls",
            "_view_module_version": "1.5.0",
            "_view_name": "HTMLView",
            "description": "",
            "description_tooltip": null,
            "layout": "IPY_MODEL_f51ed511b8634da6a5e11ac09b3b04ef",
            "placeholder": "​",
            "style": "IPY_MODEL_944f3b4432b94b9eacaec50004b6c3c4",
            "value": " 1545/1545 [00:00&lt;00:00, 2374.33 examples/s]"
          }
        },
        "cc33c308eeb949a9a2bd649071901ec7": {
          "model_module": "@jupyter-widgets/base",
          "model_name": "LayoutModel",
          "model_module_version": "1.2.0",
          "state": {
            "_model_module": "@jupyter-widgets/base",
            "_model_module_version": "1.2.0",
            "_model_name": "LayoutModel",
            "_view_count": null,
            "_view_module": "@jupyter-widgets/base",
            "_view_module_version": "1.2.0",
            "_view_name": "LayoutView",
            "align_content": null,
            "align_items": null,
            "align_self": null,
            "border": null,
            "bottom": null,
            "display": null,
            "flex": null,
            "flex_flow": null,
            "grid_area": null,
            "grid_auto_columns": null,
            "grid_auto_flow": null,
            "grid_auto_rows": null,
            "grid_column": null,
            "grid_gap": null,
            "grid_row": null,
            "grid_template_areas": null,
            "grid_template_columns": null,
            "grid_template_rows": null,
            "height": null,
            "justify_content": null,
            "justify_items": null,
            "left": null,
            "margin": null,
            "max_height": null,
            "max_width": null,
            "min_height": null,
            "min_width": null,
            "object_fit": null,
            "object_position": null,
            "order": null,
            "overflow": null,
            "overflow_x": null,
            "overflow_y": null,
            "padding": null,
            "right": null,
            "top": null,
            "visibility": null,
            "width": null
          }
        },
        "3ec8fee36fca4ce3b01b499a845aa802": {
          "model_module": "@jupyter-widgets/base",
          "model_name": "LayoutModel",
          "model_module_version": "1.2.0",
          "state": {
            "_model_module": "@jupyter-widgets/base",
            "_model_module_version": "1.2.0",
            "_model_name": "LayoutModel",
            "_view_count": null,
            "_view_module": "@jupyter-widgets/base",
            "_view_module_version": "1.2.0",
            "_view_name": "LayoutView",
            "align_content": null,
            "align_items": null,
            "align_self": null,
            "border": null,
            "bottom": null,
            "display": null,
            "flex": null,
            "flex_flow": null,
            "grid_area": null,
            "grid_auto_columns": null,
            "grid_auto_flow": null,
            "grid_auto_rows": null,
            "grid_column": null,
            "grid_gap": null,
            "grid_row": null,
            "grid_template_areas": null,
            "grid_template_columns": null,
            "grid_template_rows": null,
            "height": null,
            "justify_content": null,
            "justify_items": null,
            "left": null,
            "margin": null,
            "max_height": null,
            "max_width": null,
            "min_height": null,
            "min_width": null,
            "object_fit": null,
            "object_position": null,
            "order": null,
            "overflow": null,
            "overflow_x": null,
            "overflow_y": null,
            "padding": null,
            "right": null,
            "top": null,
            "visibility": null,
            "width": null
          }
        },
        "6d00c0a0f2ce4cea827fbbdd38db254f": {
          "model_module": "@jupyter-widgets/controls",
          "model_name": "DescriptionStyleModel",
          "model_module_version": "1.5.0",
          "state": {
            "_model_module": "@jupyter-widgets/controls",
            "_model_module_version": "1.5.0",
            "_model_name": "DescriptionStyleModel",
            "_view_count": null,
            "_view_module": "@jupyter-widgets/base",
            "_view_module_version": "1.2.0",
            "_view_name": "StyleView",
            "description_width": ""
          }
        },
        "9be66ec2dcab42c0bdae7c3ccdc19654": {
          "model_module": "@jupyter-widgets/base",
          "model_name": "LayoutModel",
          "model_module_version": "1.2.0",
          "state": {
            "_model_module": "@jupyter-widgets/base",
            "_model_module_version": "1.2.0",
            "_model_name": "LayoutModel",
            "_view_count": null,
            "_view_module": "@jupyter-widgets/base",
            "_view_module_version": "1.2.0",
            "_view_name": "LayoutView",
            "align_content": null,
            "align_items": null,
            "align_self": null,
            "border": null,
            "bottom": null,
            "display": null,
            "flex": null,
            "flex_flow": null,
            "grid_area": null,
            "grid_auto_columns": null,
            "grid_auto_flow": null,
            "grid_auto_rows": null,
            "grid_column": null,
            "grid_gap": null,
            "grid_row": null,
            "grid_template_areas": null,
            "grid_template_columns": null,
            "grid_template_rows": null,
            "height": null,
            "justify_content": null,
            "justify_items": null,
            "left": null,
            "margin": null,
            "max_height": null,
            "max_width": null,
            "min_height": null,
            "min_width": null,
            "object_fit": null,
            "object_position": null,
            "order": null,
            "overflow": null,
            "overflow_x": null,
            "overflow_y": null,
            "padding": null,
            "right": null,
            "top": null,
            "visibility": null,
            "width": null
          }
        },
        "03645d324d874a8e8e0d03ace4281f3a": {
          "model_module": "@jupyter-widgets/controls",
          "model_name": "ProgressStyleModel",
          "model_module_version": "1.5.0",
          "state": {
            "_model_module": "@jupyter-widgets/controls",
            "_model_module_version": "1.5.0",
            "_model_name": "ProgressStyleModel",
            "_view_count": null,
            "_view_module": "@jupyter-widgets/base",
            "_view_module_version": "1.2.0",
            "_view_name": "StyleView",
            "bar_color": null,
            "description_width": ""
          }
        },
        "f51ed511b8634da6a5e11ac09b3b04ef": {
          "model_module": "@jupyter-widgets/base",
          "model_name": "LayoutModel",
          "model_module_version": "1.2.0",
          "state": {
            "_model_module": "@jupyter-widgets/base",
            "_model_module_version": "1.2.0",
            "_model_name": "LayoutModel",
            "_view_count": null,
            "_view_module": "@jupyter-widgets/base",
            "_view_module_version": "1.2.0",
            "_view_name": "LayoutView",
            "align_content": null,
            "align_items": null,
            "align_self": null,
            "border": null,
            "bottom": null,
            "display": null,
            "flex": null,
            "flex_flow": null,
            "grid_area": null,
            "grid_auto_columns": null,
            "grid_auto_flow": null,
            "grid_auto_rows": null,
            "grid_column": null,
            "grid_gap": null,
            "grid_row": null,
            "grid_template_areas": null,
            "grid_template_columns": null,
            "grid_template_rows": null,
            "height": null,
            "justify_content": null,
            "justify_items": null,
            "left": null,
            "margin": null,
            "max_height": null,
            "max_width": null,
            "min_height": null,
            "min_width": null,
            "object_fit": null,
            "object_position": null,
            "order": null,
            "overflow": null,
            "overflow_x": null,
            "overflow_y": null,
            "padding": null,
            "right": null,
            "top": null,
            "visibility": null,
            "width": null
          }
        },
        "944f3b4432b94b9eacaec50004b6c3c4": {
          "model_module": "@jupyter-widgets/controls",
          "model_name": "DescriptionStyleModel",
          "model_module_version": "1.5.0",
          "state": {
            "_model_module": "@jupyter-widgets/controls",
            "_model_module_version": "1.5.0",
            "_model_name": "DescriptionStyleModel",
            "_view_count": null,
            "_view_module": "@jupyter-widgets/base",
            "_view_module_version": "1.2.0",
            "_view_name": "StyleView",
            "description_width": ""
          }
        },
        "d0017ae96e7e4d81904b3e2015594ff0": {
          "model_module": "@jupyter-widgets/controls",
          "model_name": "HBoxModel",
          "model_module_version": "1.5.0",
          "state": {
            "_dom_classes": [],
            "_model_module": "@jupyter-widgets/controls",
            "_model_module_version": "1.5.0",
            "_model_name": "HBoxModel",
            "_view_count": null,
            "_view_module": "@jupyter-widgets/controls",
            "_view_module_version": "1.5.0",
            "_view_name": "HBoxView",
            "box_style": "",
            "children": [
              "IPY_MODEL_ea9a17abddf243639ee425a164f9dd59",
              "IPY_MODEL_18f07c4a211d471591b602e00fc5e148",
              "IPY_MODEL_7519f79669b1448c8c609131f15647f2"
            ],
            "layout": "IPY_MODEL_733273b9b6d64e5d9dabdf977f0be9d1"
          }
        },
        "ea9a17abddf243639ee425a164f9dd59": {
          "model_module": "@jupyter-widgets/controls",
          "model_name": "HTMLModel",
          "model_module_version": "1.5.0",
          "state": {
            "_dom_classes": [],
            "_model_module": "@jupyter-widgets/controls",
            "_model_module_version": "1.5.0",
            "_model_name": "HTMLModel",
            "_view_count": null,
            "_view_module": "@jupyter-widgets/controls",
            "_view_module_version": "1.5.0",
            "_view_name": "HTMLView",
            "description": "",
            "description_tooltip": null,
            "layout": "IPY_MODEL_1774a2c273504911ace99f9c58c0747e",
            "placeholder": "​",
            "style": "IPY_MODEL_6aa957ba80e1414b98609cdc3878bcc9",
            "value": "Filter: 100%"
          }
        },
        "18f07c4a211d471591b602e00fc5e148": {
          "model_module": "@jupyter-widgets/controls",
          "model_name": "FloatProgressModel",
          "model_module_version": "1.5.0",
          "state": {
            "_dom_classes": [],
            "_model_module": "@jupyter-widgets/controls",
            "_model_module_version": "1.5.0",
            "_model_name": "FloatProgressModel",
            "_view_count": null,
            "_view_module": "@jupyter-widgets/controls",
            "_view_module_version": "1.5.0",
            "_view_name": "ProgressView",
            "bar_style": "success",
            "description": "",
            "description_tooltip": null,
            "layout": "IPY_MODEL_e3c3ea3bdd1741cd824d6f29c0e1c35e",
            "max": 6179,
            "min": 0,
            "orientation": "horizontal",
            "style": "IPY_MODEL_ddd68b1f5cde4e77a18c004df543aae0",
            "value": 6179
          }
        },
        "7519f79669b1448c8c609131f15647f2": {
          "model_module": "@jupyter-widgets/controls",
          "model_name": "HTMLModel",
          "model_module_version": "1.5.0",
          "state": {
            "_dom_classes": [],
            "_model_module": "@jupyter-widgets/controls",
            "_model_module_version": "1.5.0",
            "_model_name": "HTMLModel",
            "_view_count": null,
            "_view_module": "@jupyter-widgets/controls",
            "_view_module_version": "1.5.0",
            "_view_name": "HTMLView",
            "description": "",
            "description_tooltip": null,
            "layout": "IPY_MODEL_c9e8c084c93541c7b5bb9e0801c50a51",
            "placeholder": "​",
            "style": "IPY_MODEL_79cb6e10521c44beab87afa5f055695b",
            "value": " 6179/6179 [00:00&lt;00:00, 90110.55 examples/s]"
          }
        },
        "733273b9b6d64e5d9dabdf977f0be9d1": {
          "model_module": "@jupyter-widgets/base",
          "model_name": "LayoutModel",
          "model_module_version": "1.2.0",
          "state": {
            "_model_module": "@jupyter-widgets/base",
            "_model_module_version": "1.2.0",
            "_model_name": "LayoutModel",
            "_view_count": null,
            "_view_module": "@jupyter-widgets/base",
            "_view_module_version": "1.2.0",
            "_view_name": "LayoutView",
            "align_content": null,
            "align_items": null,
            "align_self": null,
            "border": null,
            "bottom": null,
            "display": null,
            "flex": null,
            "flex_flow": null,
            "grid_area": null,
            "grid_auto_columns": null,
            "grid_auto_flow": null,
            "grid_auto_rows": null,
            "grid_column": null,
            "grid_gap": null,
            "grid_row": null,
            "grid_template_areas": null,
            "grid_template_columns": null,
            "grid_template_rows": null,
            "height": null,
            "justify_content": null,
            "justify_items": null,
            "left": null,
            "margin": null,
            "max_height": null,
            "max_width": null,
            "min_height": null,
            "min_width": null,
            "object_fit": null,
            "object_position": null,
            "order": null,
            "overflow": null,
            "overflow_x": null,
            "overflow_y": null,
            "padding": null,
            "right": null,
            "top": null,
            "visibility": null,
            "width": null
          }
        },
        "1774a2c273504911ace99f9c58c0747e": {
          "model_module": "@jupyter-widgets/base",
          "model_name": "LayoutModel",
          "model_module_version": "1.2.0",
          "state": {
            "_model_module": "@jupyter-widgets/base",
            "_model_module_version": "1.2.0",
            "_model_name": "LayoutModel",
            "_view_count": null,
            "_view_module": "@jupyter-widgets/base",
            "_view_module_version": "1.2.0",
            "_view_name": "LayoutView",
            "align_content": null,
            "align_items": null,
            "align_self": null,
            "border": null,
            "bottom": null,
            "display": null,
            "flex": null,
            "flex_flow": null,
            "grid_area": null,
            "grid_auto_columns": null,
            "grid_auto_flow": null,
            "grid_auto_rows": null,
            "grid_column": null,
            "grid_gap": null,
            "grid_row": null,
            "grid_template_areas": null,
            "grid_template_columns": null,
            "grid_template_rows": null,
            "height": null,
            "justify_content": null,
            "justify_items": null,
            "left": null,
            "margin": null,
            "max_height": null,
            "max_width": null,
            "min_height": null,
            "min_width": null,
            "object_fit": null,
            "object_position": null,
            "order": null,
            "overflow": null,
            "overflow_x": null,
            "overflow_y": null,
            "padding": null,
            "right": null,
            "top": null,
            "visibility": null,
            "width": null
          }
        },
        "6aa957ba80e1414b98609cdc3878bcc9": {
          "model_module": "@jupyter-widgets/controls",
          "model_name": "DescriptionStyleModel",
          "model_module_version": "1.5.0",
          "state": {
            "_model_module": "@jupyter-widgets/controls",
            "_model_module_version": "1.5.0",
            "_model_name": "DescriptionStyleModel",
            "_view_count": null,
            "_view_module": "@jupyter-widgets/base",
            "_view_module_version": "1.2.0",
            "_view_name": "StyleView",
            "description_width": ""
          }
        },
        "e3c3ea3bdd1741cd824d6f29c0e1c35e": {
          "model_module": "@jupyter-widgets/base",
          "model_name": "LayoutModel",
          "model_module_version": "1.2.0",
          "state": {
            "_model_module": "@jupyter-widgets/base",
            "_model_module_version": "1.2.0",
            "_model_name": "LayoutModel",
            "_view_count": null,
            "_view_module": "@jupyter-widgets/base",
            "_view_module_version": "1.2.0",
            "_view_name": "LayoutView",
            "align_content": null,
            "align_items": null,
            "align_self": null,
            "border": null,
            "bottom": null,
            "display": null,
            "flex": null,
            "flex_flow": null,
            "grid_area": null,
            "grid_auto_columns": null,
            "grid_auto_flow": null,
            "grid_auto_rows": null,
            "grid_column": null,
            "grid_gap": null,
            "grid_row": null,
            "grid_template_areas": null,
            "grid_template_columns": null,
            "grid_template_rows": null,
            "height": null,
            "justify_content": null,
            "justify_items": null,
            "left": null,
            "margin": null,
            "max_height": null,
            "max_width": null,
            "min_height": null,
            "min_width": null,
            "object_fit": null,
            "object_position": null,
            "order": null,
            "overflow": null,
            "overflow_x": null,
            "overflow_y": null,
            "padding": null,
            "right": null,
            "top": null,
            "visibility": null,
            "width": null
          }
        },
        "ddd68b1f5cde4e77a18c004df543aae0": {
          "model_module": "@jupyter-widgets/controls",
          "model_name": "ProgressStyleModel",
          "model_module_version": "1.5.0",
          "state": {
            "_model_module": "@jupyter-widgets/controls",
            "_model_module_version": "1.5.0",
            "_model_name": "ProgressStyleModel",
            "_view_count": null,
            "_view_module": "@jupyter-widgets/base",
            "_view_module_version": "1.2.0",
            "_view_name": "StyleView",
            "bar_color": null,
            "description_width": ""
          }
        },
        "c9e8c084c93541c7b5bb9e0801c50a51": {
          "model_module": "@jupyter-widgets/base",
          "model_name": "LayoutModel",
          "model_module_version": "1.2.0",
          "state": {
            "_model_module": "@jupyter-widgets/base",
            "_model_module_version": "1.2.0",
            "_model_name": "LayoutModel",
            "_view_count": null,
            "_view_module": "@jupyter-widgets/base",
            "_view_module_version": "1.2.0",
            "_view_name": "LayoutView",
            "align_content": null,
            "align_items": null,
            "align_self": null,
            "border": null,
            "bottom": null,
            "display": null,
            "flex": null,
            "flex_flow": null,
            "grid_area": null,
            "grid_auto_columns": null,
            "grid_auto_flow": null,
            "grid_auto_rows": null,
            "grid_column": null,
            "grid_gap": null,
            "grid_row": null,
            "grid_template_areas": null,
            "grid_template_columns": null,
            "grid_template_rows": null,
            "height": null,
            "justify_content": null,
            "justify_items": null,
            "left": null,
            "margin": null,
            "max_height": null,
            "max_width": null,
            "min_height": null,
            "min_width": null,
            "object_fit": null,
            "object_position": null,
            "order": null,
            "overflow": null,
            "overflow_x": null,
            "overflow_y": null,
            "padding": null,
            "right": null,
            "top": null,
            "visibility": null,
            "width": null
          }
        },
        "79cb6e10521c44beab87afa5f055695b": {
          "model_module": "@jupyter-widgets/controls",
          "model_name": "DescriptionStyleModel",
          "model_module_version": "1.5.0",
          "state": {
            "_model_module": "@jupyter-widgets/controls",
            "_model_module_version": "1.5.0",
            "_model_name": "DescriptionStyleModel",
            "_view_count": null,
            "_view_module": "@jupyter-widgets/base",
            "_view_module_version": "1.2.0",
            "_view_name": "StyleView",
            "description_width": ""
          }
        },
        "c282502af87b4258b56459a6dc35d383": {
          "model_module": "@jupyter-widgets/controls",
          "model_name": "HBoxModel",
          "model_module_version": "1.5.0",
          "state": {
            "_dom_classes": [],
            "_model_module": "@jupyter-widgets/controls",
            "_model_module_version": "1.5.0",
            "_model_name": "HBoxModel",
            "_view_count": null,
            "_view_module": "@jupyter-widgets/controls",
            "_view_module_version": "1.5.0",
            "_view_name": "HBoxView",
            "box_style": "",
            "children": [
              "IPY_MODEL_40d411eb906041e6ae1c92573bb39037",
              "IPY_MODEL_9b3626c265464b329ac521fa94ceaf68",
              "IPY_MODEL_7981f0ef4ab54f1b9511c53111efc5e0"
            ],
            "layout": "IPY_MODEL_332eac21801b401197e666a25893ae1a"
          }
        },
        "40d411eb906041e6ae1c92573bb39037": {
          "model_module": "@jupyter-widgets/controls",
          "model_name": "HTMLModel",
          "model_module_version": "1.5.0",
          "state": {
            "_dom_classes": [],
            "_model_module": "@jupyter-widgets/controls",
            "_model_module_version": "1.5.0",
            "_model_name": "HTMLModel",
            "_view_count": null,
            "_view_module": "@jupyter-widgets/controls",
            "_view_module_version": "1.5.0",
            "_view_name": "HTMLView",
            "description": "",
            "description_tooltip": null,
            "layout": "IPY_MODEL_7965946bf1a24c60af0c8bdc2a49b4ad",
            "placeholder": "​",
            "style": "IPY_MODEL_34539c071dd34386b0c1e7044f047579",
            "value": "Filter: 100%"
          }
        },
        "9b3626c265464b329ac521fa94ceaf68": {
          "model_module": "@jupyter-widgets/controls",
          "model_name": "FloatProgressModel",
          "model_module_version": "1.5.0",
          "state": {
            "_dom_classes": [],
            "_model_module": "@jupyter-widgets/controls",
            "_model_module_version": "1.5.0",
            "_model_name": "FloatProgressModel",
            "_view_count": null,
            "_view_module": "@jupyter-widgets/controls",
            "_view_module_version": "1.5.0",
            "_view_name": "ProgressView",
            "bar_style": "success",
            "description": "",
            "description_tooltip": null,
            "layout": "IPY_MODEL_3285619190ea4db68adf9220b4137a94",
            "max": 1545,
            "min": 0,
            "orientation": "horizontal",
            "style": "IPY_MODEL_f7e5bec4f32943c8b2705c6f5c0e73b6",
            "value": 1545
          }
        },
        "7981f0ef4ab54f1b9511c53111efc5e0": {
          "model_module": "@jupyter-widgets/controls",
          "model_name": "HTMLModel",
          "model_module_version": "1.5.0",
          "state": {
            "_dom_classes": [],
            "_model_module": "@jupyter-widgets/controls",
            "_model_module_version": "1.5.0",
            "_model_name": "HTMLModel",
            "_view_count": null,
            "_view_module": "@jupyter-widgets/controls",
            "_view_module_version": "1.5.0",
            "_view_name": "HTMLView",
            "description": "",
            "description_tooltip": null,
            "layout": "IPY_MODEL_02e863429ba9447894da073be3ebc6c2",
            "placeholder": "​",
            "style": "IPY_MODEL_fbd0d6a86c1144b1b46745efccb6ded3",
            "value": " 1545/1545 [00:00&lt;00:00, 52229.35 examples/s]"
          }
        },
        "332eac21801b401197e666a25893ae1a": {
          "model_module": "@jupyter-widgets/base",
          "model_name": "LayoutModel",
          "model_module_version": "1.2.0",
          "state": {
            "_model_module": "@jupyter-widgets/base",
            "_model_module_version": "1.2.0",
            "_model_name": "LayoutModel",
            "_view_count": null,
            "_view_module": "@jupyter-widgets/base",
            "_view_module_version": "1.2.0",
            "_view_name": "LayoutView",
            "align_content": null,
            "align_items": null,
            "align_self": null,
            "border": null,
            "bottom": null,
            "display": null,
            "flex": null,
            "flex_flow": null,
            "grid_area": null,
            "grid_auto_columns": null,
            "grid_auto_flow": null,
            "grid_auto_rows": null,
            "grid_column": null,
            "grid_gap": null,
            "grid_row": null,
            "grid_template_areas": null,
            "grid_template_columns": null,
            "grid_template_rows": null,
            "height": null,
            "justify_content": null,
            "justify_items": null,
            "left": null,
            "margin": null,
            "max_height": null,
            "max_width": null,
            "min_height": null,
            "min_width": null,
            "object_fit": null,
            "object_position": null,
            "order": null,
            "overflow": null,
            "overflow_x": null,
            "overflow_y": null,
            "padding": null,
            "right": null,
            "top": null,
            "visibility": null,
            "width": null
          }
        },
        "7965946bf1a24c60af0c8bdc2a49b4ad": {
          "model_module": "@jupyter-widgets/base",
          "model_name": "LayoutModel",
          "model_module_version": "1.2.0",
          "state": {
            "_model_module": "@jupyter-widgets/base",
            "_model_module_version": "1.2.0",
            "_model_name": "LayoutModel",
            "_view_count": null,
            "_view_module": "@jupyter-widgets/base",
            "_view_module_version": "1.2.0",
            "_view_name": "LayoutView",
            "align_content": null,
            "align_items": null,
            "align_self": null,
            "border": null,
            "bottom": null,
            "display": null,
            "flex": null,
            "flex_flow": null,
            "grid_area": null,
            "grid_auto_columns": null,
            "grid_auto_flow": null,
            "grid_auto_rows": null,
            "grid_column": null,
            "grid_gap": null,
            "grid_row": null,
            "grid_template_areas": null,
            "grid_template_columns": null,
            "grid_template_rows": null,
            "height": null,
            "justify_content": null,
            "justify_items": null,
            "left": null,
            "margin": null,
            "max_height": null,
            "max_width": null,
            "min_height": null,
            "min_width": null,
            "object_fit": null,
            "object_position": null,
            "order": null,
            "overflow": null,
            "overflow_x": null,
            "overflow_y": null,
            "padding": null,
            "right": null,
            "top": null,
            "visibility": null,
            "width": null
          }
        },
        "34539c071dd34386b0c1e7044f047579": {
          "model_module": "@jupyter-widgets/controls",
          "model_name": "DescriptionStyleModel",
          "model_module_version": "1.5.0",
          "state": {
            "_model_module": "@jupyter-widgets/controls",
            "_model_module_version": "1.5.0",
            "_model_name": "DescriptionStyleModel",
            "_view_count": null,
            "_view_module": "@jupyter-widgets/base",
            "_view_module_version": "1.2.0",
            "_view_name": "StyleView",
            "description_width": ""
          }
        },
        "3285619190ea4db68adf9220b4137a94": {
          "model_module": "@jupyter-widgets/base",
          "model_name": "LayoutModel",
          "model_module_version": "1.2.0",
          "state": {
            "_model_module": "@jupyter-widgets/base",
            "_model_module_version": "1.2.0",
            "_model_name": "LayoutModel",
            "_view_count": null,
            "_view_module": "@jupyter-widgets/base",
            "_view_module_version": "1.2.0",
            "_view_name": "LayoutView",
            "align_content": null,
            "align_items": null,
            "align_self": null,
            "border": null,
            "bottom": null,
            "display": null,
            "flex": null,
            "flex_flow": null,
            "grid_area": null,
            "grid_auto_columns": null,
            "grid_auto_flow": null,
            "grid_auto_rows": null,
            "grid_column": null,
            "grid_gap": null,
            "grid_row": null,
            "grid_template_areas": null,
            "grid_template_columns": null,
            "grid_template_rows": null,
            "height": null,
            "justify_content": null,
            "justify_items": null,
            "left": null,
            "margin": null,
            "max_height": null,
            "max_width": null,
            "min_height": null,
            "min_width": null,
            "object_fit": null,
            "object_position": null,
            "order": null,
            "overflow": null,
            "overflow_x": null,
            "overflow_y": null,
            "padding": null,
            "right": null,
            "top": null,
            "visibility": null,
            "width": null
          }
        },
        "f7e5bec4f32943c8b2705c6f5c0e73b6": {
          "model_module": "@jupyter-widgets/controls",
          "model_name": "ProgressStyleModel",
          "model_module_version": "1.5.0",
          "state": {
            "_model_module": "@jupyter-widgets/controls",
            "_model_module_version": "1.5.0",
            "_model_name": "ProgressStyleModel",
            "_view_count": null,
            "_view_module": "@jupyter-widgets/base",
            "_view_module_version": "1.2.0",
            "_view_name": "StyleView",
            "bar_color": null,
            "description_width": ""
          }
        },
        "02e863429ba9447894da073be3ebc6c2": {
          "model_module": "@jupyter-widgets/base",
          "model_name": "LayoutModel",
          "model_module_version": "1.2.0",
          "state": {
            "_model_module": "@jupyter-widgets/base",
            "_model_module_version": "1.2.0",
            "_model_name": "LayoutModel",
            "_view_count": null,
            "_view_module": "@jupyter-widgets/base",
            "_view_module_version": "1.2.0",
            "_view_name": "LayoutView",
            "align_content": null,
            "align_items": null,
            "align_self": null,
            "border": null,
            "bottom": null,
            "display": null,
            "flex": null,
            "flex_flow": null,
            "grid_area": null,
            "grid_auto_columns": null,
            "grid_auto_flow": null,
            "grid_auto_rows": null,
            "grid_column": null,
            "grid_gap": null,
            "grid_row": null,
            "grid_template_areas": null,
            "grid_template_columns": null,
            "grid_template_rows": null,
            "height": null,
            "justify_content": null,
            "justify_items": null,
            "left": null,
            "margin": null,
            "max_height": null,
            "max_width": null,
            "min_height": null,
            "min_width": null,
            "object_fit": null,
            "object_position": null,
            "order": null,
            "overflow": null,
            "overflow_x": null,
            "overflow_y": null,
            "padding": null,
            "right": null,
            "top": null,
            "visibility": null,
            "width": null
          }
        },
        "fbd0d6a86c1144b1b46745efccb6ded3": {
          "model_module": "@jupyter-widgets/controls",
          "model_name": "DescriptionStyleModel",
          "model_module_version": "1.5.0",
          "state": {
            "_model_module": "@jupyter-widgets/controls",
            "_model_module_version": "1.5.0",
            "_model_name": "DescriptionStyleModel",
            "_view_count": null,
            "_view_module": "@jupyter-widgets/base",
            "_view_module_version": "1.2.0",
            "_view_name": "StyleView",
            "description_width": ""
          }
        },
        "46712a15f51046f381b3f97a25ff4420": {
          "model_module": "@jupyter-widgets/controls",
          "model_name": "HBoxModel",
          "model_module_version": "1.5.0",
          "state": {
            "_dom_classes": [],
            "_model_module": "@jupyter-widgets/controls",
            "_model_module_version": "1.5.0",
            "_model_name": "HBoxModel",
            "_view_count": null,
            "_view_module": "@jupyter-widgets/controls",
            "_view_module_version": "1.5.0",
            "_view_name": "HBoxView",
            "box_style": "",
            "children": [
              "IPY_MODEL_c9d84b97469941eb9f2cd090f81b7285",
              "IPY_MODEL_4140c348b4824ae29cccf73653eda101",
              "IPY_MODEL_7e722d8a4f4249cd857528219acbbba7"
            ],
            "layout": "IPY_MODEL_fc79c4df91a641d385a4bbee9d2ba6c0"
          }
        },
        "c9d84b97469941eb9f2cd090f81b7285": {
          "model_module": "@jupyter-widgets/controls",
          "model_name": "HTMLModel",
          "model_module_version": "1.5.0",
          "state": {
            "_dom_classes": [],
            "_model_module": "@jupyter-widgets/controls",
            "_model_module_version": "1.5.0",
            "_model_name": "HTMLModel",
            "_view_count": null,
            "_view_module": "@jupyter-widgets/controls",
            "_view_module_version": "1.5.0",
            "_view_name": "HTMLView",
            "description": "",
            "description_tooltip": null,
            "layout": "IPY_MODEL_9476383d8ae441639f8c9e6fde072444",
            "placeholder": "​",
            "style": "IPY_MODEL_1506f4f28c6a4a92b3a2a70f1ec8bd05",
            "value": "config.json: 100%"
          }
        },
        "4140c348b4824ae29cccf73653eda101": {
          "model_module": "@jupyter-widgets/controls",
          "model_name": "FloatProgressModel",
          "model_module_version": "1.5.0",
          "state": {
            "_dom_classes": [],
            "_model_module": "@jupyter-widgets/controls",
            "_model_module_version": "1.5.0",
            "_model_name": "FloatProgressModel",
            "_view_count": null,
            "_view_module": "@jupyter-widgets/controls",
            "_view_module_version": "1.5.0",
            "_view_name": "ProgressView",
            "bar_style": "success",
            "description": "",
            "description_tooltip": null,
            "layout": "IPY_MODEL_c4eec3195b8044f98787fe228fabed17",
            "max": 843,
            "min": 0,
            "orientation": "horizontal",
            "style": "IPY_MODEL_d52ea3d07c6e404faf82c707999863e3",
            "value": 843
          }
        },
        "7e722d8a4f4249cd857528219acbbba7": {
          "model_module": "@jupyter-widgets/controls",
          "model_name": "HTMLModel",
          "model_module_version": "1.5.0",
          "state": {
            "_dom_classes": [],
            "_model_module": "@jupyter-widgets/controls",
            "_model_module_version": "1.5.0",
            "_model_name": "HTMLModel",
            "_view_count": null,
            "_view_module": "@jupyter-widgets/controls",
            "_view_module_version": "1.5.0",
            "_view_name": "HTMLView",
            "description": "",
            "description_tooltip": null,
            "layout": "IPY_MODEL_6de4948621e64975871de038bee2a670",
            "placeholder": "​",
            "style": "IPY_MODEL_4262828bd5bf4522acf85e02e4eba804",
            "value": " 843/843 [00:00&lt;00:00, 67.1kB/s]"
          }
        },
        "fc79c4df91a641d385a4bbee9d2ba6c0": {
          "model_module": "@jupyter-widgets/base",
          "model_name": "LayoutModel",
          "model_module_version": "1.2.0",
          "state": {
            "_model_module": "@jupyter-widgets/base",
            "_model_module_version": "1.2.0",
            "_model_name": "LayoutModel",
            "_view_count": null,
            "_view_module": "@jupyter-widgets/base",
            "_view_module_version": "1.2.0",
            "_view_name": "LayoutView",
            "align_content": null,
            "align_items": null,
            "align_self": null,
            "border": null,
            "bottom": null,
            "display": null,
            "flex": null,
            "flex_flow": null,
            "grid_area": null,
            "grid_auto_columns": null,
            "grid_auto_flow": null,
            "grid_auto_rows": null,
            "grid_column": null,
            "grid_gap": null,
            "grid_row": null,
            "grid_template_areas": null,
            "grid_template_columns": null,
            "grid_template_rows": null,
            "height": null,
            "justify_content": null,
            "justify_items": null,
            "left": null,
            "margin": null,
            "max_height": null,
            "max_width": null,
            "min_height": null,
            "min_width": null,
            "object_fit": null,
            "object_position": null,
            "order": null,
            "overflow": null,
            "overflow_x": null,
            "overflow_y": null,
            "padding": null,
            "right": null,
            "top": null,
            "visibility": null,
            "width": null
          }
        },
        "9476383d8ae441639f8c9e6fde072444": {
          "model_module": "@jupyter-widgets/base",
          "model_name": "LayoutModel",
          "model_module_version": "1.2.0",
          "state": {
            "_model_module": "@jupyter-widgets/base",
            "_model_module_version": "1.2.0",
            "_model_name": "LayoutModel",
            "_view_count": null,
            "_view_module": "@jupyter-widgets/base",
            "_view_module_version": "1.2.0",
            "_view_name": "LayoutView",
            "align_content": null,
            "align_items": null,
            "align_self": null,
            "border": null,
            "bottom": null,
            "display": null,
            "flex": null,
            "flex_flow": null,
            "grid_area": null,
            "grid_auto_columns": null,
            "grid_auto_flow": null,
            "grid_auto_rows": null,
            "grid_column": null,
            "grid_gap": null,
            "grid_row": null,
            "grid_template_areas": null,
            "grid_template_columns": null,
            "grid_template_rows": null,
            "height": null,
            "justify_content": null,
            "justify_items": null,
            "left": null,
            "margin": null,
            "max_height": null,
            "max_width": null,
            "min_height": null,
            "min_width": null,
            "object_fit": null,
            "object_position": null,
            "order": null,
            "overflow": null,
            "overflow_x": null,
            "overflow_y": null,
            "padding": null,
            "right": null,
            "top": null,
            "visibility": null,
            "width": null
          }
        },
        "1506f4f28c6a4a92b3a2a70f1ec8bd05": {
          "model_module": "@jupyter-widgets/controls",
          "model_name": "DescriptionStyleModel",
          "model_module_version": "1.5.0",
          "state": {
            "_model_module": "@jupyter-widgets/controls",
            "_model_module_version": "1.5.0",
            "_model_name": "DescriptionStyleModel",
            "_view_count": null,
            "_view_module": "@jupyter-widgets/base",
            "_view_module_version": "1.2.0",
            "_view_name": "StyleView",
            "description_width": ""
          }
        },
        "c4eec3195b8044f98787fe228fabed17": {
          "model_module": "@jupyter-widgets/base",
          "model_name": "LayoutModel",
          "model_module_version": "1.2.0",
          "state": {
            "_model_module": "@jupyter-widgets/base",
            "_model_module_version": "1.2.0",
            "_model_name": "LayoutModel",
            "_view_count": null,
            "_view_module": "@jupyter-widgets/base",
            "_view_module_version": "1.2.0",
            "_view_name": "LayoutView",
            "align_content": null,
            "align_items": null,
            "align_self": null,
            "border": null,
            "bottom": null,
            "display": null,
            "flex": null,
            "flex_flow": null,
            "grid_area": null,
            "grid_auto_columns": null,
            "grid_auto_flow": null,
            "grid_auto_rows": null,
            "grid_column": null,
            "grid_gap": null,
            "grid_row": null,
            "grid_template_areas": null,
            "grid_template_columns": null,
            "grid_template_rows": null,
            "height": null,
            "justify_content": null,
            "justify_items": null,
            "left": null,
            "margin": null,
            "max_height": null,
            "max_width": null,
            "min_height": null,
            "min_width": null,
            "object_fit": null,
            "object_position": null,
            "order": null,
            "overflow": null,
            "overflow_x": null,
            "overflow_y": null,
            "padding": null,
            "right": null,
            "top": null,
            "visibility": null,
            "width": null
          }
        },
        "d52ea3d07c6e404faf82c707999863e3": {
          "model_module": "@jupyter-widgets/controls",
          "model_name": "ProgressStyleModel",
          "model_module_version": "1.5.0",
          "state": {
            "_model_module": "@jupyter-widgets/controls",
            "_model_module_version": "1.5.0",
            "_model_name": "ProgressStyleModel",
            "_view_count": null,
            "_view_module": "@jupyter-widgets/base",
            "_view_module_version": "1.2.0",
            "_view_name": "StyleView",
            "bar_color": null,
            "description_width": ""
          }
        },
        "6de4948621e64975871de038bee2a670": {
          "model_module": "@jupyter-widgets/base",
          "model_name": "LayoutModel",
          "model_module_version": "1.2.0",
          "state": {
            "_model_module": "@jupyter-widgets/base",
            "_model_module_version": "1.2.0",
            "_model_name": "LayoutModel",
            "_view_count": null,
            "_view_module": "@jupyter-widgets/base",
            "_view_module_version": "1.2.0",
            "_view_name": "LayoutView",
            "align_content": null,
            "align_items": null,
            "align_self": null,
            "border": null,
            "bottom": null,
            "display": null,
            "flex": null,
            "flex_flow": null,
            "grid_area": null,
            "grid_auto_columns": null,
            "grid_auto_flow": null,
            "grid_auto_rows": null,
            "grid_column": null,
            "grid_gap": null,
            "grid_row": null,
            "grid_template_areas": null,
            "grid_template_columns": null,
            "grid_template_rows": null,
            "height": null,
            "justify_content": null,
            "justify_items": null,
            "left": null,
            "margin": null,
            "max_height": null,
            "max_width": null,
            "min_height": null,
            "min_width": null,
            "object_fit": null,
            "object_position": null,
            "order": null,
            "overflow": null,
            "overflow_x": null,
            "overflow_y": null,
            "padding": null,
            "right": null,
            "top": null,
            "visibility": null,
            "width": null
          }
        },
        "4262828bd5bf4522acf85e02e4eba804": {
          "model_module": "@jupyter-widgets/controls",
          "model_name": "DescriptionStyleModel",
          "model_module_version": "1.5.0",
          "state": {
            "_model_module": "@jupyter-widgets/controls",
            "_model_module_version": "1.5.0",
            "_model_name": "DescriptionStyleModel",
            "_view_count": null,
            "_view_module": "@jupyter-widgets/base",
            "_view_module_version": "1.2.0",
            "_view_name": "StyleView",
            "description_width": ""
          }
        },
        "fd40db36defd46cdbfd218bb8f0ab6e6": {
          "model_module": "@jupyter-widgets/controls",
          "model_name": "HBoxModel",
          "model_module_version": "1.5.0",
          "state": {
            "_dom_classes": [],
            "_model_module": "@jupyter-widgets/controls",
            "_model_module_version": "1.5.0",
            "_model_name": "HBoxModel",
            "_view_count": null,
            "_view_module": "@jupyter-widgets/controls",
            "_view_module_version": "1.5.0",
            "_view_name": "HBoxView",
            "box_style": "",
            "children": [
              "IPY_MODEL_cb1feba2a69049fbbfd4d8b53e11241f",
              "IPY_MODEL_638019491bb14672b269a98b4e7f6ac7",
              "IPY_MODEL_f605b39929984b778768b893b1e65004"
            ],
            "layout": "IPY_MODEL_13b2a0d412a84e8e8165e4237eeee2fe"
          }
        },
        "cb1feba2a69049fbbfd4d8b53e11241f": {
          "model_module": "@jupyter-widgets/controls",
          "model_name": "HTMLModel",
          "model_module_version": "1.5.0",
          "state": {
            "_dom_classes": [],
            "_model_module": "@jupyter-widgets/controls",
            "_model_module_version": "1.5.0",
            "_model_name": "HTMLModel",
            "_view_count": null,
            "_view_module": "@jupyter-widgets/controls",
            "_view_module_version": "1.5.0",
            "_view_name": "HTMLView",
            "description": "",
            "description_tooltip": null,
            "layout": "IPY_MODEL_054b0c7252c14cfea96129b70ef3f3e0",
            "placeholder": "​",
            "style": "IPY_MODEL_7a04810289524f6d9dd2c35909f50628",
            "value": "model.safetensors: 100%"
          }
        },
        "638019491bb14672b269a98b4e7f6ac7": {
          "model_module": "@jupyter-widgets/controls",
          "model_name": "FloatProgressModel",
          "model_module_version": "1.5.0",
          "state": {
            "_dom_classes": [],
            "_model_module": "@jupyter-widgets/controls",
            "_model_module_version": "1.5.0",
            "_model_name": "FloatProgressModel",
            "_view_count": null,
            "_view_module": "@jupyter-widgets/controls",
            "_view_module_version": "1.5.0",
            "_view_name": "ProgressView",
            "bar_style": "success",
            "description": "",
            "description_tooltip": null,
            "layout": "IPY_MODEL_c0c2598744d14508a28ca314526014f9",
            "max": 2471645608,
            "min": 0,
            "orientation": "horizontal",
            "style": "IPY_MODEL_98d9cb4302f6467eb6586d464ee23c06",
            "value": 2471645608
          }
        },
        "f605b39929984b778768b893b1e65004": {
          "model_module": "@jupyter-widgets/controls",
          "model_name": "HTMLModel",
          "model_module_version": "1.5.0",
          "state": {
            "_dom_classes": [],
            "_model_module": "@jupyter-widgets/controls",
            "_model_module_version": "1.5.0",
            "_model_name": "HTMLModel",
            "_view_count": null,
            "_view_module": "@jupyter-widgets/controls",
            "_view_module_version": "1.5.0",
            "_view_name": "HTMLView",
            "description": "",
            "description_tooltip": null,
            "layout": "IPY_MODEL_d9305a368e294059b70004f29b9e26af",
            "placeholder": "​",
            "style": "IPY_MODEL_65644fd36fa640eab443fd592bdfe052",
            "value": " 2.47G/2.47G [00:58&lt;00:00, 42.6MB/s]"
          }
        },
        "13b2a0d412a84e8e8165e4237eeee2fe": {
          "model_module": "@jupyter-widgets/base",
          "model_name": "LayoutModel",
          "model_module_version": "1.2.0",
          "state": {
            "_model_module": "@jupyter-widgets/base",
            "_model_module_version": "1.2.0",
            "_model_name": "LayoutModel",
            "_view_count": null,
            "_view_module": "@jupyter-widgets/base",
            "_view_module_version": "1.2.0",
            "_view_name": "LayoutView",
            "align_content": null,
            "align_items": null,
            "align_self": null,
            "border": null,
            "bottom": null,
            "display": null,
            "flex": null,
            "flex_flow": null,
            "grid_area": null,
            "grid_auto_columns": null,
            "grid_auto_flow": null,
            "grid_auto_rows": null,
            "grid_column": null,
            "grid_gap": null,
            "grid_row": null,
            "grid_template_areas": null,
            "grid_template_columns": null,
            "grid_template_rows": null,
            "height": null,
            "justify_content": null,
            "justify_items": null,
            "left": null,
            "margin": null,
            "max_height": null,
            "max_width": null,
            "min_height": null,
            "min_width": null,
            "object_fit": null,
            "object_position": null,
            "order": null,
            "overflow": null,
            "overflow_x": null,
            "overflow_y": null,
            "padding": null,
            "right": null,
            "top": null,
            "visibility": null,
            "width": null
          }
        },
        "054b0c7252c14cfea96129b70ef3f3e0": {
          "model_module": "@jupyter-widgets/base",
          "model_name": "LayoutModel",
          "model_module_version": "1.2.0",
          "state": {
            "_model_module": "@jupyter-widgets/base",
            "_model_module_version": "1.2.0",
            "_model_name": "LayoutModel",
            "_view_count": null,
            "_view_module": "@jupyter-widgets/base",
            "_view_module_version": "1.2.0",
            "_view_name": "LayoutView",
            "align_content": null,
            "align_items": null,
            "align_self": null,
            "border": null,
            "bottom": null,
            "display": null,
            "flex": null,
            "flex_flow": null,
            "grid_area": null,
            "grid_auto_columns": null,
            "grid_auto_flow": null,
            "grid_auto_rows": null,
            "grid_column": null,
            "grid_gap": null,
            "grid_row": null,
            "grid_template_areas": null,
            "grid_template_columns": null,
            "grid_template_rows": null,
            "height": null,
            "justify_content": null,
            "justify_items": null,
            "left": null,
            "margin": null,
            "max_height": null,
            "max_width": null,
            "min_height": null,
            "min_width": null,
            "object_fit": null,
            "object_position": null,
            "order": null,
            "overflow": null,
            "overflow_x": null,
            "overflow_y": null,
            "padding": null,
            "right": null,
            "top": null,
            "visibility": null,
            "width": null
          }
        },
        "7a04810289524f6d9dd2c35909f50628": {
          "model_module": "@jupyter-widgets/controls",
          "model_name": "DescriptionStyleModel",
          "model_module_version": "1.5.0",
          "state": {
            "_model_module": "@jupyter-widgets/controls",
            "_model_module_version": "1.5.0",
            "_model_name": "DescriptionStyleModel",
            "_view_count": null,
            "_view_module": "@jupyter-widgets/base",
            "_view_module_version": "1.2.0",
            "_view_name": "StyleView",
            "description_width": ""
          }
        },
        "c0c2598744d14508a28ca314526014f9": {
          "model_module": "@jupyter-widgets/base",
          "model_name": "LayoutModel",
          "model_module_version": "1.2.0",
          "state": {
            "_model_module": "@jupyter-widgets/base",
            "_model_module_version": "1.2.0",
            "_model_name": "LayoutModel",
            "_view_count": null,
            "_view_module": "@jupyter-widgets/base",
            "_view_module_version": "1.2.0",
            "_view_name": "LayoutView",
            "align_content": null,
            "align_items": null,
            "align_self": null,
            "border": null,
            "bottom": null,
            "display": null,
            "flex": null,
            "flex_flow": null,
            "grid_area": null,
            "grid_auto_columns": null,
            "grid_auto_flow": null,
            "grid_auto_rows": null,
            "grid_column": null,
            "grid_gap": null,
            "grid_row": null,
            "grid_template_areas": null,
            "grid_template_columns": null,
            "grid_template_rows": null,
            "height": null,
            "justify_content": null,
            "justify_items": null,
            "left": null,
            "margin": null,
            "max_height": null,
            "max_width": null,
            "min_height": null,
            "min_width": null,
            "object_fit": null,
            "object_position": null,
            "order": null,
            "overflow": null,
            "overflow_x": null,
            "overflow_y": null,
            "padding": null,
            "right": null,
            "top": null,
            "visibility": null,
            "width": null
          }
        },
        "98d9cb4302f6467eb6586d464ee23c06": {
          "model_module": "@jupyter-widgets/controls",
          "model_name": "ProgressStyleModel",
          "model_module_version": "1.5.0",
          "state": {
            "_model_module": "@jupyter-widgets/controls",
            "_model_module_version": "1.5.0",
            "_model_name": "ProgressStyleModel",
            "_view_count": null,
            "_view_module": "@jupyter-widgets/base",
            "_view_module_version": "1.2.0",
            "_view_name": "StyleView",
            "bar_color": null,
            "description_width": ""
          }
        },
        "d9305a368e294059b70004f29b9e26af": {
          "model_module": "@jupyter-widgets/base",
          "model_name": "LayoutModel",
          "model_module_version": "1.2.0",
          "state": {
            "_model_module": "@jupyter-widgets/base",
            "_model_module_version": "1.2.0",
            "_model_name": "LayoutModel",
            "_view_count": null,
            "_view_module": "@jupyter-widgets/base",
            "_view_module_version": "1.2.0",
            "_view_name": "LayoutView",
            "align_content": null,
            "align_items": null,
            "align_self": null,
            "border": null,
            "bottom": null,
            "display": null,
            "flex": null,
            "flex_flow": null,
            "grid_area": null,
            "grid_auto_columns": null,
            "grid_auto_flow": null,
            "grid_auto_rows": null,
            "grid_column": null,
            "grid_gap": null,
            "grid_row": null,
            "grid_template_areas": null,
            "grid_template_columns": null,
            "grid_template_rows": null,
            "height": null,
            "justify_content": null,
            "justify_items": null,
            "left": null,
            "margin": null,
            "max_height": null,
            "max_width": null,
            "min_height": null,
            "min_width": null,
            "object_fit": null,
            "object_position": null,
            "order": null,
            "overflow": null,
            "overflow_x": null,
            "overflow_y": null,
            "padding": null,
            "right": null,
            "top": null,
            "visibility": null,
            "width": null
          }
        },
        "65644fd36fa640eab443fd592bdfe052": {
          "model_module": "@jupyter-widgets/controls",
          "model_name": "DescriptionStyleModel",
          "model_module_version": "1.5.0",
          "state": {
            "_model_module": "@jupyter-widgets/controls",
            "_model_module_version": "1.5.0",
            "_model_name": "DescriptionStyleModel",
            "_view_count": null,
            "_view_module": "@jupyter-widgets/base",
            "_view_module_version": "1.2.0",
            "_view_name": "StyleView",
            "description_width": ""
          }
        },
        "47235b38b8ee4177823048993c671ddd": {
          "model_module": "@jupyter-widgets/controls",
          "model_name": "HBoxModel",
          "model_module_version": "1.5.0",
          "state": {
            "_dom_classes": [],
            "_model_module": "@jupyter-widgets/controls",
            "_model_module_version": "1.5.0",
            "_model_name": "HBoxModel",
            "_view_count": null,
            "_view_module": "@jupyter-widgets/controls",
            "_view_module_version": "1.5.0",
            "_view_name": "HBoxView",
            "box_style": "",
            "children": [
              "IPY_MODEL_7c7d2bdbf22e4e8caa59545de1ba92be",
              "IPY_MODEL_dc72dc00fad34dc992ed788af1c48275",
              "IPY_MODEL_25d1c4c4cae6407bb1ed9f524dde1b11"
            ],
            "layout": "IPY_MODEL_7f87204b30614f89b82b7cb4915c8f8d"
          }
        },
        "7c7d2bdbf22e4e8caa59545de1ba92be": {
          "model_module": "@jupyter-widgets/controls",
          "model_name": "HTMLModel",
          "model_module_version": "1.5.0",
          "state": {
            "_dom_classes": [],
            "_model_module": "@jupyter-widgets/controls",
            "_model_module_version": "1.5.0",
            "_model_name": "HTMLModel",
            "_view_count": null,
            "_view_module": "@jupyter-widgets/controls",
            "_view_module_version": "1.5.0",
            "_view_name": "HTMLView",
            "description": "",
            "description_tooltip": null,
            "layout": "IPY_MODEL_687faf4d0f4d43c7b7bc151e7997fce4",
            "placeholder": "​",
            "style": "IPY_MODEL_66c6561ece0b461393e6a2676f5a9613",
            "value": "generation_config.json: 100%"
          }
        },
        "dc72dc00fad34dc992ed788af1c48275": {
          "model_module": "@jupyter-widgets/controls",
          "model_name": "FloatProgressModel",
          "model_module_version": "1.5.0",
          "state": {
            "_dom_classes": [],
            "_model_module": "@jupyter-widgets/controls",
            "_model_module_version": "1.5.0",
            "_model_name": "FloatProgressModel",
            "_view_count": null,
            "_view_module": "@jupyter-widgets/controls",
            "_view_module_version": "1.5.0",
            "_view_name": "ProgressView",
            "bar_style": "success",
            "description": "",
            "description_tooltip": null,
            "layout": "IPY_MODEL_6e63870cf576457b99293849b320360d",
            "max": 185,
            "min": 0,
            "orientation": "horizontal",
            "style": "IPY_MODEL_4137b477425042c78cbc703d6ebd7281",
            "value": 185
          }
        },
        "25d1c4c4cae6407bb1ed9f524dde1b11": {
          "model_module": "@jupyter-widgets/controls",
          "model_name": "HTMLModel",
          "model_module_version": "1.5.0",
          "state": {
            "_dom_classes": [],
            "_model_module": "@jupyter-widgets/controls",
            "_model_module_version": "1.5.0",
            "_model_name": "HTMLModel",
            "_view_count": null,
            "_view_module": "@jupyter-widgets/controls",
            "_view_module_version": "1.5.0",
            "_view_name": "HTMLView",
            "description": "",
            "description_tooltip": null,
            "layout": "IPY_MODEL_a767af9604ac4c9fb42ba5366779beec",
            "placeholder": "​",
            "style": "IPY_MODEL_467547bde40a460091455c376ddd39ad",
            "value": " 185/185 [00:00&lt;00:00, 14.2kB/s]"
          }
        },
        "7f87204b30614f89b82b7cb4915c8f8d": {
          "model_module": "@jupyter-widgets/base",
          "model_name": "LayoutModel",
          "model_module_version": "1.2.0",
          "state": {
            "_model_module": "@jupyter-widgets/base",
            "_model_module_version": "1.2.0",
            "_model_name": "LayoutModel",
            "_view_count": null,
            "_view_module": "@jupyter-widgets/base",
            "_view_module_version": "1.2.0",
            "_view_name": "LayoutView",
            "align_content": null,
            "align_items": null,
            "align_self": null,
            "border": null,
            "bottom": null,
            "display": null,
            "flex": null,
            "flex_flow": null,
            "grid_area": null,
            "grid_auto_columns": null,
            "grid_auto_flow": null,
            "grid_auto_rows": null,
            "grid_column": null,
            "grid_gap": null,
            "grid_row": null,
            "grid_template_areas": null,
            "grid_template_columns": null,
            "grid_template_rows": null,
            "height": null,
            "justify_content": null,
            "justify_items": null,
            "left": null,
            "margin": null,
            "max_height": null,
            "max_width": null,
            "min_height": null,
            "min_width": null,
            "object_fit": null,
            "object_position": null,
            "order": null,
            "overflow": null,
            "overflow_x": null,
            "overflow_y": null,
            "padding": null,
            "right": null,
            "top": null,
            "visibility": null,
            "width": null
          }
        },
        "687faf4d0f4d43c7b7bc151e7997fce4": {
          "model_module": "@jupyter-widgets/base",
          "model_name": "LayoutModel",
          "model_module_version": "1.2.0",
          "state": {
            "_model_module": "@jupyter-widgets/base",
            "_model_module_version": "1.2.0",
            "_model_name": "LayoutModel",
            "_view_count": null,
            "_view_module": "@jupyter-widgets/base",
            "_view_module_version": "1.2.0",
            "_view_name": "LayoutView",
            "align_content": null,
            "align_items": null,
            "align_self": null,
            "border": null,
            "bottom": null,
            "display": null,
            "flex": null,
            "flex_flow": null,
            "grid_area": null,
            "grid_auto_columns": null,
            "grid_auto_flow": null,
            "grid_auto_rows": null,
            "grid_column": null,
            "grid_gap": null,
            "grid_row": null,
            "grid_template_areas": null,
            "grid_template_columns": null,
            "grid_template_rows": null,
            "height": null,
            "justify_content": null,
            "justify_items": null,
            "left": null,
            "margin": null,
            "max_height": null,
            "max_width": null,
            "min_height": null,
            "min_width": null,
            "object_fit": null,
            "object_position": null,
            "order": null,
            "overflow": null,
            "overflow_x": null,
            "overflow_y": null,
            "padding": null,
            "right": null,
            "top": null,
            "visibility": null,
            "width": null
          }
        },
        "66c6561ece0b461393e6a2676f5a9613": {
          "model_module": "@jupyter-widgets/controls",
          "model_name": "DescriptionStyleModel",
          "model_module_version": "1.5.0",
          "state": {
            "_model_module": "@jupyter-widgets/controls",
            "_model_module_version": "1.5.0",
            "_model_name": "DescriptionStyleModel",
            "_view_count": null,
            "_view_module": "@jupyter-widgets/base",
            "_view_module_version": "1.2.0",
            "_view_name": "StyleView",
            "description_width": ""
          }
        },
        "6e63870cf576457b99293849b320360d": {
          "model_module": "@jupyter-widgets/base",
          "model_name": "LayoutModel",
          "model_module_version": "1.2.0",
          "state": {
            "_model_module": "@jupyter-widgets/base",
            "_model_module_version": "1.2.0",
            "_model_name": "LayoutModel",
            "_view_count": null,
            "_view_module": "@jupyter-widgets/base",
            "_view_module_version": "1.2.0",
            "_view_name": "LayoutView",
            "align_content": null,
            "align_items": null,
            "align_self": null,
            "border": null,
            "bottom": null,
            "display": null,
            "flex": null,
            "flex_flow": null,
            "grid_area": null,
            "grid_auto_columns": null,
            "grid_auto_flow": null,
            "grid_auto_rows": null,
            "grid_column": null,
            "grid_gap": null,
            "grid_row": null,
            "grid_template_areas": null,
            "grid_template_columns": null,
            "grid_template_rows": null,
            "height": null,
            "justify_content": null,
            "justify_items": null,
            "left": null,
            "margin": null,
            "max_height": null,
            "max_width": null,
            "min_height": null,
            "min_width": null,
            "object_fit": null,
            "object_position": null,
            "order": null,
            "overflow": null,
            "overflow_x": null,
            "overflow_y": null,
            "padding": null,
            "right": null,
            "top": null,
            "visibility": null,
            "width": null
          }
        },
        "4137b477425042c78cbc703d6ebd7281": {
          "model_module": "@jupyter-widgets/controls",
          "model_name": "ProgressStyleModel",
          "model_module_version": "1.5.0",
          "state": {
            "_model_module": "@jupyter-widgets/controls",
            "_model_module_version": "1.5.0",
            "_model_name": "ProgressStyleModel",
            "_view_count": null,
            "_view_module": "@jupyter-widgets/base",
            "_view_module_version": "1.2.0",
            "_view_name": "StyleView",
            "bar_color": null,
            "description_width": ""
          }
        },
        "a767af9604ac4c9fb42ba5366779beec": {
          "model_module": "@jupyter-widgets/base",
          "model_name": "LayoutModel",
          "model_module_version": "1.2.0",
          "state": {
            "_model_module": "@jupyter-widgets/base",
            "_model_module_version": "1.2.0",
            "_model_name": "LayoutModel",
            "_view_count": null,
            "_view_module": "@jupyter-widgets/base",
            "_view_module_version": "1.2.0",
            "_view_name": "LayoutView",
            "align_content": null,
            "align_items": null,
            "align_self": null,
            "border": null,
            "bottom": null,
            "display": null,
            "flex": null,
            "flex_flow": null,
            "grid_area": null,
            "grid_auto_columns": null,
            "grid_auto_flow": null,
            "grid_auto_rows": null,
            "grid_column": null,
            "grid_gap": null,
            "grid_row": null,
            "grid_template_areas": null,
            "grid_template_columns": null,
            "grid_template_rows": null,
            "height": null,
            "justify_content": null,
            "justify_items": null,
            "left": null,
            "margin": null,
            "max_height": null,
            "max_width": null,
            "min_height": null,
            "min_width": null,
            "object_fit": null,
            "object_position": null,
            "order": null,
            "overflow": null,
            "overflow_x": null,
            "overflow_y": null,
            "padding": null,
            "right": null,
            "top": null,
            "visibility": null,
            "width": null
          }
        },
        "467547bde40a460091455c376ddd39ad": {
          "model_module": "@jupyter-widgets/controls",
          "model_name": "DescriptionStyleModel",
          "model_module_version": "1.5.0",
          "state": {
            "_model_module": "@jupyter-widgets/controls",
            "_model_module_version": "1.5.0",
            "_model_name": "DescriptionStyleModel",
            "_view_count": null,
            "_view_module": "@jupyter-widgets/base",
            "_view_module_version": "1.2.0",
            "_view_name": "StyleView",
            "description_width": ""
          }
        },
        "c39c74cdec6a4fc593f054b91d7f6be8": {
          "model_module": "@jupyter-widgets/controls",
          "model_name": "HBoxModel",
          "model_module_version": "1.5.0",
          "state": {
            "_dom_classes": [],
            "_model_module": "@jupyter-widgets/controls",
            "_model_module_version": "1.5.0",
            "_model_name": "HBoxModel",
            "_view_count": null,
            "_view_module": "@jupyter-widgets/controls",
            "_view_module_version": "1.5.0",
            "_view_name": "HBoxView",
            "box_style": "",
            "children": [
              "IPY_MODEL_ffd46a7866d943518598938846645024",
              "IPY_MODEL_152a1262e9c8478f8162cca6d0792192",
              "IPY_MODEL_bc98fabbb2be4e66b549ef89883dd1d0"
            ],
            "layout": "IPY_MODEL_bfe775bf78e24a4fac1b79d05b5c4605"
          }
        },
        "ffd46a7866d943518598938846645024": {
          "model_module": "@jupyter-widgets/controls",
          "model_name": "HTMLModel",
          "model_module_version": "1.5.0",
          "state": {
            "_dom_classes": [],
            "_model_module": "@jupyter-widgets/controls",
            "_model_module_version": "1.5.0",
            "_model_name": "HTMLModel",
            "_view_count": null,
            "_view_module": "@jupyter-widgets/controls",
            "_view_module_version": "1.5.0",
            "_view_name": "HTMLView",
            "description": "",
            "description_tooltip": null,
            "layout": "IPY_MODEL_b2d589252df6497c89a16b2caed446a5",
            "placeholder": "​",
            "style": "IPY_MODEL_d8e85d90b0b9446c9dd5ec690d55609e",
            "value": "Map: 100%"
          }
        },
        "152a1262e9c8478f8162cca6d0792192": {
          "model_module": "@jupyter-widgets/controls",
          "model_name": "FloatProgressModel",
          "model_module_version": "1.5.0",
          "state": {
            "_dom_classes": [],
            "_model_module": "@jupyter-widgets/controls",
            "_model_module_version": "1.5.0",
            "_model_name": "FloatProgressModel",
            "_view_count": null,
            "_view_module": "@jupyter-widgets/controls",
            "_view_module_version": "1.5.0",
            "_view_name": "ProgressView",
            "bar_style": "success",
            "description": "",
            "description_tooltip": null,
            "layout": "IPY_MODEL_d8e9bff081654767bca2309e90bbbea6",
            "max": 6179,
            "min": 0,
            "orientation": "horizontal",
            "style": "IPY_MODEL_1df9ff5010ac4bf185ba4cbaef5dfa5f",
            "value": 6179
          }
        },
        "bc98fabbb2be4e66b549ef89883dd1d0": {
          "model_module": "@jupyter-widgets/controls",
          "model_name": "HTMLModel",
          "model_module_version": "1.5.0",
          "state": {
            "_dom_classes": [],
            "_model_module": "@jupyter-widgets/controls",
            "_model_module_version": "1.5.0",
            "_model_name": "HTMLModel",
            "_view_count": null,
            "_view_module": "@jupyter-widgets/controls",
            "_view_module_version": "1.5.0",
            "_view_name": "HTMLView",
            "description": "",
            "description_tooltip": null,
            "layout": "IPY_MODEL_a07aff408dda4fc6b69c3ed455ce4a7b",
            "placeholder": "​",
            "style": "IPY_MODEL_ac56544fe8e94c908aaf5501359ae6e0",
            "value": " 6179/6179 [00:00&lt;00:00, 12229.79 examples/s]"
          }
        },
        "bfe775bf78e24a4fac1b79d05b5c4605": {
          "model_module": "@jupyter-widgets/base",
          "model_name": "LayoutModel",
          "model_module_version": "1.2.0",
          "state": {
            "_model_module": "@jupyter-widgets/base",
            "_model_module_version": "1.2.0",
            "_model_name": "LayoutModel",
            "_view_count": null,
            "_view_module": "@jupyter-widgets/base",
            "_view_module_version": "1.2.0",
            "_view_name": "LayoutView",
            "align_content": null,
            "align_items": null,
            "align_self": null,
            "border": null,
            "bottom": null,
            "display": null,
            "flex": null,
            "flex_flow": null,
            "grid_area": null,
            "grid_auto_columns": null,
            "grid_auto_flow": null,
            "grid_auto_rows": null,
            "grid_column": null,
            "grid_gap": null,
            "grid_row": null,
            "grid_template_areas": null,
            "grid_template_columns": null,
            "grid_template_rows": null,
            "height": null,
            "justify_content": null,
            "justify_items": null,
            "left": null,
            "margin": null,
            "max_height": null,
            "max_width": null,
            "min_height": null,
            "min_width": null,
            "object_fit": null,
            "object_position": null,
            "order": null,
            "overflow": null,
            "overflow_x": null,
            "overflow_y": null,
            "padding": null,
            "right": null,
            "top": null,
            "visibility": null,
            "width": null
          }
        },
        "b2d589252df6497c89a16b2caed446a5": {
          "model_module": "@jupyter-widgets/base",
          "model_name": "LayoutModel",
          "model_module_version": "1.2.0",
          "state": {
            "_model_module": "@jupyter-widgets/base",
            "_model_module_version": "1.2.0",
            "_model_name": "LayoutModel",
            "_view_count": null,
            "_view_module": "@jupyter-widgets/base",
            "_view_module_version": "1.2.0",
            "_view_name": "LayoutView",
            "align_content": null,
            "align_items": null,
            "align_self": null,
            "border": null,
            "bottom": null,
            "display": null,
            "flex": null,
            "flex_flow": null,
            "grid_area": null,
            "grid_auto_columns": null,
            "grid_auto_flow": null,
            "grid_auto_rows": null,
            "grid_column": null,
            "grid_gap": null,
            "grid_row": null,
            "grid_template_areas": null,
            "grid_template_columns": null,
            "grid_template_rows": null,
            "height": null,
            "justify_content": null,
            "justify_items": null,
            "left": null,
            "margin": null,
            "max_height": null,
            "max_width": null,
            "min_height": null,
            "min_width": null,
            "object_fit": null,
            "object_position": null,
            "order": null,
            "overflow": null,
            "overflow_x": null,
            "overflow_y": null,
            "padding": null,
            "right": null,
            "top": null,
            "visibility": null,
            "width": null
          }
        },
        "d8e85d90b0b9446c9dd5ec690d55609e": {
          "model_module": "@jupyter-widgets/controls",
          "model_name": "DescriptionStyleModel",
          "model_module_version": "1.5.0",
          "state": {
            "_model_module": "@jupyter-widgets/controls",
            "_model_module_version": "1.5.0",
            "_model_name": "DescriptionStyleModel",
            "_view_count": null,
            "_view_module": "@jupyter-widgets/base",
            "_view_module_version": "1.2.0",
            "_view_name": "StyleView",
            "description_width": ""
          }
        },
        "d8e9bff081654767bca2309e90bbbea6": {
          "model_module": "@jupyter-widgets/base",
          "model_name": "LayoutModel",
          "model_module_version": "1.2.0",
          "state": {
            "_model_module": "@jupyter-widgets/base",
            "_model_module_version": "1.2.0",
            "_model_name": "LayoutModel",
            "_view_count": null,
            "_view_module": "@jupyter-widgets/base",
            "_view_module_version": "1.2.0",
            "_view_name": "LayoutView",
            "align_content": null,
            "align_items": null,
            "align_self": null,
            "border": null,
            "bottom": null,
            "display": null,
            "flex": null,
            "flex_flow": null,
            "grid_area": null,
            "grid_auto_columns": null,
            "grid_auto_flow": null,
            "grid_auto_rows": null,
            "grid_column": null,
            "grid_gap": null,
            "grid_row": null,
            "grid_template_areas": null,
            "grid_template_columns": null,
            "grid_template_rows": null,
            "height": null,
            "justify_content": null,
            "justify_items": null,
            "left": null,
            "margin": null,
            "max_height": null,
            "max_width": null,
            "min_height": null,
            "min_width": null,
            "object_fit": null,
            "object_position": null,
            "order": null,
            "overflow": null,
            "overflow_x": null,
            "overflow_y": null,
            "padding": null,
            "right": null,
            "top": null,
            "visibility": null,
            "width": null
          }
        },
        "1df9ff5010ac4bf185ba4cbaef5dfa5f": {
          "model_module": "@jupyter-widgets/controls",
          "model_name": "ProgressStyleModel",
          "model_module_version": "1.5.0",
          "state": {
            "_model_module": "@jupyter-widgets/controls",
            "_model_module_version": "1.5.0",
            "_model_name": "ProgressStyleModel",
            "_view_count": null,
            "_view_module": "@jupyter-widgets/base",
            "_view_module_version": "1.2.0",
            "_view_name": "StyleView",
            "bar_color": null,
            "description_width": ""
          }
        },
        "a07aff408dda4fc6b69c3ed455ce4a7b": {
          "model_module": "@jupyter-widgets/base",
          "model_name": "LayoutModel",
          "model_module_version": "1.2.0",
          "state": {
            "_model_module": "@jupyter-widgets/base",
            "_model_module_version": "1.2.0",
            "_model_name": "LayoutModel",
            "_view_count": null,
            "_view_module": "@jupyter-widgets/base",
            "_view_module_version": "1.2.0",
            "_view_name": "LayoutView",
            "align_content": null,
            "align_items": null,
            "align_self": null,
            "border": null,
            "bottom": null,
            "display": null,
            "flex": null,
            "flex_flow": null,
            "grid_area": null,
            "grid_auto_columns": null,
            "grid_auto_flow": null,
            "grid_auto_rows": null,
            "grid_column": null,
            "grid_gap": null,
            "grid_row": null,
            "grid_template_areas": null,
            "grid_template_columns": null,
            "grid_template_rows": null,
            "height": null,
            "justify_content": null,
            "justify_items": null,
            "left": null,
            "margin": null,
            "max_height": null,
            "max_width": null,
            "min_height": null,
            "min_width": null,
            "object_fit": null,
            "object_position": null,
            "order": null,
            "overflow": null,
            "overflow_x": null,
            "overflow_y": null,
            "padding": null,
            "right": null,
            "top": null,
            "visibility": null,
            "width": null
          }
        },
        "ac56544fe8e94c908aaf5501359ae6e0": {
          "model_module": "@jupyter-widgets/controls",
          "model_name": "DescriptionStyleModel",
          "model_module_version": "1.5.0",
          "state": {
            "_model_module": "@jupyter-widgets/controls",
            "_model_module_version": "1.5.0",
            "_model_name": "DescriptionStyleModel",
            "_view_count": null,
            "_view_module": "@jupyter-widgets/base",
            "_view_module_version": "1.2.0",
            "_view_name": "StyleView",
            "description_width": ""
          }
        },
        "15cc71178478419fac7e865b625dda22": {
          "model_module": "@jupyter-widgets/controls",
          "model_name": "HBoxModel",
          "model_module_version": "1.5.0",
          "state": {
            "_dom_classes": [],
            "_model_module": "@jupyter-widgets/controls",
            "_model_module_version": "1.5.0",
            "_model_name": "HBoxModel",
            "_view_count": null,
            "_view_module": "@jupyter-widgets/controls",
            "_view_module_version": "1.5.0",
            "_view_name": "HBoxView",
            "box_style": "",
            "children": [
              "IPY_MODEL_5320d30477114ec480d037459e85c679",
              "IPY_MODEL_fea73153fc13405a899a4cafb2827643",
              "IPY_MODEL_408b83d2df1d42f6a00f10e1c5aeb2da"
            ],
            "layout": "IPY_MODEL_9ecc0f4bcf94409199535d5970b0db5b"
          }
        },
        "5320d30477114ec480d037459e85c679": {
          "model_module": "@jupyter-widgets/controls",
          "model_name": "HTMLModel",
          "model_module_version": "1.5.0",
          "state": {
            "_dom_classes": [],
            "_model_module": "@jupyter-widgets/controls",
            "_model_module_version": "1.5.0",
            "_model_name": "HTMLModel",
            "_view_count": null,
            "_view_module": "@jupyter-widgets/controls",
            "_view_module_version": "1.5.0",
            "_view_name": "HTMLView",
            "description": "",
            "description_tooltip": null,
            "layout": "IPY_MODEL_e709d5dcda9e46208b68e691c4185c09",
            "placeholder": "​",
            "style": "IPY_MODEL_59476a8f617245159b065877e9809f03",
            "value": "Map: 100%"
          }
        },
        "fea73153fc13405a899a4cafb2827643": {
          "model_module": "@jupyter-widgets/controls",
          "model_name": "FloatProgressModel",
          "model_module_version": "1.5.0",
          "state": {
            "_dom_classes": [],
            "_model_module": "@jupyter-widgets/controls",
            "_model_module_version": "1.5.0",
            "_model_name": "FloatProgressModel",
            "_view_count": null,
            "_view_module": "@jupyter-widgets/controls",
            "_view_module_version": "1.5.0",
            "_view_name": "ProgressView",
            "bar_style": "success",
            "description": "",
            "description_tooltip": null,
            "layout": "IPY_MODEL_94e7a449791742309d525929fbdc133c",
            "max": 1545,
            "min": 0,
            "orientation": "horizontal",
            "style": "IPY_MODEL_d35df5d998164b1d8338be820f1f3a40",
            "value": 1545
          }
        },
        "408b83d2df1d42f6a00f10e1c5aeb2da": {
          "model_module": "@jupyter-widgets/controls",
          "model_name": "HTMLModel",
          "model_module_version": "1.5.0",
          "state": {
            "_dom_classes": [],
            "_model_module": "@jupyter-widgets/controls",
            "_model_module_version": "1.5.0",
            "_model_name": "HTMLModel",
            "_view_count": null,
            "_view_module": "@jupyter-widgets/controls",
            "_view_module_version": "1.5.0",
            "_view_name": "HTMLView",
            "description": "",
            "description_tooltip": null,
            "layout": "IPY_MODEL_3f41df647a414ca8a80e97a820252877",
            "placeholder": "​",
            "style": "IPY_MODEL_ec88b1eb9dcf48caa4702753e156bd6e",
            "value": " 1545/1545 [00:00&lt;00:00, 11448.31 examples/s]"
          }
        },
        "9ecc0f4bcf94409199535d5970b0db5b": {
          "model_module": "@jupyter-widgets/base",
          "model_name": "LayoutModel",
          "model_module_version": "1.2.0",
          "state": {
            "_model_module": "@jupyter-widgets/base",
            "_model_module_version": "1.2.0",
            "_model_name": "LayoutModel",
            "_view_count": null,
            "_view_module": "@jupyter-widgets/base",
            "_view_module_version": "1.2.0",
            "_view_name": "LayoutView",
            "align_content": null,
            "align_items": null,
            "align_self": null,
            "border": null,
            "bottom": null,
            "display": null,
            "flex": null,
            "flex_flow": null,
            "grid_area": null,
            "grid_auto_columns": null,
            "grid_auto_flow": null,
            "grid_auto_rows": null,
            "grid_column": null,
            "grid_gap": null,
            "grid_row": null,
            "grid_template_areas": null,
            "grid_template_columns": null,
            "grid_template_rows": null,
            "height": null,
            "justify_content": null,
            "justify_items": null,
            "left": null,
            "margin": null,
            "max_height": null,
            "max_width": null,
            "min_height": null,
            "min_width": null,
            "object_fit": null,
            "object_position": null,
            "order": null,
            "overflow": null,
            "overflow_x": null,
            "overflow_y": null,
            "padding": null,
            "right": null,
            "top": null,
            "visibility": null,
            "width": null
          }
        },
        "e709d5dcda9e46208b68e691c4185c09": {
          "model_module": "@jupyter-widgets/base",
          "model_name": "LayoutModel",
          "model_module_version": "1.2.0",
          "state": {
            "_model_module": "@jupyter-widgets/base",
            "_model_module_version": "1.2.0",
            "_model_name": "LayoutModel",
            "_view_count": null,
            "_view_module": "@jupyter-widgets/base",
            "_view_module_version": "1.2.0",
            "_view_name": "LayoutView",
            "align_content": null,
            "align_items": null,
            "align_self": null,
            "border": null,
            "bottom": null,
            "display": null,
            "flex": null,
            "flex_flow": null,
            "grid_area": null,
            "grid_auto_columns": null,
            "grid_auto_flow": null,
            "grid_auto_rows": null,
            "grid_column": null,
            "grid_gap": null,
            "grid_row": null,
            "grid_template_areas": null,
            "grid_template_columns": null,
            "grid_template_rows": null,
            "height": null,
            "justify_content": null,
            "justify_items": null,
            "left": null,
            "margin": null,
            "max_height": null,
            "max_width": null,
            "min_height": null,
            "min_width": null,
            "object_fit": null,
            "object_position": null,
            "order": null,
            "overflow": null,
            "overflow_x": null,
            "overflow_y": null,
            "padding": null,
            "right": null,
            "top": null,
            "visibility": null,
            "width": null
          }
        },
        "59476a8f617245159b065877e9809f03": {
          "model_module": "@jupyter-widgets/controls",
          "model_name": "DescriptionStyleModel",
          "model_module_version": "1.5.0",
          "state": {
            "_model_module": "@jupyter-widgets/controls",
            "_model_module_version": "1.5.0",
            "_model_name": "DescriptionStyleModel",
            "_view_count": null,
            "_view_module": "@jupyter-widgets/base",
            "_view_module_version": "1.2.0",
            "_view_name": "StyleView",
            "description_width": ""
          }
        },
        "94e7a449791742309d525929fbdc133c": {
          "model_module": "@jupyter-widgets/base",
          "model_name": "LayoutModel",
          "model_module_version": "1.2.0",
          "state": {
            "_model_module": "@jupyter-widgets/base",
            "_model_module_version": "1.2.0",
            "_model_name": "LayoutModel",
            "_view_count": null,
            "_view_module": "@jupyter-widgets/base",
            "_view_module_version": "1.2.0",
            "_view_name": "LayoutView",
            "align_content": null,
            "align_items": null,
            "align_self": null,
            "border": null,
            "bottom": null,
            "display": null,
            "flex": null,
            "flex_flow": null,
            "grid_area": null,
            "grid_auto_columns": null,
            "grid_auto_flow": null,
            "grid_auto_rows": null,
            "grid_column": null,
            "grid_gap": null,
            "grid_row": null,
            "grid_template_areas": null,
            "grid_template_columns": null,
            "grid_template_rows": null,
            "height": null,
            "justify_content": null,
            "justify_items": null,
            "left": null,
            "margin": null,
            "max_height": null,
            "max_width": null,
            "min_height": null,
            "min_width": null,
            "object_fit": null,
            "object_position": null,
            "order": null,
            "overflow": null,
            "overflow_x": null,
            "overflow_y": null,
            "padding": null,
            "right": null,
            "top": null,
            "visibility": null,
            "width": null
          }
        },
        "d35df5d998164b1d8338be820f1f3a40": {
          "model_module": "@jupyter-widgets/controls",
          "model_name": "ProgressStyleModel",
          "model_module_version": "1.5.0",
          "state": {
            "_model_module": "@jupyter-widgets/controls",
            "_model_module_version": "1.5.0",
            "_model_name": "ProgressStyleModel",
            "_view_count": null,
            "_view_module": "@jupyter-widgets/base",
            "_view_module_version": "1.2.0",
            "_view_name": "StyleView",
            "bar_color": null,
            "description_width": ""
          }
        },
        "3f41df647a414ca8a80e97a820252877": {
          "model_module": "@jupyter-widgets/base",
          "model_name": "LayoutModel",
          "model_module_version": "1.2.0",
          "state": {
            "_model_module": "@jupyter-widgets/base",
            "_model_module_version": "1.2.0",
            "_model_name": "LayoutModel",
            "_view_count": null,
            "_view_module": "@jupyter-widgets/base",
            "_view_module_version": "1.2.0",
            "_view_name": "LayoutView",
            "align_content": null,
            "align_items": null,
            "align_self": null,
            "border": null,
            "bottom": null,
            "display": null,
            "flex": null,
            "flex_flow": null,
            "grid_area": null,
            "grid_auto_columns": null,
            "grid_auto_flow": null,
            "grid_auto_rows": null,
            "grid_column": null,
            "grid_gap": null,
            "grid_row": null,
            "grid_template_areas": null,
            "grid_template_columns": null,
            "grid_template_rows": null,
            "height": null,
            "justify_content": null,
            "justify_items": null,
            "left": null,
            "margin": null,
            "max_height": null,
            "max_width": null,
            "min_height": null,
            "min_width": null,
            "object_fit": null,
            "object_position": null,
            "order": null,
            "overflow": null,
            "overflow_x": null,
            "overflow_y": null,
            "padding": null,
            "right": null,
            "top": null,
            "visibility": null,
            "width": null
          }
        },
        "ec88b1eb9dcf48caa4702753e156bd6e": {
          "model_module": "@jupyter-widgets/controls",
          "model_name": "DescriptionStyleModel",
          "model_module_version": "1.5.0",
          "state": {
            "_model_module": "@jupyter-widgets/controls",
            "_model_module_version": "1.5.0",
            "_model_name": "DescriptionStyleModel",
            "_view_count": null,
            "_view_module": "@jupyter-widgets/base",
            "_view_module_version": "1.2.0",
            "_view_name": "StyleView",
            "description_width": ""
          }
        },
        "d9054b0a3131475cbd52e6e5e4bb0707": {
          "model_module": "@jupyter-widgets/controls",
          "model_name": "HBoxModel",
          "model_module_version": "1.5.0",
          "state": {
            "_dom_classes": [],
            "_model_module": "@jupyter-widgets/controls",
            "_model_module_version": "1.5.0",
            "_model_name": "HBoxModel",
            "_view_count": null,
            "_view_module": "@jupyter-widgets/controls",
            "_view_module_version": "1.5.0",
            "_view_name": "HBoxView",
            "box_style": "",
            "children": [
              "IPY_MODEL_52001d1d74f240dc866a01efb186c1b1",
              "IPY_MODEL_db924ed9c2ba4ddc90ff50a70bbbb66f",
              "IPY_MODEL_13f1c30be6d94d77a9eb8a1c93d6ca56"
            ],
            "layout": "IPY_MODEL_5a9feb1487aa4d55a89502730192113a"
          }
        },
        "52001d1d74f240dc866a01efb186c1b1": {
          "model_module": "@jupyter-widgets/controls",
          "model_name": "HTMLModel",
          "model_module_version": "1.5.0",
          "state": {
            "_dom_classes": [],
            "_model_module": "@jupyter-widgets/controls",
            "_model_module_version": "1.5.0",
            "_model_name": "HTMLModel",
            "_view_count": null,
            "_view_module": "@jupyter-widgets/controls",
            "_view_module_version": "1.5.0",
            "_view_name": "HTMLView",
            "description": "",
            "description_tooltip": null,
            "layout": "IPY_MODEL_0e88d229c3764a938c4f7beefa80d2f7",
            "placeholder": "​",
            "style": "IPY_MODEL_0e0f1327fd7d42b2997e368f49d8a1af",
            "value": "Downloading builder script: 100%"
          }
        },
        "db924ed9c2ba4ddc90ff50a70bbbb66f": {
          "model_module": "@jupyter-widgets/controls",
          "model_name": "FloatProgressModel",
          "model_module_version": "1.5.0",
          "state": {
            "_dom_classes": [],
            "_model_module": "@jupyter-widgets/controls",
            "_model_module_version": "1.5.0",
            "_model_name": "FloatProgressModel",
            "_view_count": null,
            "_view_module": "@jupyter-widgets/controls",
            "_view_module_version": "1.5.0",
            "_view_name": "ProgressView",
            "bar_style": "success",
            "description": "",
            "description_tooltip": null,
            "layout": "IPY_MODEL_ec1a048f694a45ff81971da6276977b5",
            "max": 4203,
            "min": 0,
            "orientation": "horizontal",
            "style": "IPY_MODEL_29f4f1b5a6744507acbdbba49781434e",
            "value": 4203
          }
        },
        "13f1c30be6d94d77a9eb8a1c93d6ca56": {
          "model_module": "@jupyter-widgets/controls",
          "model_name": "HTMLModel",
          "model_module_version": "1.5.0",
          "state": {
            "_dom_classes": [],
            "_model_module": "@jupyter-widgets/controls",
            "_model_module_version": "1.5.0",
            "_model_name": "HTMLModel",
            "_view_count": null,
            "_view_module": "@jupyter-widgets/controls",
            "_view_module_version": "1.5.0",
            "_view_name": "HTMLView",
            "description": "",
            "description_tooltip": null,
            "layout": "IPY_MODEL_da1ae4ca70a447349dd1f8391554d4a1",
            "placeholder": "​",
            "style": "IPY_MODEL_2ec1e838752947c7b8714ac6c38fc206",
            "value": " 4.20k/4.20k [00:00&lt;00:00, 360kB/s]"
          }
        },
        "5a9feb1487aa4d55a89502730192113a": {
          "model_module": "@jupyter-widgets/base",
          "model_name": "LayoutModel",
          "model_module_version": "1.2.0",
          "state": {
            "_model_module": "@jupyter-widgets/base",
            "_model_module_version": "1.2.0",
            "_model_name": "LayoutModel",
            "_view_count": null,
            "_view_module": "@jupyter-widgets/base",
            "_view_module_version": "1.2.0",
            "_view_name": "LayoutView",
            "align_content": null,
            "align_items": null,
            "align_self": null,
            "border": null,
            "bottom": null,
            "display": null,
            "flex": null,
            "flex_flow": null,
            "grid_area": null,
            "grid_auto_columns": null,
            "grid_auto_flow": null,
            "grid_auto_rows": null,
            "grid_column": null,
            "grid_gap": null,
            "grid_row": null,
            "grid_template_areas": null,
            "grid_template_columns": null,
            "grid_template_rows": null,
            "height": null,
            "justify_content": null,
            "justify_items": null,
            "left": null,
            "margin": null,
            "max_height": null,
            "max_width": null,
            "min_height": null,
            "min_width": null,
            "object_fit": null,
            "object_position": null,
            "order": null,
            "overflow": null,
            "overflow_x": null,
            "overflow_y": null,
            "padding": null,
            "right": null,
            "top": null,
            "visibility": null,
            "width": null
          }
        },
        "0e88d229c3764a938c4f7beefa80d2f7": {
          "model_module": "@jupyter-widgets/base",
          "model_name": "LayoutModel",
          "model_module_version": "1.2.0",
          "state": {
            "_model_module": "@jupyter-widgets/base",
            "_model_module_version": "1.2.0",
            "_model_name": "LayoutModel",
            "_view_count": null,
            "_view_module": "@jupyter-widgets/base",
            "_view_module_version": "1.2.0",
            "_view_name": "LayoutView",
            "align_content": null,
            "align_items": null,
            "align_self": null,
            "border": null,
            "bottom": null,
            "display": null,
            "flex": null,
            "flex_flow": null,
            "grid_area": null,
            "grid_auto_columns": null,
            "grid_auto_flow": null,
            "grid_auto_rows": null,
            "grid_column": null,
            "grid_gap": null,
            "grid_row": null,
            "grid_template_areas": null,
            "grid_template_columns": null,
            "grid_template_rows": null,
            "height": null,
            "justify_content": null,
            "justify_items": null,
            "left": null,
            "margin": null,
            "max_height": null,
            "max_width": null,
            "min_height": null,
            "min_width": null,
            "object_fit": null,
            "object_position": null,
            "order": null,
            "overflow": null,
            "overflow_x": null,
            "overflow_y": null,
            "padding": null,
            "right": null,
            "top": null,
            "visibility": null,
            "width": null
          }
        },
        "0e0f1327fd7d42b2997e368f49d8a1af": {
          "model_module": "@jupyter-widgets/controls",
          "model_name": "DescriptionStyleModel",
          "model_module_version": "1.5.0",
          "state": {
            "_model_module": "@jupyter-widgets/controls",
            "_model_module_version": "1.5.0",
            "_model_name": "DescriptionStyleModel",
            "_view_count": null,
            "_view_module": "@jupyter-widgets/base",
            "_view_module_version": "1.2.0",
            "_view_name": "StyleView",
            "description_width": ""
          }
        },
        "ec1a048f694a45ff81971da6276977b5": {
          "model_module": "@jupyter-widgets/base",
          "model_name": "LayoutModel",
          "model_module_version": "1.2.0",
          "state": {
            "_model_module": "@jupyter-widgets/base",
            "_model_module_version": "1.2.0",
            "_model_name": "LayoutModel",
            "_view_count": null,
            "_view_module": "@jupyter-widgets/base",
            "_view_module_version": "1.2.0",
            "_view_name": "LayoutView",
            "align_content": null,
            "align_items": null,
            "align_self": null,
            "border": null,
            "bottom": null,
            "display": null,
            "flex": null,
            "flex_flow": null,
            "grid_area": null,
            "grid_auto_columns": null,
            "grid_auto_flow": null,
            "grid_auto_rows": null,
            "grid_column": null,
            "grid_gap": null,
            "grid_row": null,
            "grid_template_areas": null,
            "grid_template_columns": null,
            "grid_template_rows": null,
            "height": null,
            "justify_content": null,
            "justify_items": null,
            "left": null,
            "margin": null,
            "max_height": null,
            "max_width": null,
            "min_height": null,
            "min_width": null,
            "object_fit": null,
            "object_position": null,
            "order": null,
            "overflow": null,
            "overflow_x": null,
            "overflow_y": null,
            "padding": null,
            "right": null,
            "top": null,
            "visibility": null,
            "width": null
          }
        },
        "29f4f1b5a6744507acbdbba49781434e": {
          "model_module": "@jupyter-widgets/controls",
          "model_name": "ProgressStyleModel",
          "model_module_version": "1.5.0",
          "state": {
            "_model_module": "@jupyter-widgets/controls",
            "_model_module_version": "1.5.0",
            "_model_name": "ProgressStyleModel",
            "_view_count": null,
            "_view_module": "@jupyter-widgets/base",
            "_view_module_version": "1.2.0",
            "_view_name": "StyleView",
            "bar_color": null,
            "description_width": ""
          }
        },
        "da1ae4ca70a447349dd1f8391554d4a1": {
          "model_module": "@jupyter-widgets/base",
          "model_name": "LayoutModel",
          "model_module_version": "1.2.0",
          "state": {
            "_model_module": "@jupyter-widgets/base",
            "_model_module_version": "1.2.0",
            "_model_name": "LayoutModel",
            "_view_count": null,
            "_view_module": "@jupyter-widgets/base",
            "_view_module_version": "1.2.0",
            "_view_name": "LayoutView",
            "align_content": null,
            "align_items": null,
            "align_self": null,
            "border": null,
            "bottom": null,
            "display": null,
            "flex": null,
            "flex_flow": null,
            "grid_area": null,
            "grid_auto_columns": null,
            "grid_auto_flow": null,
            "grid_auto_rows": null,
            "grid_column": null,
            "grid_gap": null,
            "grid_row": null,
            "grid_template_areas": null,
            "grid_template_columns": null,
            "grid_template_rows": null,
            "height": null,
            "justify_content": null,
            "justify_items": null,
            "left": null,
            "margin": null,
            "max_height": null,
            "max_width": null,
            "min_height": null,
            "min_width": null,
            "object_fit": null,
            "object_position": null,
            "order": null,
            "overflow": null,
            "overflow_x": null,
            "overflow_y": null,
            "padding": null,
            "right": null,
            "top": null,
            "visibility": null,
            "width": null
          }
        },
        "2ec1e838752947c7b8714ac6c38fc206": {
          "model_module": "@jupyter-widgets/controls",
          "model_name": "DescriptionStyleModel",
          "model_module_version": "1.5.0",
          "state": {
            "_model_module": "@jupyter-widgets/controls",
            "_model_module_version": "1.5.0",
            "_model_name": "DescriptionStyleModel",
            "_view_count": null,
            "_view_module": "@jupyter-widgets/base",
            "_view_module_version": "1.2.0",
            "_view_name": "StyleView",
            "description_width": ""
          }
        },
        "ba85fb7c38ad41d8951a23bf45d0d480": {
          "model_module": "@jupyter-widgets/controls",
          "model_name": "HBoxModel",
          "model_module_version": "1.5.0",
          "state": {
            "_dom_classes": [],
            "_model_module": "@jupyter-widgets/controls",
            "_model_module_version": "1.5.0",
            "_model_name": "HBoxModel",
            "_view_count": null,
            "_view_module": "@jupyter-widgets/controls",
            "_view_module_version": "1.5.0",
            "_view_name": "HBoxView",
            "box_style": "",
            "children": [
              "IPY_MODEL_ab5e7a21c5b14dcbb1144c9f03bcfd85",
              "IPY_MODEL_2216717aef3945c083150c49bac4cc63",
              "IPY_MODEL_b8f2097ad56641fcb3c6e9c15e0212cd"
            ],
            "layout": "IPY_MODEL_81a1b7ca166d46338dab84c3050b8c95"
          }
        },
        "ab5e7a21c5b14dcbb1144c9f03bcfd85": {
          "model_module": "@jupyter-widgets/controls",
          "model_name": "HTMLModel",
          "model_module_version": "1.5.0",
          "state": {
            "_dom_classes": [],
            "_model_module": "@jupyter-widgets/controls",
            "_model_module_version": "1.5.0",
            "_model_name": "HTMLModel",
            "_view_count": null,
            "_view_module": "@jupyter-widgets/controls",
            "_view_module_version": "1.5.0",
            "_view_name": "HTMLView",
            "description": "",
            "description_tooltip": null,
            "layout": "IPY_MODEL_34df7875e907454c8ac51dec9c36273c",
            "placeholder": "​",
            "style": "IPY_MODEL_7ad48521522b4b0fb7b8f8890b1813f0",
            "value": "Downloading builder script: 100%"
          }
        },
        "2216717aef3945c083150c49bac4cc63": {
          "model_module": "@jupyter-widgets/controls",
          "model_name": "FloatProgressModel",
          "model_module_version": "1.5.0",
          "state": {
            "_dom_classes": [],
            "_model_module": "@jupyter-widgets/controls",
            "_model_module_version": "1.5.0",
            "_model_name": "FloatProgressModel",
            "_view_count": null,
            "_view_module": "@jupyter-widgets/controls",
            "_view_module_version": "1.5.0",
            "_view_name": "ProgressView",
            "bar_style": "success",
            "description": "",
            "description_tooltip": null,
            "layout": "IPY_MODEL_72e149a6e0374cdcb1cc6d521ca02537",
            "max": 6771,
            "min": 0,
            "orientation": "horizontal",
            "style": "IPY_MODEL_2b7147dc59174a348579065f387378cb",
            "value": 6771
          }
        },
        "b8f2097ad56641fcb3c6e9c15e0212cd": {
          "model_module": "@jupyter-widgets/controls",
          "model_name": "HTMLModel",
          "model_module_version": "1.5.0",
          "state": {
            "_dom_classes": [],
            "_model_module": "@jupyter-widgets/controls",
            "_model_module_version": "1.5.0",
            "_model_name": "HTMLModel",
            "_view_count": null,
            "_view_module": "@jupyter-widgets/controls",
            "_view_module_version": "1.5.0",
            "_view_name": "HTMLView",
            "description": "",
            "description_tooltip": null,
            "layout": "IPY_MODEL_6743f46cf3b14f43a6aa80c28f14fe51",
            "placeholder": "​",
            "style": "IPY_MODEL_c26e3e9f3c1d4f0b8dc577fc3fe8b4b0",
            "value": " 6.77k/6.77k [00:00&lt;00:00, 509kB/s]"
          }
        },
        "81a1b7ca166d46338dab84c3050b8c95": {
          "model_module": "@jupyter-widgets/base",
          "model_name": "LayoutModel",
          "model_module_version": "1.2.0",
          "state": {
            "_model_module": "@jupyter-widgets/base",
            "_model_module_version": "1.2.0",
            "_model_name": "LayoutModel",
            "_view_count": null,
            "_view_module": "@jupyter-widgets/base",
            "_view_module_version": "1.2.0",
            "_view_name": "LayoutView",
            "align_content": null,
            "align_items": null,
            "align_self": null,
            "border": null,
            "bottom": null,
            "display": null,
            "flex": null,
            "flex_flow": null,
            "grid_area": null,
            "grid_auto_columns": null,
            "grid_auto_flow": null,
            "grid_auto_rows": null,
            "grid_column": null,
            "grid_gap": null,
            "grid_row": null,
            "grid_template_areas": null,
            "grid_template_columns": null,
            "grid_template_rows": null,
            "height": null,
            "justify_content": null,
            "justify_items": null,
            "left": null,
            "margin": null,
            "max_height": null,
            "max_width": null,
            "min_height": null,
            "min_width": null,
            "object_fit": null,
            "object_position": null,
            "order": null,
            "overflow": null,
            "overflow_x": null,
            "overflow_y": null,
            "padding": null,
            "right": null,
            "top": null,
            "visibility": null,
            "width": null
          }
        },
        "34df7875e907454c8ac51dec9c36273c": {
          "model_module": "@jupyter-widgets/base",
          "model_name": "LayoutModel",
          "model_module_version": "1.2.0",
          "state": {
            "_model_module": "@jupyter-widgets/base",
            "_model_module_version": "1.2.0",
            "_model_name": "LayoutModel",
            "_view_count": null,
            "_view_module": "@jupyter-widgets/base",
            "_view_module_version": "1.2.0",
            "_view_name": "LayoutView",
            "align_content": null,
            "align_items": null,
            "align_self": null,
            "border": null,
            "bottom": null,
            "display": null,
            "flex": null,
            "flex_flow": null,
            "grid_area": null,
            "grid_auto_columns": null,
            "grid_auto_flow": null,
            "grid_auto_rows": null,
            "grid_column": null,
            "grid_gap": null,
            "grid_row": null,
            "grid_template_areas": null,
            "grid_template_columns": null,
            "grid_template_rows": null,
            "height": null,
            "justify_content": null,
            "justify_items": null,
            "left": null,
            "margin": null,
            "max_height": null,
            "max_width": null,
            "min_height": null,
            "min_width": null,
            "object_fit": null,
            "object_position": null,
            "order": null,
            "overflow": null,
            "overflow_x": null,
            "overflow_y": null,
            "padding": null,
            "right": null,
            "top": null,
            "visibility": null,
            "width": null
          }
        },
        "7ad48521522b4b0fb7b8f8890b1813f0": {
          "model_module": "@jupyter-widgets/controls",
          "model_name": "DescriptionStyleModel",
          "model_module_version": "1.5.0",
          "state": {
            "_model_module": "@jupyter-widgets/controls",
            "_model_module_version": "1.5.0",
            "_model_name": "DescriptionStyleModel",
            "_view_count": null,
            "_view_module": "@jupyter-widgets/base",
            "_view_module_version": "1.2.0",
            "_view_name": "StyleView",
            "description_width": ""
          }
        },
        "72e149a6e0374cdcb1cc6d521ca02537": {
          "model_module": "@jupyter-widgets/base",
          "model_name": "LayoutModel",
          "model_module_version": "1.2.0",
          "state": {
            "_model_module": "@jupyter-widgets/base",
            "_model_module_version": "1.2.0",
            "_model_name": "LayoutModel",
            "_view_count": null,
            "_view_module": "@jupyter-widgets/base",
            "_view_module_version": "1.2.0",
            "_view_name": "LayoutView",
            "align_content": null,
            "align_items": null,
            "align_self": null,
            "border": null,
            "bottom": null,
            "display": null,
            "flex": null,
            "flex_flow": null,
            "grid_area": null,
            "grid_auto_columns": null,
            "grid_auto_flow": null,
            "grid_auto_rows": null,
            "grid_column": null,
            "grid_gap": null,
            "grid_row": null,
            "grid_template_areas": null,
            "grid_template_columns": null,
            "grid_template_rows": null,
            "height": null,
            "justify_content": null,
            "justify_items": null,
            "left": null,
            "margin": null,
            "max_height": null,
            "max_width": null,
            "min_height": null,
            "min_width": null,
            "object_fit": null,
            "object_position": null,
            "order": null,
            "overflow": null,
            "overflow_x": null,
            "overflow_y": null,
            "padding": null,
            "right": null,
            "top": null,
            "visibility": null,
            "width": null
          }
        },
        "2b7147dc59174a348579065f387378cb": {
          "model_module": "@jupyter-widgets/controls",
          "model_name": "ProgressStyleModel",
          "model_module_version": "1.5.0",
          "state": {
            "_model_module": "@jupyter-widgets/controls",
            "_model_module_version": "1.5.0",
            "_model_name": "ProgressStyleModel",
            "_view_count": null,
            "_view_module": "@jupyter-widgets/base",
            "_view_module_version": "1.2.0",
            "_view_name": "StyleView",
            "bar_color": null,
            "description_width": ""
          }
        },
        "6743f46cf3b14f43a6aa80c28f14fe51": {
          "model_module": "@jupyter-widgets/base",
          "model_name": "LayoutModel",
          "model_module_version": "1.2.0",
          "state": {
            "_model_module": "@jupyter-widgets/base",
            "_model_module_version": "1.2.0",
            "_model_name": "LayoutModel",
            "_view_count": null,
            "_view_module": "@jupyter-widgets/base",
            "_view_module_version": "1.2.0",
            "_view_name": "LayoutView",
            "align_content": null,
            "align_items": null,
            "align_self": null,
            "border": null,
            "bottom": null,
            "display": null,
            "flex": null,
            "flex_flow": null,
            "grid_area": null,
            "grid_auto_columns": null,
            "grid_auto_flow": null,
            "grid_auto_rows": null,
            "grid_column": null,
            "grid_gap": null,
            "grid_row": null,
            "grid_template_areas": null,
            "grid_template_columns": null,
            "grid_template_rows": null,
            "height": null,
            "justify_content": null,
            "justify_items": null,
            "left": null,
            "margin": null,
            "max_height": null,
            "max_width": null,
            "min_height": null,
            "min_width": null,
            "object_fit": null,
            "object_position": null,
            "order": null,
            "overflow": null,
            "overflow_x": null,
            "overflow_y": null,
            "padding": null,
            "right": null,
            "top": null,
            "visibility": null,
            "width": null
          }
        },
        "c26e3e9f3c1d4f0b8dc577fc3fe8b4b0": {
          "model_module": "@jupyter-widgets/controls",
          "model_name": "DescriptionStyleModel",
          "model_module_version": "1.5.0",
          "state": {
            "_model_module": "@jupyter-widgets/controls",
            "_model_module_version": "1.5.0",
            "_model_name": "DescriptionStyleModel",
            "_view_count": null,
            "_view_module": "@jupyter-widgets/base",
            "_view_module_version": "1.2.0",
            "_view_name": "StyleView",
            "description_width": ""
          }
        },
        "0b2ac90a36ca4310a9406aeeaf35ae7a": {
          "model_module": "@jupyter-widgets/controls",
          "model_name": "HBoxModel",
          "model_module_version": "1.5.0",
          "state": {
            "_dom_classes": [],
            "_model_module": "@jupyter-widgets/controls",
            "_model_module_version": "1.5.0",
            "_model_name": "HBoxModel",
            "_view_count": null,
            "_view_module": "@jupyter-widgets/controls",
            "_view_module_version": "1.5.0",
            "_view_name": "HBoxView",
            "box_style": "",
            "children": [
              "IPY_MODEL_dc26414a63a24219a7bdc943dfb0a3ad",
              "IPY_MODEL_84831a3e80594219bc2a837d09901649",
              "IPY_MODEL_7f4bc75ab1194020b2afe4966cce0a80"
            ],
            "layout": "IPY_MODEL_2e4c48cde383456b826840d1d5f5cd08"
          }
        },
        "dc26414a63a24219a7bdc943dfb0a3ad": {
          "model_module": "@jupyter-widgets/controls",
          "model_name": "HTMLModel",
          "model_module_version": "1.5.0",
          "state": {
            "_dom_classes": [],
            "_model_module": "@jupyter-widgets/controls",
            "_model_module_version": "1.5.0",
            "_model_name": "HTMLModel",
            "_view_count": null,
            "_view_module": "@jupyter-widgets/controls",
            "_view_module_version": "1.5.0",
            "_view_name": "HTMLView",
            "description": "",
            "description_tooltip": null,
            "layout": "IPY_MODEL_b1b969348bef4fc0b60b69936c5fd530",
            "placeholder": "​",
            "style": "IPY_MODEL_12c55c6216744de3a3a941e27a04c1f9",
            "value": "Map: 100%"
          }
        },
        "84831a3e80594219bc2a837d09901649": {
          "model_module": "@jupyter-widgets/controls",
          "model_name": "FloatProgressModel",
          "model_module_version": "1.5.0",
          "state": {
            "_dom_classes": [],
            "_model_module": "@jupyter-widgets/controls",
            "_model_module_version": "1.5.0",
            "_model_name": "FloatProgressModel",
            "_view_count": null,
            "_view_module": "@jupyter-widgets/controls",
            "_view_module_version": "1.5.0",
            "_view_name": "ProgressView",
            "bar_style": "success",
            "description": "",
            "description_tooltip": null,
            "layout": "IPY_MODEL_abee6facbd394107910d3212f0804588",
            "max": 3259,
            "min": 0,
            "orientation": "horizontal",
            "style": "IPY_MODEL_94e14acf54024f0489446434ac71f349",
            "value": 3259
          }
        },
        "7f4bc75ab1194020b2afe4966cce0a80": {
          "model_module": "@jupyter-widgets/controls",
          "model_name": "HTMLModel",
          "model_module_version": "1.5.0",
          "state": {
            "_dom_classes": [],
            "_model_module": "@jupyter-widgets/controls",
            "_model_module_version": "1.5.0",
            "_model_name": "HTMLModel",
            "_view_count": null,
            "_view_module": "@jupyter-widgets/controls",
            "_view_module_version": "1.5.0",
            "_view_name": "HTMLView",
            "description": "",
            "description_tooltip": null,
            "layout": "IPY_MODEL_732fd52da8b44128993d9e7315d8c9b7",
            "placeholder": "​",
            "style": "IPY_MODEL_5b24196ff99e4889b570ab4fec9ec35c",
            "value": " 3259/3259 [00:00&lt;00:00, 11942.81 examples/s]"
          }
        },
        "2e4c48cde383456b826840d1d5f5cd08": {
          "model_module": "@jupyter-widgets/base",
          "model_name": "LayoutModel",
          "model_module_version": "1.2.0",
          "state": {
            "_model_module": "@jupyter-widgets/base",
            "_model_module_version": "1.2.0",
            "_model_name": "LayoutModel",
            "_view_count": null,
            "_view_module": "@jupyter-widgets/base",
            "_view_module_version": "1.2.0",
            "_view_name": "LayoutView",
            "align_content": null,
            "align_items": null,
            "align_self": null,
            "border": null,
            "bottom": null,
            "display": null,
            "flex": null,
            "flex_flow": null,
            "grid_area": null,
            "grid_auto_columns": null,
            "grid_auto_flow": null,
            "grid_auto_rows": null,
            "grid_column": null,
            "grid_gap": null,
            "grid_row": null,
            "grid_template_areas": null,
            "grid_template_columns": null,
            "grid_template_rows": null,
            "height": null,
            "justify_content": null,
            "justify_items": null,
            "left": null,
            "margin": null,
            "max_height": null,
            "max_width": null,
            "min_height": null,
            "min_width": null,
            "object_fit": null,
            "object_position": null,
            "order": null,
            "overflow": null,
            "overflow_x": null,
            "overflow_y": null,
            "padding": null,
            "right": null,
            "top": null,
            "visibility": null,
            "width": null
          }
        },
        "b1b969348bef4fc0b60b69936c5fd530": {
          "model_module": "@jupyter-widgets/base",
          "model_name": "LayoutModel",
          "model_module_version": "1.2.0",
          "state": {
            "_model_module": "@jupyter-widgets/base",
            "_model_module_version": "1.2.0",
            "_model_name": "LayoutModel",
            "_view_count": null,
            "_view_module": "@jupyter-widgets/base",
            "_view_module_version": "1.2.0",
            "_view_name": "LayoutView",
            "align_content": null,
            "align_items": null,
            "align_self": null,
            "border": null,
            "bottom": null,
            "display": null,
            "flex": null,
            "flex_flow": null,
            "grid_area": null,
            "grid_auto_columns": null,
            "grid_auto_flow": null,
            "grid_auto_rows": null,
            "grid_column": null,
            "grid_gap": null,
            "grid_row": null,
            "grid_template_areas": null,
            "grid_template_columns": null,
            "grid_template_rows": null,
            "height": null,
            "justify_content": null,
            "justify_items": null,
            "left": null,
            "margin": null,
            "max_height": null,
            "max_width": null,
            "min_height": null,
            "min_width": null,
            "object_fit": null,
            "object_position": null,
            "order": null,
            "overflow": null,
            "overflow_x": null,
            "overflow_y": null,
            "padding": null,
            "right": null,
            "top": null,
            "visibility": null,
            "width": null
          }
        },
        "12c55c6216744de3a3a941e27a04c1f9": {
          "model_module": "@jupyter-widgets/controls",
          "model_name": "DescriptionStyleModel",
          "model_module_version": "1.5.0",
          "state": {
            "_model_module": "@jupyter-widgets/controls",
            "_model_module_version": "1.5.0",
            "_model_name": "DescriptionStyleModel",
            "_view_count": null,
            "_view_module": "@jupyter-widgets/base",
            "_view_module_version": "1.2.0",
            "_view_name": "StyleView",
            "description_width": ""
          }
        },
        "abee6facbd394107910d3212f0804588": {
          "model_module": "@jupyter-widgets/base",
          "model_name": "LayoutModel",
          "model_module_version": "1.2.0",
          "state": {
            "_model_module": "@jupyter-widgets/base",
            "_model_module_version": "1.2.0",
            "_model_name": "LayoutModel",
            "_view_count": null,
            "_view_module": "@jupyter-widgets/base",
            "_view_module_version": "1.2.0",
            "_view_name": "LayoutView",
            "align_content": null,
            "align_items": null,
            "align_self": null,
            "border": null,
            "bottom": null,
            "display": null,
            "flex": null,
            "flex_flow": null,
            "grid_area": null,
            "grid_auto_columns": null,
            "grid_auto_flow": null,
            "grid_auto_rows": null,
            "grid_column": null,
            "grid_gap": null,
            "grid_row": null,
            "grid_template_areas": null,
            "grid_template_columns": null,
            "grid_template_rows": null,
            "height": null,
            "justify_content": null,
            "justify_items": null,
            "left": null,
            "margin": null,
            "max_height": null,
            "max_width": null,
            "min_height": null,
            "min_width": null,
            "object_fit": null,
            "object_position": null,
            "order": null,
            "overflow": null,
            "overflow_x": null,
            "overflow_y": null,
            "padding": null,
            "right": null,
            "top": null,
            "visibility": null,
            "width": null
          }
        },
        "94e14acf54024f0489446434ac71f349": {
          "model_module": "@jupyter-widgets/controls",
          "model_name": "ProgressStyleModel",
          "model_module_version": "1.5.0",
          "state": {
            "_model_module": "@jupyter-widgets/controls",
            "_model_module_version": "1.5.0",
            "_model_name": "ProgressStyleModel",
            "_view_count": null,
            "_view_module": "@jupyter-widgets/base",
            "_view_module_version": "1.2.0",
            "_view_name": "StyleView",
            "bar_color": null,
            "description_width": ""
          }
        },
        "732fd52da8b44128993d9e7315d8c9b7": {
          "model_module": "@jupyter-widgets/base",
          "model_name": "LayoutModel",
          "model_module_version": "1.2.0",
          "state": {
            "_model_module": "@jupyter-widgets/base",
            "_model_module_version": "1.2.0",
            "_model_name": "LayoutModel",
            "_view_count": null,
            "_view_module": "@jupyter-widgets/base",
            "_view_module_version": "1.2.0",
            "_view_name": "LayoutView",
            "align_content": null,
            "align_items": null,
            "align_self": null,
            "border": null,
            "bottom": null,
            "display": null,
            "flex": null,
            "flex_flow": null,
            "grid_area": null,
            "grid_auto_columns": null,
            "grid_auto_flow": null,
            "grid_auto_rows": null,
            "grid_column": null,
            "grid_gap": null,
            "grid_row": null,
            "grid_template_areas": null,
            "grid_template_columns": null,
            "grid_template_rows": null,
            "height": null,
            "justify_content": null,
            "justify_items": null,
            "left": null,
            "margin": null,
            "max_height": null,
            "max_width": null,
            "min_height": null,
            "min_width": null,
            "object_fit": null,
            "object_position": null,
            "order": null,
            "overflow": null,
            "overflow_x": null,
            "overflow_y": null,
            "padding": null,
            "right": null,
            "top": null,
            "visibility": null,
            "width": null
          }
        },
        "5b24196ff99e4889b570ab4fec9ec35c": {
          "model_module": "@jupyter-widgets/controls",
          "model_name": "DescriptionStyleModel",
          "model_module_version": "1.5.0",
          "state": {
            "_model_module": "@jupyter-widgets/controls",
            "_model_module_version": "1.5.0",
            "_model_name": "DescriptionStyleModel",
            "_view_count": null,
            "_view_module": "@jupyter-widgets/base",
            "_view_module_version": "1.2.0",
            "_view_name": "StyleView",
            "description_width": ""
          }
        }
      }
    }
  },
  "nbformat": 4,
  "nbformat_minor": 0
}