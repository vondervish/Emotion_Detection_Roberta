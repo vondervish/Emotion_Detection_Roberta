{
  "nbformat": 4,
  "nbformat_minor": 0,
  "metadata": {
    "colab": {
      "provenance": [],
      "machine_shape": "hm"
    },
    "kernelspec": {
      "name": "python3",
      "display_name": "Python 3"
    },
    "language_info": {
      "name": "python"
    }
  },
  "cells": [
    {
      "cell_type": "code",
      "execution_count": null,
      "metadata": {
        "colab": {
          "base_uri": "https://localhost:8080/"
        },
        "id": "JmI3rCYmCUZH",
        "outputId": "b4c1ba0f-116c-4c9c-e72e-e3eca7df3a98"
      },
      "outputs": [
        {
          "output_type": "stream",
          "name": "stdout",
          "text": [
            "Requirement already satisfied: openai in /usr/local/lib/python3.10/dist-packages (0.28.0)\n",
            "Requirement already satisfied: requests>=2.20 in /usr/local/lib/python3.10/dist-packages (from openai) (2.32.3)\n",
            "Requirement already satisfied: tqdm in /usr/local/lib/python3.10/dist-packages (from openai) (4.66.6)\n",
            "Requirement already satisfied: aiohttp in /usr/local/lib/python3.10/dist-packages (from openai) (3.11.10)\n",
            "Requirement already satisfied: charset-normalizer<4,>=2 in /usr/local/lib/python3.10/dist-packages (from requests>=2.20->openai) (3.4.0)\n",
            "Requirement already satisfied: idna<4,>=2.5 in /usr/local/lib/python3.10/dist-packages (from requests>=2.20->openai) (3.10)\n",
            "Requirement already satisfied: urllib3<3,>=1.21.1 in /usr/local/lib/python3.10/dist-packages (from requests>=2.20->openai) (2.2.3)\n",
            "Requirement already satisfied: certifi>=2017.4.17 in /usr/local/lib/python3.10/dist-packages (from requests>=2.20->openai) (2024.8.30)\n",
            "Requirement already satisfied: aiohappyeyeballs>=2.3.0 in /usr/local/lib/python3.10/dist-packages (from aiohttp->openai) (2.4.4)\n",
            "Requirement already satisfied: aiosignal>=1.1.2 in /usr/local/lib/python3.10/dist-packages (from aiohttp->openai) (1.3.1)\n",
            "Requirement already satisfied: async-timeout<6.0,>=4.0 in /usr/local/lib/python3.10/dist-packages (from aiohttp->openai) (4.0.3)\n",
            "Requirement already satisfied: attrs>=17.3.0 in /usr/local/lib/python3.10/dist-packages (from aiohttp->openai) (24.2.0)\n",
            "Requirement already satisfied: frozenlist>=1.1.1 in /usr/local/lib/python3.10/dist-packages (from aiohttp->openai) (1.5.0)\n",
            "Requirement already satisfied: multidict<7.0,>=4.5 in /usr/local/lib/python3.10/dist-packages (from aiohttp->openai) (6.1.0)\n",
            "Requirement already satisfied: propcache>=0.2.0 in /usr/local/lib/python3.10/dist-packages (from aiohttp->openai) (0.2.1)\n",
            "Requirement already satisfied: yarl<2.0,>=1.17.0 in /usr/local/lib/python3.10/dist-packages (from aiohttp->openai) (1.18.3)\n",
            "Requirement already satisfied: typing-extensions>=4.1.0 in /usr/local/lib/python3.10/dist-packages (from multidict<7.0,>=4.5->aiohttp->openai) (4.12.2)\n"
          ]
        }
      ],
      "source": [
        "pip install openai"
      ]
    },
    {
      "cell_type": "code",
      "source": [
        "!pip install datasets"
      ],
      "metadata": {
        "colab": {
          "base_uri": "https://localhost:8080/"
        },
        "id": "K_ms7fQZJlEj",
        "outputId": "6a2f9ed2-19b5-425b-cbbe-34f4624acdd6"
      },
      "execution_count": null,
      "outputs": [
        {
          "output_type": "stream",
          "name": "stdout",
          "text": [
            "Requirement already satisfied: datasets in /usr/local/lib/python3.10/dist-packages (3.2.0)\n",
            "Requirement already satisfied: filelock in /usr/local/lib/python3.10/dist-packages (from datasets) (3.16.1)\n",
            "Requirement already satisfied: numpy>=1.17 in /usr/local/lib/python3.10/dist-packages (from datasets) (1.26.4)\n",
            "Requirement already satisfied: pyarrow>=15.0.0 in /usr/local/lib/python3.10/dist-packages (from datasets) (17.0.0)\n",
            "Requirement already satisfied: dill<0.3.9,>=0.3.0 in /usr/local/lib/python3.10/dist-packages (from datasets) (0.3.8)\n",
            "Requirement already satisfied: pandas in /usr/local/lib/python3.10/dist-packages (from datasets) (2.2.2)\n",
            "Requirement already satisfied: requests>=2.32.2 in /usr/local/lib/python3.10/dist-packages (from datasets) (2.32.3)\n",
            "Requirement already satisfied: tqdm>=4.66.3 in /usr/local/lib/python3.10/dist-packages (from datasets) (4.66.6)\n",
            "Requirement already satisfied: xxhash in /usr/local/lib/python3.10/dist-packages (from datasets) (3.5.0)\n",
            "Requirement already satisfied: multiprocess<0.70.17 in /usr/local/lib/python3.10/dist-packages (from datasets) (0.70.16)\n",
            "Requirement already satisfied: fsspec<=2024.9.0,>=2023.1.0 in /usr/local/lib/python3.10/dist-packages (from fsspec[http]<=2024.9.0,>=2023.1.0->datasets) (2024.9.0)\n",
            "Requirement already satisfied: aiohttp in /usr/local/lib/python3.10/dist-packages (from datasets) (3.11.10)\n",
            "Requirement already satisfied: huggingface-hub>=0.23.0 in /usr/local/lib/python3.10/dist-packages (from datasets) (0.26.5)\n",
            "Requirement already satisfied: packaging in /usr/local/lib/python3.10/dist-packages (from datasets) (24.2)\n",
            "Requirement already satisfied: pyyaml>=5.1 in /usr/local/lib/python3.10/dist-packages (from datasets) (6.0.2)\n",
            "Requirement already satisfied: aiohappyeyeballs>=2.3.0 in /usr/local/lib/python3.10/dist-packages (from aiohttp->datasets) (2.4.4)\n",
            "Requirement already satisfied: aiosignal>=1.1.2 in /usr/local/lib/python3.10/dist-packages (from aiohttp->datasets) (1.3.1)\n",
            "Requirement already satisfied: async-timeout<6.0,>=4.0 in /usr/local/lib/python3.10/dist-packages (from aiohttp->datasets) (4.0.3)\n",
            "Requirement already satisfied: attrs>=17.3.0 in /usr/local/lib/python3.10/dist-packages (from aiohttp->datasets) (24.2.0)\n",
            "Requirement already satisfied: frozenlist>=1.1.1 in /usr/local/lib/python3.10/dist-packages (from aiohttp->datasets) (1.5.0)\n",
            "Requirement already satisfied: multidict<7.0,>=4.5 in /usr/local/lib/python3.10/dist-packages (from aiohttp->datasets) (6.1.0)\n",
            "Requirement already satisfied: propcache>=0.2.0 in /usr/local/lib/python3.10/dist-packages (from aiohttp->datasets) (0.2.1)\n",
            "Requirement already satisfied: yarl<2.0,>=1.17.0 in /usr/local/lib/python3.10/dist-packages (from aiohttp->datasets) (1.18.3)\n",
            "Requirement already satisfied: typing-extensions>=3.7.4.3 in /usr/local/lib/python3.10/dist-packages (from huggingface-hub>=0.23.0->datasets) (4.12.2)\n",
            "Requirement already satisfied: charset-normalizer<4,>=2 in /usr/local/lib/python3.10/dist-packages (from requests>=2.32.2->datasets) (3.4.0)\n",
            "Requirement already satisfied: idna<4,>=2.5 in /usr/local/lib/python3.10/dist-packages (from requests>=2.32.2->datasets) (3.10)\n",
            "Requirement already satisfied: urllib3<3,>=1.21.1 in /usr/local/lib/python3.10/dist-packages (from requests>=2.32.2->datasets) (2.2.3)\n",
            "Requirement already satisfied: certifi>=2017.4.17 in /usr/local/lib/python3.10/dist-packages (from requests>=2.32.2->datasets) (2024.8.30)\n",
            "Requirement already satisfied: python-dateutil>=2.8.2 in /usr/local/lib/python3.10/dist-packages (from pandas->datasets) (2.8.2)\n",
            "Requirement already satisfied: pytz>=2020.1 in /usr/local/lib/python3.10/dist-packages (from pandas->datasets) (2024.2)\n",
            "Requirement already satisfied: tzdata>=2022.7 in /usr/local/lib/python3.10/dist-packages (from pandas->datasets) (2024.2)\n",
            "Requirement already satisfied: six>=1.5 in /usr/local/lib/python3.10/dist-packages (from python-dateutil>=2.8.2->pandas->datasets) (1.17.0)\n"
          ]
        }
      ]
    },
    {
      "cell_type": "code",
      "source": [
        "if 'google.colab' in str(get_ipython()):\n",
        "    from google.colab import drive\n",
        "    drive.mount('/content/drive')\n",
        "\n",
        "    !pip install transformers evaluate wandb datasets accelerate peft bitsandbytes trl fsspec -U  -qq\n",
        "\n",
        "    basepath = '/content/drive/MyDrive/Data'\n",
        "\n",
        "else:\n",
        "    basepath = '/C:/Users/Vishu/Downloads/Fall_2024/App_NLP'"
      ],
      "metadata": {
        "colab": {
          "base_uri": "https://localhost:8080/"
        },
        "id": "7WbzuknAEkkI",
        "outputId": "c69a43fa-75f2-45fe-a073-36a3f968a6dc"
      },
      "execution_count": null,
      "outputs": [
        {
          "output_type": "stream",
          "name": "stdout",
          "text": [
            "Drive already mounted at /content/drive; to attempt to forcibly remount, call drive.mount(\"/content/drive\", force_remount=True).\n"
          ]
        }
      ]
    },
    {
      "cell_type": "code",
      "source": [
        "import os\n",
        "import openai\n",
        "import pandas as pd\n",
        "from datasets import load_dataset\n",
        "from pathlib import Path"
      ],
      "metadata": {
        "id": "iuX8r5Z8Ftu_"
      },
      "execution_count": null,
      "outputs": []
    },
    {
      "cell_type": "code",
      "source": [
        "base_folder = Path(basepath)\n",
        "data_folder = base_folder/'emotion-detection-bert-fall-2024'\n",
        "model_folder = base_folder/'Models/Emotion_detection_Llama_languagehead_fall_2024'"
      ],
      "metadata": {
        "id": "empRjqa_EtN0"
      },
      "execution_count": null,
      "outputs": []
    },
    {
      "cell_type": "code",
      "source": [
        "model_folder.mkdir(exist_ok=True, parents = True)"
      ],
      "metadata": {
        "id": "YTVyTFYCEvHq"
      },
      "execution_count": null,
      "outputs": []
    },
    {
      "cell_type": "code",
      "source": [
        "model_folder"
      ],
      "metadata": {
        "colab": {
          "base_uri": "https://localhost:8080/"
        },
        "id": "mCuZtw9eEwsc",
        "outputId": "b5fda165-ca04-475e-dfd9-d049a58c1e7b"
      },
      "execution_count": null,
      "outputs": [
        {
          "output_type": "execute_result",
          "data": {
            "text/plain": [
              "PosixPath('/content/drive/MyDrive/Data/Models/Emotion_detection_Llama_languagehead_fall_2024')"
            ]
          },
          "metadata": {},
          "execution_count": 7
        }
      ]
    },
    {
      "cell_type": "code",
      "source": [
        "test_dataset = data_folder/'test.csv'"
      ],
      "metadata": {
        "id": "4DzEi9aCEyiK"
      },
      "execution_count": null,
      "outputs": []
    },
    {
      "cell_type": "code",
      "source": [
        "from datasets import load_dataset\n",
        "\n",
        "# Load the test dataset from CSV files\n",
        "test_dataset = load_dataset('csv', data_files={'test': str(data_folder / 'test.csv')})['test']"
      ],
      "metadata": {
        "id": "0J5uhxggE0hf"
      },
      "execution_count": null,
      "outputs": []
    },
    {
      "cell_type": "code",
      "source": [
        "# Define emotion labels\n",
        "emotions = ['anger', 'anticipation', 'disgust', 'fear', 'joy', 'love', 'optimism', 'pessimism', 'sadness', 'surprise', 'trust']"
      ],
      "metadata": {
        "id": "Z2xZ7ts6FiYa"
      },
      "execution_count": null,
      "outputs": []
    },
    {
      "cell_type": "code",
      "source": [
        "from google.colab import userdata"
      ],
      "metadata": {
        "id": "zdese_WCLhje"
      },
      "execution_count": null,
      "outputs": []
    },
    {
      "cell_type": "code",
      "source": [
        "!pip install openai==0.28"
      ],
      "metadata": {
        "colab": {
          "base_uri": "https://localhost:8080/"
        },
        "id": "xZEeUAaPMbFT",
        "outputId": "19f1b6b9-5cb9-4f36-ca2f-7d26dffbc405"
      },
      "execution_count": null,
      "outputs": [
        {
          "output_type": "stream",
          "name": "stdout",
          "text": [
            "Requirement already satisfied: openai==0.28 in /usr/local/lib/python3.10/dist-packages (0.28.0)\n",
            "Requirement already satisfied: requests>=2.20 in /usr/local/lib/python3.10/dist-packages (from openai==0.28) (2.32.3)\n",
            "Requirement already satisfied: tqdm in /usr/local/lib/python3.10/dist-packages (from openai==0.28) (4.66.6)\n",
            "Requirement already satisfied: aiohttp in /usr/local/lib/python3.10/dist-packages (from openai==0.28) (3.11.10)\n",
            "Requirement already satisfied: charset-normalizer<4,>=2 in /usr/local/lib/python3.10/dist-packages (from requests>=2.20->openai==0.28) (3.4.0)\n",
            "Requirement already satisfied: idna<4,>=2.5 in /usr/local/lib/python3.10/dist-packages (from requests>=2.20->openai==0.28) (3.10)\n",
            "Requirement already satisfied: urllib3<3,>=1.21.1 in /usr/local/lib/python3.10/dist-packages (from requests>=2.20->openai==0.28) (2.2.3)\n",
            "Requirement already satisfied: certifi>=2017.4.17 in /usr/local/lib/python3.10/dist-packages (from requests>=2.20->openai==0.28) (2024.8.30)\n",
            "Requirement already satisfied: aiohappyeyeballs>=2.3.0 in /usr/local/lib/python3.10/dist-packages (from aiohttp->openai==0.28) (2.4.4)\n",
            "Requirement already satisfied: aiosignal>=1.1.2 in /usr/local/lib/python3.10/dist-packages (from aiohttp->openai==0.28) (1.3.1)\n",
            "Requirement already satisfied: async-timeout<6.0,>=4.0 in /usr/local/lib/python3.10/dist-packages (from aiohttp->openai==0.28) (4.0.3)\n",
            "Requirement already satisfied: attrs>=17.3.0 in /usr/local/lib/python3.10/dist-packages (from aiohttp->openai==0.28) (24.2.0)\n",
            "Requirement already satisfied: frozenlist>=1.1.1 in /usr/local/lib/python3.10/dist-packages (from aiohttp->openai==0.28) (1.5.0)\n",
            "Requirement already satisfied: multidict<7.0,>=4.5 in /usr/local/lib/python3.10/dist-packages (from aiohttp->openai==0.28) (6.1.0)\n",
            "Requirement already satisfied: propcache>=0.2.0 in /usr/local/lib/python3.10/dist-packages (from aiohttp->openai==0.28) (0.2.1)\n",
            "Requirement already satisfied: yarl<2.0,>=1.17.0 in /usr/local/lib/python3.10/dist-packages (from aiohttp->openai==0.28) (1.18.3)\n",
            "Requirement already satisfied: typing-extensions>=4.1.0 in /usr/local/lib/python3.10/dist-packages (from multidict<7.0,>=4.5->aiohttp->openai==0.28) (4.12.2)\n"
          ]
        }
      ]
    },
    {
      "cell_type": "code",
      "source": [
        "!pip show openai"
      ],
      "metadata": {
        "colab": {
          "base_uri": "https://localhost:8080/"
        },
        "id": "IaLOye3bM9BQ",
        "outputId": "f42a3514-cba3-430b-891f-39dd6002bcca"
      },
      "execution_count": null,
      "outputs": [
        {
          "output_type": "stream",
          "name": "stdout",
          "text": [
            "Name: openai\n",
            "Version: 0.28.0\n",
            "Summary: Python client library for the OpenAI API\n",
            "Home-page: https://github.com/openai/openai-python\n",
            "Author: OpenAI\n",
            "Author-email: support@openai.com\n",
            "License: \n",
            "Location: /usr/local/lib/python3.10/dist-packages\n",
            "Requires: aiohttp, requests, tqdm\n",
            "Required-by: \n"
          ]
        }
      ]
    },
    {
      "cell_type": "code",
      "source": [
        "import openai\n",
        "\n",
        "openai.api_key = userdata.get(\"OPENAI_API_KEY\")\n",
        "\n",
        "try:\n",
        "    response = openai.Model.list()\n",
        "    print(\"API Key is working. Available models:\", [model['id'] for model in response['data']])\n",
        "except Exception as e:\n",
        "    print(\"An error occurred:\", str(e))"
      ],
      "metadata": {
        "colab": {
          "base_uri": "https://localhost:8080/"
        },
        "id": "VAs4cbBkPGI8",
        "outputId": "60c56d6e-f92b-44bb-cb8c-eb0cf9e9a080"
      },
      "execution_count": null,
      "outputs": [
        {
          "output_type": "stream",
          "name": "stdout",
          "text": [
            "API Key is working. Available models: ['text-embedding-3-small', 'gpt-4o-realtime-preview', 'dall-e-2', 'gpt-4o-realtime-preview-2024-10-01', 'o1-mini-2024-09-12', 'gpt-4-1106-preview', 'o1-mini', 'gpt-3.5-turbo-instruct', 'babbage-002', 'davinci-002', 'whisper-1', 'dall-e-3', 'text-embedding-ada-002', 'gpt-3.5-turbo-16k', 'gpt-4-0125-preview', 'o1-preview-2024-09-12', 'gpt-4-turbo-preview', 'omni-moderation-latest', 'gpt-4o-2024-05-13', 'omni-moderation-2024-09-26', 'tts-1-hd-1106', 'chatgpt-4o-latest', 'gpt-4', 'gpt-4-0613', 'o1-preview', 'gpt-4o', 'gpt-3.5-turbo', 'gpt-4o-2024-08-06', 'gpt-3.5-turbo-0125', 'gpt-4o-mini', 'gpt-4o-mini-2024-07-18', 'gpt-4o-2024-11-20', 'gpt-4-turbo', 'tts-1-hd', 'gpt-4-turbo-2024-04-09', 'gpt-3.5-turbo-1106', 'gpt-4o-audio-preview', 'gpt-4o-audio-preview-2024-10-01', 'tts-1', 'tts-1-1106', 'gpt-3.5-turbo-instruct-0914', 'text-embedding-3-large']\n"
          ]
        }
      ]
    },
    {
      "cell_type": "code",
      "source": [
        "# Define the prompt template for few-shot classification\n",
        "few_shot_examples = \"\"\"\n",
        "Classify the following tweet into one or more applicable emotions from the list below:\n",
        "[\"anger\", \"anticipation\", \"disgust\", \"fear\", \"joy\", \"love\", \"optimism\", \"pessimism\", \"sadness\", \"surprise\", \"trust\"]\n",
        "\n",
        "Example 1:\n",
        "Tweet: \"I can't believe this happened. It's so unfair!\"\n",
        "Emotions: anger, sadness\n",
        "\n",
        "Example 2:\n",
        "Tweet: \"Looking forward to the big event tomorrow!\"\n",
        "Emotions: anticipation, optimism\n",
        "\n",
        "Example 3:\n",
        "Tweet: \"This food tastes horrible!\"\n",
        "Emotions: disgust\n",
        "\n",
        "Now classify this tweet:\n",
        "Tweet: \"{}\"\n",
        "\n",
        "Please respond with a comma-separated list of emotions.\n",
        "\"\"\"\n",
        "\n",
        "# Function to call ChatGPT for few-shot classification\n",
        "def classify_tweet_few_shot(tweet):\n",
        "    try:\n",
        "        prompt = few_shot_examples.format(tweet)\n",
        "        response = openai.ChatCompletion.create(\n",
        "            model=\"gpt-4o-mini\",  # Use \"gpt-4\" if available for better results\n",
        "            messages=[\n",
        "                {\"role\": \"system\", \"content\": \"You are an expert emotion classifier.\"},\n",
        "                {\"role\": \"user\", \"content\": prompt}\n",
        "            ],\n",
        "            max_tokens=50,  # Adjust based on expected response length\n",
        "            temperature=0.0  # Set to 0 for deterministic outputs\n",
        "        )\n",
        "        # Extract and clean the model's output\n",
        "        return response['choices'][0]['message']['content'].strip()\n",
        "    except Exception as e:\n",
        "        print(f\"Error classifying tweet: {tweet}\\n{e}\")\n",
        "        return \"\"  # Return an empty string if an error occurs\n",
        "\n",
        "# Run inference on the test dataset\n",
        "test_predictions = []\n",
        "for tweet in test_dataset['Tweet']:\n",
        "    predicted_emotions = classify_tweet_few_shot(tweet)\n",
        "    test_predictions.append(predicted_emotions)\n",
        "\n",
        "# Convert predictions to one-hot encoding\n",
        "def one_hot_encode(predicted_emotions, class_names):\n",
        "    # Handle unexpected response formats gracefully\n",
        "    predicted_emotions = [emotion.strip() for emotion in predicted_emotions.split(\",\") if emotion.strip() in class_names]\n",
        "    return [1 if emotion in predicted_emotions else 0 for emotion in class_names]\n",
        "\n",
        "# Extract IDs and convert predictions to one-hot encoding\n",
        "test_ids = test_dataset['ID']\n",
        "binary_predictions = [one_hot_encode(prediction, emotions) for prediction in test_predictions]\n",
        "\n",
        "# Combine IDs and binary predictions into a DataFrame\n",
        "df = pd.DataFrame(binary_predictions, columns=emotions)\n",
        "df.insert(0, \"ID\", test_ids)  # Add the ID column at the start\n",
        "\n",
        "# Save the results to a CSV file\n",
        "output_file = \"test_predictions_with_ids_few_shot.csv\"\n",
        "df.to_csv(output_file, index=False)\n",
        "print(f\"ID and one-hot encoded labels saved to '{output_file}'\")\n",
        "\n",
        "# Display the DataFrame\n",
        "print(df.head())"
      ],
      "metadata": {
        "colab": {
          "base_uri": "https://localhost:8080/"
        },
        "id": "kbV0XgNJHkqQ",
        "outputId": "722f2a0a-be64-4a67-b6db-ec32e75ee35c"
      },
      "execution_count": null,
      "outputs": [
        {
          "output_type": "stream",
          "name": "stdout",
          "text": [
            "ID and one-hot encoded labels saved to 'test_predictions_with_ids_few_shot.csv'\n",
            "           ID  anger  anticipation  disgust  fear  joy  love  optimism  \\\n",
            "0  2018-01559      1             1        0     0    0     0         0   \n",
            "1  2018-03739      0             0        1     1    0     0         0   \n",
            "2  2018-00385      1             0        0     0    0     0         0   \n",
            "3  2018-03001      0             0        0     0    0     0         0   \n",
            "4  2018-01988      0             0        0     1    0     0         0   \n",
            "\n",
            "   pessimism  sadness  surprise  trust  \n",
            "0          0        0         0      0  \n",
            "1          0        1         0      0  \n",
            "2          0        1         0      0  \n",
            "3          0        1         0      0  \n",
            "4          0        1         0      0  \n"
          ]
        }
      ]
    },
    {
      "cell_type": "markdown",
      "source": [
        "# New Section"
      ],
      "metadata": {
        "id": "byLzm7-GIHmw"
      }
    }
  ]
}